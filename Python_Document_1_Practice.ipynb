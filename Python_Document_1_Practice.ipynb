{
  "cells": [
    {
      "cell_type": "markdown",
      "metadata": {
        "id": "I5EW-ZaSPOhQ"
      },
      "source": [
        "# Week 2 - Monday Lesson (variable assignment, loops, lists)"
      ]
    },
    {
      "cell_type": "markdown",
      "metadata": {
        "id": "rTwG40O2POhT"
      },
      "source": [
        "## Tasks Today:\n",
        "\n",
        "1) Int & Float assignments <br>\n",
        " &nbsp;&nbsp;&nbsp;&nbsp; a) Assigning int <br>\n",
        " &nbsp;&nbsp;&nbsp;&nbsp; b) Assigning float <br>\n",
        " &nbsp;&nbsp;&nbsp;&nbsp; c) Performing Calculations on ints and floats <br>\n",
        " &nbsp;&nbsp;&nbsp;&nbsp;&nbsp;&nbsp;&nbsp;&nbsp; - Addition <br>\n",
        " &nbsp;&nbsp;&nbsp;&nbsp;&nbsp;&nbsp;&nbsp;&nbsp; - Subtraction <br>\n",
        " &nbsp;&nbsp;&nbsp;&nbsp;&nbsp;&nbsp;&nbsp;&nbsp; - Multiplication <br>\n",
        " &nbsp;&nbsp;&nbsp;&nbsp;&nbsp;&nbsp;&nbsp;&nbsp; - Division <br>\n",
        " &nbsp;&nbsp;&nbsp;&nbsp;&nbsp;&nbsp;&nbsp;&nbsp; - Floor Division <br>\n",
        " &nbsp;&nbsp;&nbsp;&nbsp;&nbsp;&nbsp;&nbsp;&nbsp; - Modulo <br>\n",
        " &nbsp;&nbsp;&nbsp;&nbsp;&nbsp;&nbsp;&nbsp;&nbsp; - Exponential <br>\n",
        "2) String Input-Output <br>\n",
        " &nbsp;&nbsp;&nbsp;&nbsp; a) String Assignment <br>\n",
        " &nbsp;&nbsp;&nbsp;&nbsp; b) print() <br>\n",
        " &nbsp;&nbsp;&nbsp;&nbsp; c) String Concatenation <br>\n",
        " &nbsp;&nbsp;&nbsp;&nbsp; d) Type Conversion <br>\n",
        " &nbsp;&nbsp;&nbsp;&nbsp; e) input() <br>\n",
        " &nbsp;&nbsp;&nbsp;&nbsp; f) format() <br>\n",
        " &nbsp;&nbsp;&nbsp;&nbsp; g) Old Way (python 2) <br>\n",
        "3) <b>In-Class Exercise #1</b> <br>\n",
        "4) If Statements <br>\n",
        " &nbsp;&nbsp;&nbsp;&nbsp; a) 'is' keyword <br>\n",
        " &nbsp;&nbsp;&nbsp;&nbsp; b) 'in' keyword <br>\n",
        " &nbsp;&nbsp;&nbsp;&nbsp; c) 'not in' keyword <br>\n",
        "5) <b>In-Class Exercise #2</b> <br>\n",
        "6) Elif Statements <br>\n",
        "7) Else Statements <br>\n",
        "8) <b>In-Class Exercise #3</b> <br>\n",
        "9) For Loops <br>\n",
        " &nbsp;&nbsp;&nbsp;&nbsp; a) Using 'in' keyword <br>\n",
        " &nbsp;&nbsp;&nbsp;&nbsp; b) Continue Statement <br>\n",
        " &nbsp;&nbsp;&nbsp;&nbsp; c) Break Statement <br>\n",
        " &nbsp;&nbsp;&nbsp;&nbsp; d) Pass Statement <br>\n",
        " &nbsp;&nbsp;&nbsp;&nbsp; e) Double For Loops <br>\n",
        "10) While Loops <br>\n",
        " &nbsp;&nbsp;&nbsp;&nbsp; a) Looping 'While True' <br>\n",
        " &nbsp;&nbsp;&nbsp;&nbsp; b) While and For Loops Used Together <br>\n",
        "11) Built-In Functions <br>\n",
        " &nbsp;&nbsp;&nbsp;&nbsp; a) range() <br>\n",
        " &nbsp;&nbsp;&nbsp;&nbsp; b) len() <br>\n",
        " &nbsp;&nbsp;&nbsp;&nbsp; c) help() <br>\n",
        " &nbsp;&nbsp;&nbsp;&nbsp; d) isinstance() <br>\n",
        " &nbsp;&nbsp;&nbsp;&nbsp; e) abs() <br>\n",
        "12) Try and Except <br>\n",
        "13) Lists <br>\n",
        " &nbsp;&nbsp;&nbsp;&nbsp; a) Declaring Lists <br>\n",
        " &nbsp;&nbsp;&nbsp;&nbsp; b) Indexing a List <br>\n",
        " &nbsp;&nbsp;&nbsp;&nbsp; c) .append() <br>\n",
        " &nbsp;&nbsp;&nbsp;&nbsp; d) .insert() <br>\n",
        " &nbsp;&nbsp;&nbsp;&nbsp; e) .pop() <br>\n",
        " &nbsp;&nbsp;&nbsp;&nbsp; f) .remove() <br>\n",
        " &nbsp;&nbsp;&nbsp;&nbsp; g) del() <br>\n",
        " &nbsp;&nbsp;&nbsp;&nbsp; h) Concatenating Two Lists <br>\n",
        " &nbsp;&nbsp;&nbsp;&nbsp; i) Lists Within Lists <br>\n",
        " &nbsp;&nbsp;&nbsp;&nbsp; j) Looping Through Lists <br>"
      ]
    },
    {
      "cell_type": "markdown",
      "metadata": {
        "id": "x8G0wsh3POhU"
      },
      "source": [
        "### Int & Float Assignments"
      ]
    },
    {
      "cell_type": "markdown",
      "metadata": {
        "id": "x4aGWahcPOhV"
      },
      "source": [
        "##### Assigning int"
      ]
    },
    {
      "cell_type": "code",
      "execution_count": null,
      "metadata": {
        "id": "BWjIYlriPOhV",
        "outputId": "465dd52e-7549-46da-89ac-de5798880a33"
      },
      "outputs": [
        {
          "name": "stdout",
          "output_type": "stream",
          "text": [
            "6\n"
          ]
        }
      ],
      "source": [
        "number = 6\n",
        "print(number)"
      ]
    },
    {
      "cell_type": "markdown",
      "metadata": {
        "id": "p-Mf0BTMPOhX"
      },
      "source": [
        "##### Assinging float"
      ]
    },
    {
      "cell_type": "code",
      "execution_count": null,
      "metadata": {
        "id": "cweuQiAqPOhX",
        "outputId": "7910f84d-746a-4308-9220-fbc70156d3e0"
      },
      "outputs": [
        {
          "name": "stdout",
          "output_type": "stream",
          "text": [
            "22.5\n"
          ]
        }
      ],
      "source": [
        "print(float(22.5))"
      ]
    },
    {
      "cell_type": "markdown",
      "metadata": {
        "id": "mGrsk0dEPOhY"
      },
      "source": [
        "### Performing Calculations on ints and floats"
      ]
    },
    {
      "cell_type": "markdown",
      "metadata": {
        "id": "J0onDGWXPOhY"
      },
      "source": [
        "##### Addition"
      ]
    },
    {
      "cell_type": "code",
      "execution_count": null,
      "metadata": {
        "id": "bt1RLxLqPOhY",
        "outputId": "d89bb70c-15f5-4120-ce8d-b3bde1f71932"
      },
      "outputs": [
        {
          "name": "stdout",
          "output_type": "stream",
          "text": [
            "44.6\n"
          ]
        }
      ],
      "source": [
        "print(float(22.6) + int(22.88))"
      ]
    },
    {
      "cell_type": "markdown",
      "metadata": {
        "id": "VsMqVexcPOhY"
      },
      "source": [
        "##### Subtraction"
      ]
    },
    {
      "cell_type": "code",
      "execution_count": null,
      "metadata": {
        "id": "7khDsE_1POhY",
        "outputId": "47e8f65d-22df-4621-a44e-1369d78d9a6d"
      },
      "outputs": [
        {
          "name": "stdout",
          "output_type": "stream",
          "text": [
            "-0.2799999999999976\n"
          ]
        }
      ],
      "source": [
        "print(float(22.6) - float(22.88))"
      ]
    },
    {
      "cell_type": "markdown",
      "metadata": {
        "id": "TdTZyC4VPOhY"
      },
      "source": [
        "##### Multiplication"
      ]
    },
    {
      "cell_type": "code",
      "execution_count": null,
      "metadata": {
        "id": "Qe9kWOesPOhZ",
        "outputId": "b71de80e-fe47-4fd2-fee2-354c5a7c71c8"
      },
      "outputs": [
        {
          "name": "stdout",
          "output_type": "stream",
          "text": [
            "3.75\n"
          ]
        }
      ],
      "source": [
        "print(2.5*1.5)"
      ]
    },
    {
      "cell_type": "markdown",
      "metadata": {
        "id": "we6Tf3NVPOhZ"
      },
      "source": [
        "##### Division"
      ]
    },
    {
      "cell_type": "code",
      "execution_count": null,
      "metadata": {
        "id": "5ZwG1q5aPOhZ",
        "outputId": "99b7e521-32c8-46bf-d874-1e31a6002b46"
      },
      "outputs": [
        {
          "data": {
            "text/plain": [
              "0.51"
            ]
          },
          "execution_count": 6,
          "metadata": {},
          "output_type": "execute_result"
        }
      ],
      "source": [
        "2.55/5"
      ]
    },
    {
      "cell_type": "markdown",
      "metadata": {
        "id": "BpjrObDNPOhZ"
      },
      "source": [
        "##### Floor Division"
      ]
    },
    {
      "cell_type": "code",
      "execution_count": null,
      "metadata": {
        "id": "bGYKvCIwPOhZ",
        "outputId": "e0a7a349-3c0f-4aed-c0c3-c222c2383a2d"
      },
      "outputs": [
        {
          "name": "stdout",
          "output_type": "stream",
          "text": [
            "2.5\n",
            "2\n"
          ]
        }
      ],
      "source": [
        "print(5/2)\n",
        "print(5//2)"
      ]
    },
    {
      "cell_type": "markdown",
      "metadata": {
        "id": "HFEX38ZuPOhZ"
      },
      "source": [
        "##### Modulo"
      ]
    },
    {
      "cell_type": "code",
      "execution_count": null,
      "metadata": {
        "id": "lHYyQn23POhZ",
        "outputId": "952e7590-a0e9-4eb0-bbf1-67761e689a83"
      },
      "outputs": [
        {
          "data": {
            "text/plain": [
              "1"
            ]
          },
          "execution_count": 8,
          "metadata": {},
          "output_type": "execute_result"
        }
      ],
      "source": [
        "5%2"
      ]
    },
    {
      "cell_type": "markdown",
      "metadata": {
        "id": "YbUqzAKrPOhZ"
      },
      "source": [
        "##### Exponential"
      ]
    },
    {
      "cell_type": "code",
      "execution_count": null,
      "metadata": {
        "id": "ZN6Rsfj3POha",
        "outputId": "42253b92-7859-44a1-a4f5-650ebeb0562c"
      },
      "outputs": [
        {
          "data": {
            "text/plain": [
              "25"
            ]
          },
          "execution_count": 9,
          "metadata": {},
          "output_type": "execute_result"
        }
      ],
      "source": [
        "5**2"
      ]
    },
    {
      "cell_type": "markdown",
      "metadata": {
        "id": "RDgcz-vtPOha"
      },
      "source": [
        "### String Input-Output"
      ]
    },
    {
      "cell_type": "markdown",
      "metadata": {
        "id": "ICefIQJ7POha"
      },
      "source": [
        "##### String Assignment"
      ]
    },
    {
      "cell_type": "code",
      "execution_count": null,
      "metadata": {
        "id": "l7QiEMJwPOha",
        "outputId": "75309421-d357-4115-b9df-64db42daff68"
      },
      "outputs": [
        {
          "name": "stdout",
          "output_type": "stream",
          "text": [
            "Hello\n"
          ]
        }
      ],
      "source": [
        "teststr = \"Hello\"\n",
        "print(teststr)"
      ]
    },
    {
      "cell_type": "markdown",
      "metadata": {
        "id": "3spaW0IuPOha"
      },
      "source": [
        "##### print() <br>\n",
        "<p>Don't forget about end=' '</p>"
      ]
    },
    {
      "cell_type": "code",
      "execution_count": null,
      "metadata": {
        "id": "jBgodyiYPOha",
        "outputId": "19baaeb2-6353-468d-ee02-33732b066970"
      },
      "outputs": [
        {
          "name": "stdout",
          "output_type": "stream",
          "text": [
            "ll\n"
          ]
        }
      ],
      "source": [
        "print(teststr[2:4])"
      ]
    },
    {
      "cell_type": "markdown",
      "metadata": {
        "id": "NDhQDQnsPOha"
      },
      "source": [
        "##### String Concatenation"
      ]
    },
    {
      "cell_type": "code",
      "execution_count": null,
      "metadata": {
        "id": "dqSl8drwPOha",
        "outputId": "485af199-0549-4e96-c7a5-16ff1d23c816"
      },
      "outputs": [
        {
          "name": "stdout",
          "output_type": "stream",
          "text": [
            "HelloWorld\n"
          ]
        }
      ],
      "source": [
        "str1 = \"Hello\"\n",
        "str2 = \"World\"\n",
        "print(str1+str2)"
      ]
    },
    {
      "cell_type": "markdown",
      "metadata": {
        "id": "4a3A6to3POhb"
      },
      "source": [
        "##### Type Conversion"
      ]
    },
    {
      "cell_type": "code",
      "execution_count": null,
      "metadata": {
        "id": "evaiPQlkPOhb",
        "outputId": "6140c325-082b-4db4-95df-dfec10b37d65"
      },
      "outputs": [
        {
          "name": "stdout",
          "output_type": "stream",
          "text": [
            "22.333\n"
          ]
        }
      ],
      "source": [
        "f1 = 22.333\n",
        "str4 = str(22.333)\n",
        "print(str4)"
      ]
    },
    {
      "cell_type": "markdown",
      "metadata": {
        "id": "KAJvnq6WPOhb"
      },
      "source": [
        "##### input()"
      ]
    },
    {
      "cell_type": "code",
      "execution_count": null,
      "metadata": {
        "id": "vX3hCAsKPOhb",
        "outputId": "7af57dae-2744-483f-d957-89e7d49a692d"
      },
      "outputs": [
        {
          "name": "stdout",
          "output_type": "stream",
          "text": [
            "Please input your name: Abc\n",
            "Hi Abc\n"
          ]
        }
      ],
      "source": [
        "name = input(\"Please input your name: \")\n",
        "print (\"Hi \" + name )"
      ]
    },
    {
      "cell_type": "markdown",
      "metadata": {
        "id": "PlL2psmWPOhb"
      },
      "source": [
        "##### format() "
      ]
    },
    {
      "cell_type": "code",
      "execution_count": null,
      "metadata": {
        "id": "od10xuZvPOhb",
        "outputId": "1ae5b03d-5b53-4519-d663-664fe692e941"
      },
      "outputs": [
        {
          "name": "stdout",
          "output_type": "stream",
          "text": [
            "Student name: John, His score is 95\n",
            "Student name: John, His score is 95\n",
            "Student name: John, His score is 95\n"
          ]
        }
      ],
      "source": [
        "test1 = \"Student name: {sname}, His score is {sscore}\".format(sname=\"John\", sscore = 95)\n",
        "test2 = \"Student name: {0}, His score is {1}\".format(\"John\",95)\n",
        "test3 = \"Student name: {}, His score is {}\".format(\"John\",95)\n",
        "print(test1)\n",
        "print(test2)\n",
        "print(test3)"
      ]
    },
    {
      "cell_type": "markdown",
      "metadata": {
        "id": "4By13TU2POhb"
      },
      "source": [
        "##### Old Way (python 2)"
      ]
    },
    {
      "cell_type": "code",
      "execution_count": null,
      "metadata": {
        "id": "u0Oua1U4POhb",
        "outputId": "f0f76cd6-5cb2-418c-d06a-dffad16faef9"
      },
      "outputs": [
        {
          "name": "stdout",
          "output_type": "stream",
          "text": [
            "Student name: John, His score is 95\n"
          ]
        }
      ],
      "source": [
        "test1 = \"Student name: %s, His score is %d\" % (\"John\",95)\n",
        "print(test1)"
      ]
    },
    {
      "cell_type": "markdown",
      "metadata": {
        "id": "Y2SHBYfYPOhb"
      },
      "source": [
        "# In-Class Exercise 1 <br>\n",
        "<p>Create a format statement that asks for color, year, make, model and prints out the results</p>"
      ]
    },
    {
      "cell_type": "code",
      "execution_count": null,
      "metadata": {
        "id": "SA5947ZdPOhc",
        "outputId": "f1e2356d-a6d2-4787-b681-28ae49aef254"
      },
      "outputs": [
        {
          "name": "stdout",
          "output_type": "stream",
          "text": [
            "Please input color: Red\n",
            "Please input make: BMW\n",
            "Please input year: 2021\n",
            "Model color: Red, Model Make: BMW, Model Year: 2021\n",
            "Model color: Red, Model Make: BMW, Model Year: 2021\n"
          ]
        }
      ],
      "source": [
        "color = input(\"Please input color: \")\n",
        "make = input(\"Please input make: \")\n",
        "year = input(\"Please input year: \")\n",
        "print(\"Model color: {mcolor}, Model Make: {mmake}, Model Year: {myear}\".format(mcolor=color, mmake = make, myear = year))\n",
        "print(\"Model color: {}, Model Make: {}, Model Year: {}\".format(color, make, year))"
      ]
    },
    {
      "cell_type": "markdown",
      "metadata": {
        "id": "rJhMdIlZPOhc"
      },
      "source": [
        "### If Statements"
      ]
    },
    {
      "cell_type": "code",
      "execution_count": null,
      "metadata": {
        "id": "4Mhe-jVSPOhc",
        "outputId": "58f31b0c-3f16-4b12-cff1-256cc06c20ff"
      },
      "outputs": [
        {
          "name": "stdout",
          "output_type": "stream",
          "text": [
            "Please input liquid quantiy in liters 100\n",
            "Tank is full\n"
          ]
        }
      ],
      "source": [
        "# Available operators: Greater(>), Less(<),Equal(==)\n",
        "# Greater or Equal(>=), Less or Equal (<=)\n",
        "\n",
        "# Truth Tree:\n",
        "# T && F = F\n",
        "# T && T = T\n",
        "# T || F = T\n",
        "# F || T = T\n",
        "# F || F = F\n",
        "\n",
        "tankcapacity = 100\n",
        "tankinput = int(input(\"Please input liquid quantiy in liters \"))\n",
        "if(tankinput < tankcapacity):\n",
        "    print(\"Tank is not full\")\n",
        "if(tankinput == tankcapacity):\n",
        "    print(\"Tank is full\")\n",
        "if(tankinput > tankcapacity):\n",
        "    print(\"Tank is overflowing\")"
      ]
    },
    {
      "cell_type": "markdown",
      "metadata": {
        "id": "fg8aQIBFPOhc"
      },
      "source": [
        "##### 'is' keyword"
      ]
    },
    {
      "cell_type": "code",
      "execution_count": null,
      "metadata": {
        "scrolled": true,
        "id": "jM7KrxbcPOhc",
        "outputId": "595a7d47-d90b-4223-84b8-443e3e1466e8"
      },
      "outputs": [
        {
          "name": "stdout",
          "output_type": "stream",
          "text": [
            "True\n",
            "True\n",
            "True\n",
            "True\n",
            "False\n",
            "False\n"
          ]
        }
      ],
      "source": [
        "fruits1 = ['apple', 'Banana', 'Grapes', 'Orange']\n",
        "fruits2 = fruits1\n",
        "fruits3 = fruits1[:]\n",
        "print(fruits1 == fruits2)\n",
        "print(fruits1 == fruits3)\n",
        "print(fruits2 == fruits3)\n",
        "print(fruits1 is fruits2)\n",
        "print(fruits1 is fruits3)\n",
        "print(fruits2 is fruits3)\n"
      ]
    },
    {
      "cell_type": "markdown",
      "metadata": {
        "id": "poBwShBAPOhc"
      },
      "source": [
        "##### 'in' keyword"
      ]
    },
    {
      "cell_type": "code",
      "execution_count": null,
      "metadata": {
        "id": "7ZaoOaOGPOhc",
        "outputId": "488ecc9b-e703-4432-b06f-90346ee92c5a"
      },
      "outputs": [
        {
          "name": "stdout",
          "output_type": "stream",
          "text": [
            "True\n",
            "False\n"
          ]
        }
      ],
      "source": [
        "print ('apple' in fruits1)\n",
        "print (5 in [1,2,3,4,6])"
      ]
    },
    {
      "cell_type": "markdown",
      "metadata": {
        "id": "sDneKfUnPOhc"
      },
      "source": [
        "##### 'not in' keyword'"
      ]
    },
    {
      "cell_type": "code",
      "execution_count": null,
      "metadata": {
        "id": "ri57ECllPOhc",
        "outputId": "37e47954-628f-4e15-e754-cd60699deb25"
      },
      "outputs": [
        {
          "name": "stdout",
          "output_type": "stream",
          "text": [
            "False\n",
            "True\n"
          ]
        }
      ],
      "source": [
        "print ('apple' not in fruits1)\n",
        "print (5 not in [1,2,3,4,6])"
      ]
    },
    {
      "cell_type": "markdown",
      "metadata": {
        "id": "OsYJ_bRgPOhd"
      },
      "source": [
        "# In-Class Exercise 2 <br>\n",
        "<p>Ask user for input, check to see if the letter 'p' is in the input</p>"
      ]
    },
    {
      "cell_type": "code",
      "execution_count": null,
      "metadata": {
        "id": "hjsG3LYNPOhd",
        "outputId": "704d7328-18a0-4c7b-d8af-ca98296bf465"
      },
      "outputs": [
        {
          "name": "stdout",
          "output_type": "stream",
          "text": [
            "Please input text to check: pen\n",
            "True\n"
          ]
        }
      ],
      "source": [
        "inputtexttocheck = input ('Please input text to check: ')\n",
        "isp = 'p' in inputtexttocheck\n",
        "print(isp)"
      ]
    },
    {
      "cell_type": "markdown",
      "metadata": {
        "id": "kF0Ht3IsPOhd"
      },
      "source": [
        "## Using 'and'/'or' with If Statements"
      ]
    },
    {
      "cell_type": "code",
      "execution_count": null,
      "metadata": {
        "id": "geI__BSiPOhd",
        "outputId": "46417534-a7af-4325-8452-5260a155e59e"
      },
      "outputs": [
        {
          "name": "stdout",
          "output_type": "stream",
          "text": [
            "Please input liquid quantiy in liters 100\n",
            "Tank is full and liquid color is not red\n"
          ]
        }
      ],
      "source": [
        "tankcapacity = 100\n",
        "tankinput = int(input(\"Please input liquid quantiy in liters \"))\n",
        "lcolor = \"Blue\"\n",
        "if(tankinput < tankcapacity and lcolor == \"Red\"):\n",
        "    print(\"Tank is not full and liquid color is red\")\n",
        "if(tankinput == tankcapacity or lcolor != 'Red'):\n",
        "    print(\"Tank is full and liquid color is not red\")\n",
        "if(tankinput > tankcapacity):\n",
        "    print(\"Tank is overflowing\")"
      ]
    },
    {
      "cell_type": "markdown",
      "metadata": {
        "id": "0R0ONZYpPOhd"
      },
      "source": [
        "### Elif Statements"
      ]
    },
    {
      "cell_type": "code",
      "execution_count": null,
      "metadata": {
        "id": "VLM652OPPOhd",
        "outputId": "183045c1-6bc7-4dac-84bf-0db0a20ec382"
      },
      "outputs": [
        {
          "name": "stdout",
          "output_type": "stream",
          "text": [
            "Please input liquid quantiy in liters 50\n",
            "Tank is not full\n"
          ]
        }
      ],
      "source": [
        "tankcapacity = 100\n",
        "tankinput = int(input(\"Please input liquid quantiy in liters \"))\n",
        "if(tankinput < tankcapacity):\n",
        "    print(\"Tank is not full\")\n",
        "elif(tankinput == tankcapacity):\n",
        "    print(\"Tank is full\")\n",
        "elif(tankinput > tankcapacity):\n",
        "    print(\"Tank is overflowing\")"
      ]
    },
    {
      "cell_type": "markdown",
      "metadata": {
        "id": "c-sJuWXKPOhd"
      },
      "source": [
        "### Else Statements"
      ]
    },
    {
      "cell_type": "code",
      "execution_count": null,
      "metadata": {
        "id": "SPxnjWKmPOhd",
        "outputId": "5f3d8c57-7d40-4452-db6d-303ed6cc2067"
      },
      "outputs": [
        {
          "name": "stdout",
          "output_type": "stream",
          "text": [
            "Please input liquid quantiy in liters 110\n",
            "Tank is overflowing\n"
          ]
        }
      ],
      "source": [
        "# see above\n",
        "tankcapacity = 100\n",
        "tankinput = int(input(\"Please input liquid quantiy in liters \"))\n",
        "if(tankinput < tankcapacity):\n",
        "    print(\"Tank is not full\")\n",
        "elif(tankinput > tankcapacity):\n",
        "    print(\"Tank is overflowing\")\n",
        "else:\n",
        "    print(\"Tank is full\")"
      ]
    },
    {
      "cell_type": "markdown",
      "metadata": {
        "id": "C_ZlsUUOPOhd"
      },
      "source": [
        "### For Loops"
      ]
    },
    {
      "cell_type": "code",
      "execution_count": null,
      "metadata": {
        "id": "9x-szM8GPOhe",
        "outputId": "aa0fae35-4d25-468a-f19c-1ed2e222da97"
      },
      "outputs": [
        {
          "name": "stdout",
          "output_type": "stream",
          "text": [
            "2\n",
            "3\n",
            "4\n",
            "5\n",
            "6\n"
          ]
        }
      ],
      "source": [
        "for num in range(2,7):\n",
        "    print(num)"
      ]
    },
    {
      "cell_type": "markdown",
      "metadata": {
        "id": "SwmwauwBPOhe"
      },
      "source": [
        "##### Using 'in' keyword"
      ]
    },
    {
      "cell_type": "code",
      "execution_count": null,
      "metadata": {
        "id": "j9E6muOOPOhe",
        "outputId": "29ca2031-df3d-4fc5-ba9b-c56333eb0071"
      },
      "outputs": [
        {
          "name": "stdout",
          "output_type": "stream",
          "text": [
            "apple\n",
            "Banana\n",
            "Grapes\n",
            "Orange\n"
          ]
        }
      ],
      "source": [
        "# see above\n",
        "fruits = ['apple', 'Banana', 'Grapes', 'Orange']\n",
        "for fruit in fruits:\n",
        "    print(fruit)"
      ]
    },
    {
      "cell_type": "markdown",
      "metadata": {
        "id": "HhZ58ZL7POhe"
      },
      "source": [
        "##### Continue Statement"
      ]
    },
    {
      "cell_type": "code",
      "execution_count": null,
      "metadata": {
        "id": "eHIk_dM4POhe"
      },
      "outputs": [],
      "source": [
        "# will continue to next iteration"
      ]
    },
    {
      "cell_type": "code",
      "execution_count": null,
      "metadata": {
        "id": "IMLftjpaPOhe",
        "outputId": "ee6b1353-b4b6-40f7-d0b3-8363dc8a09f5"
      },
      "outputs": [
        {
          "name": "stdout",
          "output_type": "stream",
          "text": [
            "found p\n",
            "Banana\n",
            "found p\n",
            "Orange\n"
          ]
        }
      ],
      "source": [
        "fruits = ['apple', 'Banana', 'Grapes', 'Orange']\n",
        "for fruit in fruits:\n",
        "    if ('p' in fruit):\n",
        "        print('found p')\n",
        "        continue\n",
        "    else:\n",
        "        print(fruit)\n",
        "    "
      ]
    },
    {
      "cell_type": "markdown",
      "metadata": {
        "id": "ansu2V2dPOhe"
      },
      "source": [
        "##### Break Statement"
      ]
    },
    {
      "cell_type": "code",
      "execution_count": null,
      "metadata": {
        "id": "Z3Z904BfPOhe"
      },
      "outputs": [],
      "source": [
        "# will break out of current loop"
      ]
    },
    {
      "cell_type": "code",
      "execution_count": null,
      "metadata": {
        "id": "2fr5a6z8POhf",
        "outputId": "c4254b67-2f47-4cf5-e4d2-a900cd686c62"
      },
      "outputs": [
        {
          "name": "stdout",
          "output_type": "stream",
          "text": [
            "Orange\n",
            "found p\n"
          ]
        }
      ],
      "source": [
        "fruits = ['Orange', 'apple', 'Banana', 'Grapes']\n",
        "for fruit in fruits:\n",
        "    if ('p' in fruit):\n",
        "        print('found p')\n",
        "        break\n",
        "    else:\n",
        "        print(fruit)"
      ]
    },
    {
      "cell_type": "markdown",
      "metadata": {
        "id": "wAQA4E5bPOhf"
      },
      "source": [
        "##### Pass Statement"
      ]
    },
    {
      "cell_type": "code",
      "execution_count": null,
      "metadata": {
        "id": "EElGlqmOPOhf"
      },
      "outputs": [],
      "source": [
        "# mostly used as a placeholder, and will continue on same iteration"
      ]
    },
    {
      "cell_type": "code",
      "execution_count": null,
      "metadata": {
        "id": "faDVf9DSPOhf",
        "outputId": "fa8ed86a-22b9-450b-faca-9180343318e8"
      },
      "outputs": [
        {
          "name": "stdout",
          "output_type": "stream",
          "text": [
            "Orange\n",
            "found p\n"
          ]
        }
      ],
      "source": [
        "fruits = ['Orange', 'apple', 'Banana', 'Grapes']\n",
        "for fruit in fruits:\n",
        "    if('r' in fruit):\n",
        "        pass\n",
        "    if('p' in fruit):\n",
        "        print('found p')\n",
        "        break\n",
        "    else:\n",
        "        print(fruit)"
      ]
    },
    {
      "cell_type": "markdown",
      "metadata": {
        "id": "DaNTnpUlPOhf"
      },
      "source": [
        "##### Double For Loops"
      ]
    },
    {
      "cell_type": "code",
      "execution_count": null,
      "metadata": {
        "id": "htMFQbXRPOhg",
        "outputId": "e2bdebc8-a81a-44d5-92ec-fa7c242f9a6c"
      },
      "outputs": [
        {
          "name": "stdout",
          "output_type": "stream",
          "text": [
            "--\n",
            "O\n",
            "r\n",
            "a\n",
            "n\n",
            "g\n",
            "e\n",
            "--\n",
            "a\n",
            "p\n",
            "p\n",
            "l\n",
            "e\n",
            "--\n",
            "B\n",
            "a\n",
            "n\n",
            "a\n",
            "n\n",
            "a\n",
            "--\n",
            "G\n",
            "r\n",
            "a\n",
            "p\n",
            "e\n",
            "s\n"
          ]
        }
      ],
      "source": [
        "fruits = ['Orange', 'apple', 'Banana', 'Grapes']\n",
        "for fruit in fruits:\n",
        "    print('--')\n",
        "    for c in fruit:\n",
        "        print(c)"
      ]
    },
    {
      "cell_type": "markdown",
      "metadata": {
        "id": "nTGdcRxdPOhg"
      },
      "source": [
        "### While Loops"
      ]
    },
    {
      "cell_type": "code",
      "execution_count": null,
      "metadata": {
        "id": "ATBzp5VWPOhj",
        "outputId": "f6d16cc7-d886-4253-ba7d-130948a81d2e"
      },
      "outputs": [
        {
          "name": "stdout",
          "output_type": "stream",
          "text": [
            "1\n",
            "2\n",
            "3\n",
            "4\n",
            "5\n",
            "6\n"
          ]
        }
      ],
      "source": [
        "i = 1\n",
        "while i < 7:\n",
        "    print(i)\n",
        "    i = i+1"
      ]
    },
    {
      "cell_type": "markdown",
      "metadata": {
        "id": "G7zb37oGPOhk"
      },
      "source": [
        "##### Looping 'While True'"
      ]
    },
    {
      "cell_type": "code",
      "execution_count": null,
      "metadata": {
        "id": "dN2WeQOnPOhk",
        "outputId": "4c7638ec-568c-45ad-f89c-63f715f2284c"
      },
      "outputs": [
        {
          "name": "stdout",
          "output_type": "stream",
          "text": [
            "1\n",
            "2\n",
            "3\n",
            "4\n",
            "5\n",
            "6\n"
          ]
        }
      ],
      "source": [
        "i = 1\n",
        "while True:\n",
        "    print(i)\n",
        "    i = i + 1\n",
        "    if(i>=7):\n",
        "        break\n",
        "        "
      ]
    },
    {
      "cell_type": "markdown",
      "metadata": {
        "id": "pd0Dq20WPOhk"
      },
      "source": [
        "##### While & For Loops Used Together"
      ]
    },
    {
      "cell_type": "code",
      "execution_count": null,
      "metadata": {
        "id": "3QQwd6q9POhk",
        "outputId": "e3b6386f-49dc-4148-e0fd-4377b989b827"
      },
      "outputs": [
        {
          "name": "stdout",
          "output_type": "stream",
          "text": [
            "1 1\n",
            "2 1\n",
            "2 2\n",
            "3 1\n",
            "3 2\n",
            "3 3\n",
            "4 1\n",
            "4 2\n",
            "4 3\n",
            "4 4\n"
          ]
        }
      ],
      "source": [
        "i = 1\n",
        "while True:\n",
        "    for j in range(1,i+1):\n",
        "        #print(str(i) + \"-\" +str(j)\n",
        "        print(i,j)\n",
        "        j = j+1\n",
        "    i = i + 1\n",
        "    if(i>=5):\n",
        "        break"
      ]
    },
    {
      "cell_type": "markdown",
      "metadata": {
        "id": "DkPQnmTsPOhk"
      },
      "source": [
        "### Built-In Functions"
      ]
    },
    {
      "cell_type": "markdown",
      "metadata": {
        "id": "E8h_ybIuPOhk"
      },
      "source": [
        "##### range()"
      ]
    },
    {
      "cell_type": "code",
      "execution_count": null,
      "metadata": {
        "id": "a0noaUaUPOhk",
        "outputId": "e360940e-98c8-48cb-bc97-5d12ed583df7"
      },
      "outputs": [
        {
          "name": "stdout",
          "output_type": "stream",
          "text": [
            "1\n",
            "3\n",
            "5\n",
            "7\n",
            "9\n",
            "11\n",
            "13\n",
            "15\n",
            "17\n",
            "19\n"
          ]
        }
      ],
      "source": [
        "numbers = range(1, 20, 2)\n",
        "for num in numbers:\n",
        "  print(num) "
      ]
    },
    {
      "cell_type": "markdown",
      "metadata": {
        "id": "8w6NUOiHPOhk"
      },
      "source": [
        "##### len()"
      ]
    },
    {
      "cell_type": "code",
      "execution_count": null,
      "metadata": {
        "id": "jzTvfb_BPOhk",
        "outputId": "f67621a6-9769-4e1c-b194-c427775cc3bc"
      },
      "outputs": [
        {
          "name": "stdout",
          "output_type": "stream",
          "text": [
            "13\n"
          ]
        }
      ],
      "source": [
        "teststr = \"Hello Friends\"\n",
        "print(len(teststr))"
      ]
    },
    {
      "cell_type": "markdown",
      "metadata": {
        "id": "tdPjInAjPOhl"
      },
      "source": [
        "##### help()"
      ]
    },
    {
      "cell_type": "code",
      "execution_count": null,
      "metadata": {
        "id": "uCqE5HDePOhl",
        "outputId": "635f9a52-3cee-4ec6-ecd0-0237c94f3d44"
      },
      "outputs": [
        {
          "name": "stdout",
          "output_type": "stream",
          "text": [
            "Help on class str in module builtins:\n",
            "\n",
            "class str(object)\n",
            " |  str(object='') -> str\n",
            " |  str(bytes_or_buffer[, encoding[, errors]]) -> str\n",
            " |  \n",
            " |  Create a new string object from the given object. If encoding or\n",
            " |  errors is specified, then the object must expose a data buffer\n",
            " |  that will be decoded using the given encoding and error handler.\n",
            " |  Otherwise, returns the result of object.__str__() (if defined)\n",
            " |  or repr(object).\n",
            " |  encoding defaults to sys.getdefaultencoding().\n",
            " |  errors defaults to 'strict'.\n",
            " |  \n",
            " |  Methods defined here:\n",
            " |  \n",
            " |  __add__(self, value, /)\n",
            " |      Return self+value.\n",
            " |  \n",
            " |  __contains__(self, key, /)\n",
            " |      Return key in self.\n",
            " |  \n",
            " |  __eq__(self, value, /)\n",
            " |      Return self==value.\n",
            " |  \n",
            " |  __format__(self, format_spec, /)\n",
            " |      Return a formatted version of the string as described by format_spec.\n",
            " |  \n",
            " |  __ge__(self, value, /)\n",
            " |      Return self>=value.\n",
            " |  \n",
            " |  __getattribute__(self, name, /)\n",
            " |      Return getattr(self, name).\n",
            " |  \n",
            " |  __getitem__(self, key, /)\n",
            " |      Return self[key].\n",
            " |  \n",
            " |  __getnewargs__(...)\n",
            " |  \n",
            " |  __gt__(self, value, /)\n",
            " |      Return self>value.\n",
            " |  \n",
            " |  __hash__(self, /)\n",
            " |      Return hash(self).\n",
            " |  \n",
            " |  __iter__(self, /)\n",
            " |      Implement iter(self).\n",
            " |  \n",
            " |  __le__(self, value, /)\n",
            " |      Return self<=value.\n",
            " |  \n",
            " |  __len__(self, /)\n",
            " |      Return len(self).\n",
            " |  \n",
            " |  __lt__(self, value, /)\n",
            " |      Return self<value.\n",
            " |  \n",
            " |  __mod__(self, value, /)\n",
            " |      Return self%value.\n",
            " |  \n",
            " |  __mul__(self, value, /)\n",
            " |      Return self*value.\n",
            " |  \n",
            " |  __ne__(self, value, /)\n",
            " |      Return self!=value.\n",
            " |  \n",
            " |  __repr__(self, /)\n",
            " |      Return repr(self).\n",
            " |  \n",
            " |  __rmod__(self, value, /)\n",
            " |      Return value%self.\n",
            " |  \n",
            " |  __rmul__(self, value, /)\n",
            " |      Return value*self.\n",
            " |  \n",
            " |  __sizeof__(self, /)\n",
            " |      Return the size of the string in memory, in bytes.\n",
            " |  \n",
            " |  __str__(self, /)\n",
            " |      Return str(self).\n",
            " |  \n",
            " |  capitalize(self, /)\n",
            " |      Return a capitalized version of the string.\n",
            " |      \n",
            " |      More specifically, make the first character have upper case and the rest lower\n",
            " |      case.\n",
            " |  \n",
            " |  casefold(self, /)\n",
            " |      Return a version of the string suitable for caseless comparisons.\n",
            " |  \n",
            " |  center(self, width, fillchar=' ', /)\n",
            " |      Return a centered string of length width.\n",
            " |      \n",
            " |      Padding is done using the specified fill character (default is a space).\n",
            " |  \n",
            " |  count(...)\n",
            " |      S.count(sub[, start[, end]]) -> int\n",
            " |      \n",
            " |      Return the number of non-overlapping occurrences of substring sub in\n",
            " |      string S[start:end].  Optional arguments start and end are\n",
            " |      interpreted as in slice notation.\n",
            " |  \n",
            " |  encode(self, /, encoding='utf-8', errors='strict')\n",
            " |      Encode the string using the codec registered for encoding.\n",
            " |      \n",
            " |      encoding\n",
            " |        The encoding in which to encode the string.\n",
            " |      errors\n",
            " |        The error handling scheme to use for encoding errors.\n",
            " |        The default is 'strict' meaning that encoding errors raise a\n",
            " |        UnicodeEncodeError.  Other possible values are 'ignore', 'replace' and\n",
            " |        'xmlcharrefreplace' as well as any other name registered with\n",
            " |        codecs.register_error that can handle UnicodeEncodeErrors.\n",
            " |  \n",
            " |  endswith(...)\n",
            " |      S.endswith(suffix[, start[, end]]) -> bool\n",
            " |      \n",
            " |      Return True if S ends with the specified suffix, False otherwise.\n",
            " |      With optional start, test S beginning at that position.\n",
            " |      With optional end, stop comparing S at that position.\n",
            " |      suffix can also be a tuple of strings to try.\n",
            " |  \n",
            " |  expandtabs(self, /, tabsize=8)\n",
            " |      Return a copy where all tab characters are expanded using spaces.\n",
            " |      \n",
            " |      If tabsize is not given, a tab size of 8 characters is assumed.\n",
            " |  \n",
            " |  find(...)\n",
            " |      S.find(sub[, start[, end]]) -> int\n",
            " |      \n",
            " |      Return the lowest index in S where substring sub is found,\n",
            " |      such that sub is contained within S[start:end].  Optional\n",
            " |      arguments start and end are interpreted as in slice notation.\n",
            " |      \n",
            " |      Return -1 on failure.\n",
            " |  \n",
            " |  format(...)\n",
            " |      S.format(*args, **kwargs) -> str\n",
            " |      \n",
            " |      Return a formatted version of S, using substitutions from args and kwargs.\n",
            " |      The substitutions are identified by braces ('{' and '}').\n",
            " |  \n",
            " |  format_map(...)\n",
            " |      S.format_map(mapping) -> str\n",
            " |      \n",
            " |      Return a formatted version of S, using substitutions from mapping.\n",
            " |      The substitutions are identified by braces ('{' and '}').\n",
            " |  \n",
            " |  index(...)\n",
            " |      S.index(sub[, start[, end]]) -> int\n",
            " |      \n",
            " |      Return the lowest index in S where substring sub is found,\n",
            " |      such that sub is contained within S[start:end].  Optional\n",
            " |      arguments start and end are interpreted as in slice notation.\n",
            " |      \n",
            " |      Raises ValueError when the substring is not found.\n",
            " |  \n",
            " |  isalnum(self, /)\n",
            " |      Return True if the string is an alpha-numeric string, False otherwise.\n",
            " |      \n",
            " |      A string is alpha-numeric if all characters in the string are alpha-numeric and\n",
            " |      there is at least one character in the string.\n",
            " |  \n",
            " |  isalpha(self, /)\n",
            " |      Return True if the string is an alphabetic string, False otherwise.\n",
            " |      \n",
            " |      A string is alphabetic if all characters in the string are alphabetic and there\n",
            " |      is at least one character in the string.\n",
            " |  \n",
            " |  isascii(self, /)\n",
            " |      Return True if all characters in the string are ASCII, False otherwise.\n",
            " |      \n",
            " |      ASCII characters have code points in the range U+0000-U+007F.\n",
            " |      Empty string is ASCII too.\n",
            " |  \n",
            " |  isdecimal(self, /)\n",
            " |      Return True if the string is a decimal string, False otherwise.\n",
            " |      \n",
            " |      A string is a decimal string if all characters in the string are decimal and\n",
            " |      there is at least one character in the string.\n",
            " |  \n",
            " |  isdigit(self, /)\n",
            " |      Return True if the string is a digit string, False otherwise.\n",
            " |      \n",
            " |      A string is a digit string if all characters in the string are digits and there\n",
            " |      is at least one character in the string.\n",
            " |  \n",
            " |  isidentifier(self, /)\n",
            " |      Return True if the string is a valid Python identifier, False otherwise.\n",
            " |      \n",
            " |      Call keyword.iskeyword(s) to test whether string s is a reserved identifier,\n",
            " |      such as \"def\" or \"class\".\n",
            " |  \n",
            " |  islower(self, /)\n",
            " |      Return True if the string is a lowercase string, False otherwise.\n",
            " |      \n",
            " |      A string is lowercase if all cased characters in the string are lowercase and\n",
            " |      there is at least one cased character in the string.\n",
            " |  \n",
            " |  isnumeric(self, /)\n",
            " |      Return True if the string is a numeric string, False otherwise.\n",
            " |      \n",
            " |      A string is numeric if all characters in the string are numeric and there is at\n",
            " |      least one character in the string.\n",
            " |  \n",
            " |  isprintable(self, /)\n",
            " |      Return True if the string is printable, False otherwise.\n",
            " |      \n",
            " |      A string is printable if all of its characters are considered printable in\n",
            " |      repr() or if it is empty.\n",
            " |  \n",
            " |  isspace(self, /)\n",
            " |      Return True if the string is a whitespace string, False otherwise.\n",
            " |      \n",
            " |      A string is whitespace if all characters in the string are whitespace and there\n",
            " |      is at least one character in the string.\n",
            " |  \n",
            " |  istitle(self, /)\n",
            " |      Return True if the string is a title-cased string, False otherwise.\n",
            " |      \n",
            " |      In a title-cased string, upper- and title-case characters may only\n",
            " |      follow uncased characters and lowercase characters only cased ones.\n",
            " |  \n",
            " |  isupper(self, /)\n",
            " |      Return True if the string is an uppercase string, False otherwise.\n",
            " |      \n",
            " |      A string is uppercase if all cased characters in the string are uppercase and\n",
            " |      there is at least one cased character in the string.\n",
            " |  \n",
            " |  join(self, iterable, /)\n",
            " |      Concatenate any number of strings.\n",
            " |      \n",
            " |      The string whose method is called is inserted in between each given string.\n",
            " |      The result is returned as a new string.\n",
            " |      \n",
            " |      Example: '.'.join(['ab', 'pq', 'rs']) -> 'ab.pq.rs'\n",
            " |  \n",
            " |  ljust(self, width, fillchar=' ', /)\n",
            " |      Return a left-justified string of length width.\n",
            " |      \n",
            " |      Padding is done using the specified fill character (default is a space).\n",
            " |  \n",
            " |  lower(self, /)\n",
            " |      Return a copy of the string converted to lowercase.\n",
            " |  \n",
            " |  lstrip(self, chars=None, /)\n",
            " |      Return a copy of the string with leading whitespace removed.\n",
            " |      \n",
            " |      If chars is given and not None, remove characters in chars instead.\n",
            " |  \n",
            " |  partition(self, sep, /)\n",
            " |      Partition the string into three parts using the given separator.\n",
            " |      \n",
            " |      This will search for the separator in the string.  If the separator is found,\n",
            " |      returns a 3-tuple containing the part before the separator, the separator\n",
            " |      itself, and the part after it.\n",
            " |      \n",
            " |      If the separator is not found, returns a 3-tuple containing the original string\n",
            " |      and two empty strings.\n",
            " |  \n",
            " |  removeprefix(self, prefix, /)\n",
            " |      Return a str with the given prefix string removed if present.\n",
            " |      \n",
            " |      If the string starts with the prefix string, return string[len(prefix):].\n",
            " |      Otherwise, return a copy of the original string.\n",
            " |  \n",
            " |  removesuffix(self, suffix, /)\n",
            " |      Return a str with the given suffix string removed if present.\n",
            " |      \n",
            " |      If the string ends with the suffix string and that suffix is not empty,\n",
            " |      return string[:-len(suffix)]. Otherwise, return a copy of the original\n",
            " |      string.\n",
            " |  \n",
            " |  replace(self, old, new, count=-1, /)\n",
            " |      Return a copy with all occurrences of substring old replaced by new.\n",
            " |      \n",
            " |        count\n",
            " |          Maximum number of occurrences to replace.\n",
            " |          -1 (the default value) means replace all occurrences.\n",
            " |      \n",
            " |      If the optional argument count is given, only the first count occurrences are\n",
            " |      replaced.\n",
            " |  \n",
            " |  rfind(...)\n",
            " |      S.rfind(sub[, start[, end]]) -> int\n",
            " |      \n",
            " |      Return the highest index in S where substring sub is found,\n",
            " |      such that sub is contained within S[start:end].  Optional\n",
            " |      arguments start and end are interpreted as in slice notation.\n",
            " |      \n",
            " |      Return -1 on failure.\n",
            " |  \n",
            " |  rindex(...)\n",
            " |      S.rindex(sub[, start[, end]]) -> int\n",
            " |      \n",
            " |      Return the highest index in S where substring sub is found,\n",
            " |      such that sub is contained within S[start:end].  Optional\n",
            " |      arguments start and end are interpreted as in slice notation.\n",
            " |      \n",
            " |      Raises ValueError when the substring is not found.\n",
            " |  \n",
            " |  rjust(self, width, fillchar=' ', /)\n",
            " |      Return a right-justified string of length width.\n",
            " |      \n",
            " |      Padding is done using the specified fill character (default is a space).\n",
            " |  \n",
            " |  rpartition(self, sep, /)\n",
            " |      Partition the string into three parts using the given separator.\n",
            " |      \n",
            " |      This will search for the separator in the string, starting at the end. If\n",
            " |      the separator is found, returns a 3-tuple containing the part before the\n",
            " |      separator, the separator itself, and the part after it.\n",
            " |      \n",
            " |      If the separator is not found, returns a 3-tuple containing two empty strings\n",
            " |      and the original string.\n",
            " |  \n",
            " |  rsplit(self, /, sep=None, maxsplit=-1)\n",
            " |      Return a list of the words in the string, using sep as the delimiter string.\n",
            " |      \n",
            " |        sep\n",
            " |          The delimiter according which to split the string.\n",
            " |          None (the default value) means split according to any whitespace,\n",
            " |          and discard empty strings from the result.\n",
            " |        maxsplit\n",
            " |          Maximum number of splits to do.\n",
            " |          -1 (the default value) means no limit.\n",
            " |      \n",
            " |      Splits are done starting at the end of the string and working to the front.\n",
            " |  \n",
            " |  rstrip(self, chars=None, /)\n",
            " |      Return a copy of the string with trailing whitespace removed.\n",
            " |      \n",
            " |      If chars is given and not None, remove characters in chars instead.\n",
            " |  \n",
            " |  split(self, /, sep=None, maxsplit=-1)\n",
            " |      Return a list of the words in the string, using sep as the delimiter string.\n",
            " |      \n",
            " |      sep\n",
            " |        The delimiter according which to split the string.\n",
            " |        None (the default value) means split according to any whitespace,\n",
            " |        and discard empty strings from the result.\n",
            " |      maxsplit\n",
            " |        Maximum number of splits to do.\n",
            " |        -1 (the default value) means no limit.\n",
            " |  \n",
            " |  splitlines(self, /, keepends=False)\n",
            " |      Return a list of the lines in the string, breaking at line boundaries.\n",
            " |      \n",
            " |      Line breaks are not included in the resulting list unless keepends is given and\n",
            " |      true.\n",
            " |  \n",
            " |  startswith(...)\n",
            " |      S.startswith(prefix[, start[, end]]) -> bool\n",
            " |      \n",
            " |      Return True if S starts with the specified prefix, False otherwise.\n",
            " |      With optional start, test S beginning at that position.\n",
            " |      With optional end, stop comparing S at that position.\n",
            " |      prefix can also be a tuple of strings to try.\n",
            " |  \n",
            " |  strip(self, chars=None, /)\n",
            " |      Return a copy of the string with leading and trailing whitespace removed.\n",
            " |      \n",
            " |      If chars is given and not None, remove characters in chars instead.\n",
            " |  \n",
            " |  swapcase(self, /)\n",
            " |      Convert uppercase characters to lowercase and lowercase characters to uppercase.\n",
            " |  \n",
            " |  title(self, /)\n",
            " |      Return a version of the string where each word is titlecased.\n",
            " |      \n",
            " |      More specifically, words start with uppercased characters and all remaining\n",
            " |      cased characters have lower case.\n",
            " |  \n",
            " |  translate(self, table, /)\n",
            " |      Replace each character in the string using the given translation table.\n",
            " |      \n",
            " |        table\n",
            " |          Translation table, which must be a mapping of Unicode ordinals to\n",
            " |          Unicode ordinals, strings, or None.\n",
            " |      \n",
            " |      The table must implement lookup/indexing via __getitem__, for instance a\n",
            " |      dictionary or list.  If this operation raises LookupError, the character is\n",
            " |      left untouched.  Characters mapped to None are deleted.\n",
            " |  \n",
            " |  upper(self, /)\n",
            " |      Return a copy of the string converted to uppercase.\n",
            " |  \n",
            " |  zfill(self, width, /)\n",
            " |      Pad a numeric string with zeros on the left, to fill a field of the given width.\n",
            " |      \n",
            " |      The string is never truncated.\n",
            " |  \n",
            " |  ----------------------------------------------------------------------\n",
            " |  Static methods defined here:\n",
            " |  \n",
            " |  __new__(*args, **kwargs) from builtins.type\n",
            " |      Create and return a new object.  See help(type) for accurate signature.\n",
            " |  \n",
            " |  maketrans(...)\n",
            " |      Return a translation table usable for str.translate().\n",
            " |      \n",
            " |      If there is only one argument, it must be a dictionary mapping Unicode\n",
            " |      ordinals (integers) or characters to Unicode ordinals, strings or None.\n",
            " |      Character keys will be then converted to ordinals.\n",
            " |      If there are two arguments, they must be strings of equal length, and\n",
            " |      in the resulting dictionary, each character in x will be mapped to the\n",
            " |      character at the same position in y. If there is a third argument, it\n",
            " |      must be a string, whose characters will be mapped to None in the result.\n",
            "\n",
            "None\n",
            "Help on class list in module builtins:\n",
            "\n",
            "class list(object)\n",
            " |  list(iterable=(), /)\n",
            " |  \n",
            " |  Built-in mutable sequence.\n",
            " |  \n",
            " |  If no argument is given, the constructor creates a new empty list.\n",
            " |  The argument must be an iterable if specified.\n",
            " |  \n",
            " |  Methods defined here:\n",
            " |  \n",
            " |  __add__(self, value, /)\n",
            " |      Return self+value.\n",
            " |  \n",
            " |  __contains__(self, key, /)\n",
            " |      Return key in self.\n",
            " |  \n",
            " |  __delitem__(self, key, /)\n",
            " |      Delete self[key].\n",
            " |  \n",
            " |  __eq__(self, value, /)\n",
            " |      Return self==value.\n",
            " |  \n",
            " |  __ge__(self, value, /)\n",
            " |      Return self>=value.\n",
            " |  \n",
            " |  __getattribute__(self, name, /)\n",
            " |      Return getattr(self, name).\n",
            " |  \n",
            " |  __getitem__(...)\n",
            " |      x.__getitem__(y) <==> x[y]\n",
            " |  \n",
            " |  __gt__(self, value, /)\n",
            " |      Return self>value.\n",
            " |  \n",
            " |  __iadd__(self, value, /)\n",
            " |      Implement self+=value.\n",
            " |  \n",
            " |  __imul__(self, value, /)\n",
            " |      Implement self*=value.\n",
            " |  \n",
            " |  __init__(self, /, *args, **kwargs)\n",
            " |      Initialize self.  See help(type(self)) for accurate signature.\n",
            " |  \n",
            " |  __iter__(self, /)\n",
            " |      Implement iter(self).\n",
            " |  \n",
            " |  __le__(self, value, /)\n",
            " |      Return self<=value.\n",
            " |  \n",
            " |  __len__(self, /)\n",
            " |      Return len(self).\n",
            " |  \n",
            " |  __lt__(self, value, /)\n",
            " |      Return self<value.\n",
            " |  \n",
            " |  __mul__(self, value, /)\n",
            " |      Return self*value.\n",
            " |  \n",
            " |  __ne__(self, value, /)\n",
            " |      Return self!=value.\n",
            " |  \n",
            " |  __repr__(self, /)\n",
            " |      Return repr(self).\n",
            " |  \n",
            " |  __reversed__(self, /)\n",
            " |      Return a reverse iterator over the list.\n",
            " |  \n",
            " |  __rmul__(self, value, /)\n",
            " |      Return value*self.\n",
            " |  \n",
            " |  __setitem__(self, key, value, /)\n",
            " |      Set self[key] to value.\n",
            " |  \n",
            " |  __sizeof__(self, /)\n",
            " |      Return the size of the list in memory, in bytes.\n",
            " |  \n",
            " |  append(self, object, /)\n",
            " |      Append object to the end of the list.\n",
            " |  \n",
            " |  clear(self, /)\n",
            " |      Remove all items from list.\n",
            " |  \n",
            " |  copy(self, /)\n",
            " |      Return a shallow copy of the list.\n",
            " |  \n",
            " |  count(self, value, /)\n",
            " |      Return number of occurrences of value.\n",
            " |  \n",
            " |  extend(self, iterable, /)\n",
            " |      Extend list by appending elements from the iterable.\n",
            " |  \n",
            " |  index(self, value, start=0, stop=9223372036854775807, /)\n",
            " |      Return first index of value.\n",
            " |      \n",
            " |      Raises ValueError if the value is not present.\n",
            " |  \n",
            " |  insert(self, index, object, /)\n",
            " |      Insert object before index.\n",
            " |  \n",
            " |  pop(self, index=-1, /)\n",
            " |      Remove and return item at index (default last).\n",
            " |      \n",
            " |      Raises IndexError if list is empty or index is out of range.\n",
            " |  \n",
            " |  remove(self, value, /)\n",
            " |      Remove first occurrence of value.\n",
            " |      \n",
            " |      Raises ValueError if the value is not present.\n",
            " |  \n",
            " |  reverse(self, /)\n",
            " |      Reverse *IN PLACE*.\n",
            " |  \n",
            " |  sort(self, /, *, key=None, reverse=False)\n",
            " |      Sort the list in ascending order and return None.\n",
            " |      \n",
            " |      The sort is in-place (i.e. the list itself is modified) and stable (i.e. the\n",
            " |      order of two equal elements is maintained).\n",
            " |      \n",
            " |      If a key function is given, apply it once to each list item and sort them,\n",
            " |      ascending or descending, according to their function values.\n",
            " |      \n",
            " |      The reverse flag can be set to sort in descending order.\n",
            " |  \n",
            " |  ----------------------------------------------------------------------\n",
            " |  Class methods defined here:\n",
            " |  \n",
            " |  __class_getitem__(...) from builtins.type\n",
            " |      See PEP 585\n",
            " |  \n",
            " |  ----------------------------------------------------------------------\n",
            " |  Static methods defined here:\n",
            " |  \n",
            " |  __new__(*args, **kwargs) from builtins.type\n",
            " |      Create and return a new object.  See help(type) for accurate signature.\n",
            " |  \n",
            " |  ----------------------------------------------------------------------\n",
            " |  Data and other attributes defined here:\n",
            " |  \n",
            " |  __hash__ = None\n",
            "\n",
            "None\n",
            "Help on class float in module builtins:\n",
            "\n",
            "class float(object)\n",
            " |  float(x=0, /)\n",
            " |  \n",
            " |  Convert a string or number to a floating point number, if possible.\n",
            " |  \n",
            " |  Methods defined here:\n",
            " |  \n",
            " |  __abs__(self, /)\n",
            " |      abs(self)\n",
            " |  \n",
            " |  __add__(self, value, /)\n",
            " |      Return self+value.\n",
            " |  \n",
            " |  __bool__(self, /)\n",
            " |      self != 0\n",
            " |  \n",
            " |  __ceil__(self, /)\n",
            " |      Return the ceiling as an Integral.\n",
            " |  \n",
            " |  __divmod__(self, value, /)\n",
            " |      Return divmod(self, value).\n",
            " |  \n",
            " |  __eq__(self, value, /)\n",
            " |      Return self==value.\n",
            " |  \n",
            " |  __float__(self, /)\n",
            " |      float(self)\n",
            " |  \n",
            " |  __floor__(self, /)\n",
            " |      Return the floor as an Integral.\n",
            " |  \n",
            " |  __floordiv__(self, value, /)\n",
            " |      Return self//value.\n",
            " |  \n",
            " |  __format__(self, format_spec, /)\n",
            " |      Formats the float according to format_spec.\n",
            " |  \n",
            " |  __ge__(self, value, /)\n",
            " |      Return self>=value.\n",
            " |  \n",
            " |  __getattribute__(self, name, /)\n",
            " |      Return getattr(self, name).\n",
            " |  \n",
            " |  __getnewargs__(self, /)\n",
            " |  \n",
            " |  __gt__(self, value, /)\n",
            " |      Return self>value.\n",
            " |  \n",
            " |  __hash__(self, /)\n",
            " |      Return hash(self).\n",
            " |  \n",
            " |  __int__(self, /)\n",
            " |      int(self)\n",
            " |  \n",
            " |  __le__(self, value, /)\n",
            " |      Return self<=value.\n",
            " |  \n",
            " |  __lt__(self, value, /)\n",
            " |      Return self<value.\n",
            " |  \n",
            " |  __mod__(self, value, /)\n",
            " |      Return self%value.\n",
            " |  \n",
            " |  __mul__(self, value, /)\n",
            " |      Return self*value.\n",
            " |  \n",
            " |  __ne__(self, value, /)\n",
            " |      Return self!=value.\n",
            " |  \n",
            " |  __neg__(self, /)\n",
            " |      -self\n",
            " |  \n",
            " |  __pos__(self, /)\n",
            " |      +self\n",
            " |  \n",
            " |  __pow__(self, value, mod=None, /)\n",
            " |      Return pow(self, value, mod).\n",
            " |  \n",
            " |  __radd__(self, value, /)\n",
            " |      Return value+self.\n",
            " |  \n",
            " |  __rdivmod__(self, value, /)\n",
            " |      Return divmod(value, self).\n",
            " |  \n",
            " |  __repr__(self, /)\n",
            " |      Return repr(self).\n",
            " |  \n",
            " |  __rfloordiv__(self, value, /)\n",
            " |      Return value//self.\n",
            " |  \n",
            " |  __rmod__(self, value, /)\n",
            " |      Return value%self.\n",
            " |  \n",
            " |  __rmul__(self, value, /)\n",
            " |      Return value*self.\n",
            " |  \n",
            " |  __round__(self, ndigits=None, /)\n",
            " |      Return the Integral closest to x, rounding half toward even.\n",
            " |      \n",
            " |      When an argument is passed, work like built-in round(x, ndigits).\n",
            " |  \n",
            " |  __rpow__(self, value, mod=None, /)\n",
            " |      Return pow(value, self, mod).\n",
            " |  \n",
            " |  __rsub__(self, value, /)\n",
            " |      Return value-self.\n",
            " |  \n",
            " |  __rtruediv__(self, value, /)\n",
            " |      Return value/self.\n",
            " |  \n",
            " |  __sub__(self, value, /)\n",
            " |      Return self-value.\n",
            " |  \n",
            " |  __truediv__(self, value, /)\n",
            " |      Return self/value.\n",
            " |  \n",
            " |  __trunc__(self, /)\n",
            " |      Return the Integral closest to x between 0 and x.\n",
            " |  \n",
            " |  as_integer_ratio(self, /)\n",
            " |      Return integer ratio.\n",
            " |      \n",
            " |      Return a pair of integers, whose ratio is exactly equal to the original float\n",
            " |      and with a positive denominator.\n",
            " |      \n",
            " |      Raise OverflowError on infinities and a ValueError on NaNs.\n",
            " |      \n",
            " |      >>> (10.0).as_integer_ratio()\n",
            " |      (10, 1)\n",
            " |      >>> (0.0).as_integer_ratio()\n",
            " |      (0, 1)\n",
            " |      >>> (-.25).as_integer_ratio()\n",
            " |      (-1, 4)\n",
            " |  \n",
            " |  conjugate(self, /)\n",
            " |      Return self, the complex conjugate of any float.\n",
            " |  \n",
            " |  hex(self, /)\n",
            " |      Return a hexadecimal representation of a floating-point number.\n",
            " |      \n",
            " |      >>> (-0.1).hex()\n",
            " |      '-0x1.999999999999ap-4'\n",
            " |      >>> 3.14159.hex()\n",
            " |      '0x1.921f9f01b866ep+1'\n",
            " |  \n",
            " |  is_integer(self, /)\n",
            " |      Return True if the float is an integer.\n",
            " |  \n",
            " |  ----------------------------------------------------------------------\n",
            " |  Class methods defined here:\n",
            " |  \n",
            " |  __getformat__(typestr, /) from builtins.type\n",
            " |      You probably don't want to use this function.\n",
            " |      \n",
            " |        typestr\n",
            " |          Must be 'double' or 'float'.\n",
            " |      \n",
            " |      It exists mainly to be used in Python's test suite.\n",
            " |      \n",
            " |      This function returns whichever of 'unknown', 'IEEE, big-endian' or 'IEEE,\n",
            " |      little-endian' best describes the format of floating point numbers used by the\n",
            " |      C type named by typestr.\n",
            " |  \n",
            " |  __set_format__(typestr, fmt, /) from builtins.type\n",
            " |      You probably don't want to use this function.\n",
            " |      \n",
            " |        typestr\n",
            " |          Must be 'double' or 'float'.\n",
            " |        fmt\n",
            " |          Must be one of 'unknown', 'IEEE, big-endian' or 'IEEE, little-endian',\n",
            " |          and in addition can only be one of the latter two if it appears to\n",
            " |          match the underlying C reality.\n",
            " |      \n",
            " |      It exists mainly to be used in Python's test suite.\n",
            " |      \n",
            " |      Override the automatic determination of C-level floating point type.\n",
            " |      This affects how floats are converted to and from binary strings.\n",
            " |  \n",
            " |  fromhex(string, /) from builtins.type\n",
            " |      Create a floating-point number from a hexadecimal string.\n",
            " |      \n",
            " |      >>> float.fromhex('0x1.ffffp10')\n",
            " |      2047.984375\n",
            " |      >>> float.fromhex('-0x1p-1074')\n",
            " |      -5e-324\n",
            " |  \n",
            " |  ----------------------------------------------------------------------\n",
            " |  Static methods defined here:\n",
            " |  \n",
            " |  __new__(*args, **kwargs) from builtins.type\n",
            " |      Create and return a new object.  See help(type) for accurate signature.\n",
            " |  \n",
            " |  ----------------------------------------------------------------------\n",
            " |  Data descriptors defined here:\n",
            " |  \n",
            " |  imag\n",
            " |      the imaginary part of a complex number\n",
            " |  \n",
            " |  real\n",
            " |      the real part of a complex number\n",
            "\n",
            "None\n"
          ]
        }
      ],
      "source": [
        "print(help(str))\n",
        "print(help(list))\n",
        "print(help(float))"
      ]
    },
    {
      "cell_type": "markdown",
      "metadata": {
        "id": "36r_or2NPOhl"
      },
      "source": [
        "##### isinstance()"
      ]
    },
    {
      "cell_type": "code",
      "execution_count": null,
      "metadata": {
        "id": "Z7aQPqC0POhl",
        "outputId": "eacc2161-30d2-4090-a1ae-90fae1ce40a5"
      },
      "outputs": [
        {
          "name": "stdout",
          "output_type": "stream",
          "text": [
            "True\n",
            "False\n"
          ]
        }
      ],
      "source": [
        "print(isinstance(5,int))\n",
        "print(isinstance(5.5,int))"
      ]
    },
    {
      "cell_type": "markdown",
      "metadata": {
        "id": "FsT1gz4APOhl"
      },
      "source": [
        "##### abs()"
      ]
    },
    {
      "cell_type": "code",
      "execution_count": null,
      "metadata": {
        "id": "ZStMNX_4POhl",
        "outputId": "29ad08b3-e111-47b0-d5ea-d42f39d0a393"
      },
      "outputs": [
        {
          "name": "stdout",
          "output_type": "stream",
          "text": [
            "25\n",
            "-25\n"
          ]
        }
      ],
      "source": [
        "print(abs(-25))\n",
        "print(-25)"
      ]
    },
    {
      "cell_type": "markdown",
      "metadata": {
        "id": "4hpGaCPmPOhl"
      },
      "source": [
        "### Try and Except"
      ]
    },
    {
      "cell_type": "code",
      "execution_count": null,
      "metadata": {
        "id": "EopVFLafPOhl",
        "outputId": "d651bd80-401d-4593-bffe-1ba70ae192d8"
      },
      "outputs": [
        {
          "name": "stdout",
          "output_type": "stream",
          "text": [
            "There is some error in the code\n"
          ]
        }
      ],
      "source": [
        "#print(num10)\n",
        "try:\n",
        "    print(num10)\n",
        "except:\n",
        "    print(\"There is some error in the code\")\n"
      ]
    },
    {
      "cell_type": "markdown",
      "metadata": {
        "id": "08rq95sxPOhl"
      },
      "source": [
        "### Lists"
      ]
    },
    {
      "cell_type": "markdown",
      "metadata": {
        "id": "fRrh2jKQPOhm"
      },
      "source": [
        "##### Declaring Lists"
      ]
    },
    {
      "cell_type": "code",
      "execution_count": null,
      "metadata": {
        "id": "F4wtI4zjPOhm",
        "outputId": "6db34a56-cdd6-4b6d-efc9-a2db8962b77f"
      },
      "outputs": [
        {
          "name": "stdout",
          "output_type": "stream",
          "text": [
            "['apple', 'Banana', 'Grapes', 'Orange']\n"
          ]
        }
      ],
      "source": [
        "fruits = ['apple', 'Banana', 'Grapes', 'Orange']\n",
        "print(fruits)"
      ]
    },
    {
      "cell_type": "markdown",
      "metadata": {
        "id": "jWIBW8apPOhm"
      },
      "source": [
        "##### Indexing a List"
      ]
    },
    {
      "cell_type": "code",
      "execution_count": null,
      "metadata": {
        "id": "5v29YoR9POhm",
        "outputId": "70b59627-bc4f-4be7-dd66-1973997d8213"
      },
      "outputs": [
        {
          "name": "stdout",
          "output_type": "stream",
          "text": [
            "1\n"
          ]
        }
      ],
      "source": [
        "fruits = ['apple', 'Banana', 'Grapes', 'Orange']\n",
        "Bindex = fruits.index('Banana')\n",
        "print(Bindex)"
      ]
    },
    {
      "cell_type": "markdown",
      "metadata": {
        "id": "XkMUW-c0POhm"
      },
      "source": [
        "##### .append()"
      ]
    },
    {
      "cell_type": "code",
      "execution_count": null,
      "metadata": {
        "id": "_UeAG1qTPOhm",
        "outputId": "ee8cd0ee-c1c5-4d2a-b1de-b0cf7f7893a0"
      },
      "outputs": [
        {
          "name": "stdout",
          "output_type": "stream",
          "text": [
            "['apple', 'Banana', 'Grapes', 'Orange', 'Watermelon']\n"
          ]
        }
      ],
      "source": [
        "fruits = ['apple', 'Banana', 'Grapes', 'Orange']\n",
        "fruits.append('Watermelon')\n",
        "print(fruits)"
      ]
    },
    {
      "cell_type": "markdown",
      "metadata": {
        "id": "1MlwhBFAPOhm"
      },
      "source": [
        "##### .insert()"
      ]
    },
    {
      "cell_type": "code",
      "execution_count": null,
      "metadata": {
        "id": "tD83VcupPOhm",
        "outputId": "bd167ec1-3211-4cb5-c973-d510e25d4fb1"
      },
      "outputs": [
        {
          "name": "stdout",
          "output_type": "stream",
          "text": [
            "['apple', 'Banana', 'Grapes', 'Watermelon', 'Orange']\n"
          ]
        }
      ],
      "source": [
        "fruits = ['apple', 'Banana', 'Grapes', 'Orange']\n",
        "fruits.insert(3, 'Watermelon')\n",
        "print(fruits)"
      ]
    },
    {
      "cell_type": "markdown",
      "metadata": {
        "id": "t48hPUbBPOhm"
      },
      "source": [
        "##### .pop()"
      ]
    },
    {
      "cell_type": "code",
      "execution_count": null,
      "metadata": {
        "id": "DT7Qe0EzPOhm",
        "outputId": "5f5f8603-e399-458d-87fe-83a98f3bd24c"
      },
      "outputs": [
        {
          "name": "stdout",
          "output_type": "stream",
          "text": [
            "Grapes\n"
          ]
        }
      ],
      "source": [
        "fruits = ['apple', 'Banana', 'Grapes', 'Orange']\n",
        "thirdfruit = fruits.pop(2)\n",
        "print(thirdfruit)"
      ]
    },
    {
      "cell_type": "markdown",
      "metadata": {
        "id": "rz5-XH82POhn"
      },
      "source": [
        "\n",
        "##### .remove()"
      ]
    },
    {
      "cell_type": "code",
      "execution_count": null,
      "metadata": {
        "id": "PfbD0eXdPOhn",
        "outputId": "de89a96a-5297-4021-a2e0-9910f7a02c98"
      },
      "outputs": [
        {
          "name": "stdout",
          "output_type": "stream",
          "text": [
            "['apple', 'Banana', 'Grapes']\n"
          ]
        }
      ],
      "source": [
        "fruits = ['apple', 'Banana', 'Grapes', 'Orange']\n",
        "fruits.remove('Orange')\n",
        "print(fruits)"
      ]
    },
    {
      "cell_type": "markdown",
      "metadata": {
        "id": "AbOoED0_POhn"
      },
      "source": [
        "##### del()"
      ]
    },
    {
      "cell_type": "code",
      "execution_count": null,
      "metadata": {
        "id": "WcPrN3zpPOhn",
        "outputId": "20fbf7a8-1353-4587-c1c3-eca9da221010"
      },
      "outputs": [
        {
          "name": "stdout",
          "output_type": "stream",
          "text": [
            "['apple', 'Banana', 'Grapes', 'Orange']\n",
            "['apple', 'Banana', 'Orange']\n"
          ]
        }
      ],
      "source": [
        "fruits = ['apple', 'Banana', 'Grapes', 'Orange']\n",
        "#del(fruits)\n",
        "print(fruits)\n",
        "del (fruits[2])\n",
        "print(fruits)"
      ]
    },
    {
      "cell_type": "markdown",
      "metadata": {
        "id": "M644Wao0POhn"
      },
      "source": [
        "##### Concatenating Two Lists"
      ]
    },
    {
      "cell_type": "code",
      "execution_count": null,
      "metadata": {
        "id": "ImLnrE-wPOhn",
        "outputId": "eed80080-0a8b-4a44-f060-4372629a904f"
      },
      "outputs": [
        {
          "name": "stdout",
          "output_type": "stream",
          "text": [
            "['apple', 'Banana', 'Grapes', 'Orange', 'Potato', 'Onion', 'Spinach']\n"
          ]
        }
      ],
      "source": [
        "fruits = ['apple', 'Banana', 'Grapes', 'Orange']\n",
        "vegetables = ['Potato', 'Onion', 'Spinach']\n",
        "fruitsandvegetables = fruits + vegetables\n",
        "print(fruitsandvegetables)"
      ]
    },
    {
      "cell_type": "markdown",
      "metadata": {
        "id": "GoozwCsJPOhn"
      },
      "source": [
        "##### Lists Within Lists"
      ]
    },
    {
      "cell_type": "code",
      "execution_count": null,
      "metadata": {
        "id": "LDWizzIiPOhn",
        "outputId": "0d603af4-c517-43c5-85da-4596d83c35d0"
      },
      "outputs": [
        {
          "name": "stdout",
          "output_type": "stream",
          "text": [
            "['Curd', 'Rice', ['apple', 'Banana', 'Grapes', 'Orange'], ['Potato', 'Onion', 'Spinach']]\n"
          ]
        }
      ],
      "source": [
        "food = ['Curd', 'Rice', ['apple', 'Banana', 'Grapes', 'Orange'], ['Potato', 'Onion', 'Spinach']]\n",
        "print(food)"
      ]
    },
    {
      "cell_type": "markdown",
      "metadata": {
        "id": "pRjz6HgRPOhn"
      },
      "source": [
        "##### Looping Through Lists"
      ]
    },
    {
      "cell_type": "code",
      "execution_count": null,
      "metadata": {
        "id": "LZq2xvxqPOhn",
        "outputId": "d5417557-f92a-4228-8f84-9f5c95dbbfa7"
      },
      "outputs": [
        {
          "name": "stdout",
          "output_type": "stream",
          "text": [
            "Curd\n",
            "Rice\n",
            "['apple', 'Banana', 'Grapes', 'Orange']\n",
            "['Potato', 'Onion', 'Spinach']\n"
          ]
        }
      ],
      "source": [
        "fooditmems = ['Curd', 'Rice', ['apple', 'Banana', 'Grapes', 'Orange'], ['Potato', 'Onion', 'Spinach']]\n",
        "for fooditem in fooditmems:\n",
        "    print(fooditem)"
      ]
    },
    {
      "cell_type": "markdown",
      "metadata": {
        "id": "OXm9cQldPOhn"
      },
      "source": [
        "## Exercise #1 <br>\n",
        "<p>Cube Number Test... Print out all cubed numbers up to the total value 1000. Meaning that if the cubed number is over 1000 break the loop.</p>"
      ]
    },
    {
      "cell_type": "code",
      "execution_count": null,
      "metadata": {
        "id": "jy4wsoCaPOho",
        "outputId": "9d525941-1152-4821-f75b-8a187768d5d0"
      },
      "outputs": [
        {
          "name": "stdout",
          "output_type": "stream",
          "text": [
            "All Cubed numbers between 1 to 1000\n",
            "Number is: 1 and its cube is 1\n",
            "Number is: 2 and its cube is 8\n",
            "Number is: 3 and its cube is 27\n",
            "Number is: 4 and its cube is 64\n",
            "Number is: 5 and its cube is 125\n",
            "Number is: 6 and its cube is 216\n",
            "Number is: 7 and its cube is 343\n",
            "Number is: 8 and its cube is 512\n",
            "Number is: 9 and its cube is 729\n",
            "Number is: 10 and its cube is 1000\n"
          ]
        }
      ],
      "source": [
        "#Program to print all cubed numbers between 1 to 1000\n",
        "print(\"All Cubed numbers between 1 to 1000\")\n",
        "number = 1\n",
        "cubenumber = 1\n",
        "while (True):\n",
        "    cubenumber = number * number * number\n",
        "    if (cubenumber > 1000):               #check if given cubed number is greater than 1000\n",
        "        break                             #if yes break and get out of the loop\n",
        "    print(\"Number is: {} and its cube is {}\".format(number, cubenumber))\n",
        "    number = number + 1"
      ]
    },
    {
      "cell_type": "markdown",
      "metadata": {
        "id": "QEwYtz9NPOho"
      },
      "source": [
        "## Exercise #2 <br>\n",
        "<p>Get first prime numbers up to 100</p>"
      ]
    },
    {
      "cell_type": "code",
      "execution_count": null,
      "metadata": {
        "id": "gnrOMeWIPOho",
        "outputId": "9b4d07aa-6c8f-4a00-dbd3-7498a887db7f"
      },
      "outputs": [
        {
          "name": "stdout",
          "output_type": "stream",
          "text": [
            "List of prime numbers between 1 to 100:\n",
            "2\n",
            "3\n",
            "5\n",
            "7\n",
            "11\n",
            "13\n",
            "17\n",
            "19\n",
            "23\n",
            "29\n",
            "31\n",
            "37\n",
            "41\n",
            "43\n",
            "47\n",
            "53\n",
            "59\n",
            "61\n",
            "67\n",
            "71\n",
            "73\n",
            "79\n",
            "83\n",
            "89\n",
            "97\n"
          ]
        }
      ],
      "source": [
        "# HINT::\n",
        "# An else after an if runs if the if didn’t\n",
        "# An else after a for runs if the for didn’t break\n",
        "print('List of prime numbers between 1 to 100:')\n",
        "for number in range (1,101):             #Loop to check all numbers between 1, 100\n",
        "    if(number > 1):                      #check if number is greater than becouse all prime numbers are greater than 1\n",
        "        for factor in range (2,number):  #Loop to find out if number has any factors \n",
        "            if(number%factor == 0):      #If remainder is zero, number is divisible by the selected factor, hence not a prime no   \n",
        "                break                    #As number is not prime brake the loop\n",
        "        else:                            #If loop does not break, means there are no factors for a given number\n",
        "            print(number)                #Hence print that number as it is a prime number"
      ]
    },
    {
      "cell_type": "markdown",
      "metadata": {
        "id": "UEvGhbnPPOho"
      },
      "source": [
        "# Exercise 3 <br>\n",
        "<p>Take in a users input for their age, if they are younger than 18 print kids, if they're 18 to 65 print adults, else print seniors</p>"
      ]
    },
    {
      "cell_type": "code",
      "execution_count": null,
      "metadata": {
        "id": "eMSDgjnmPOho",
        "outputId": "a72e5537-a40a-4748-c1f6-2f7c85081a28"
      },
      "outputs": [
        {
          "name": "stdout",
          "output_type": "stream",
          "text": [
            "Please input your age: 22\n",
            "Adults\n"
          ]
        }
      ],
      "source": [
        "userage = input('Please input your age: ')\n",
        "if int(userage) < 18:\n",
        "    print('Kids')\n",
        "elif int(userage) >= 18 and int(userage) <=65:\n",
        "    print('Adults')\n",
        "else:\n",
        "    print('Seniors')"
      ]
    }
  ],
  "metadata": {
    "kernelspec": {
      "display_name": "Python 3 (ipykernel)",
      "language": "python",
      "name": "python3"
    },
    "language_info": {
      "codemirror_mode": {
        "name": "ipython",
        "version": 3
      },
      "file_extension": ".py",
      "mimetype": "text/x-python",
      "name": "python",
      "nbconvert_exporter": "python",
      "pygments_lexer": "ipython3",
      "version": "3.9.7"
    },
    "colab": {
      "provenance": []
    }
  },
  "nbformat": 4,
  "nbformat_minor": 0
}