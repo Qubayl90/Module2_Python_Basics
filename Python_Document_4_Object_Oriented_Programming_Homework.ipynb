{
  "cells": [
    {
      "cell_type": "markdown",
      "metadata": {
        "id": "hdRrqGKmz1lM"
      },
      "source": [
        "# Exercises"
      ]
    },
    {
      "cell_type": "markdown",
      "metadata": {
        "id": "sHCGQiGFz1lM"
      },
      "source": [
        "### Exercise 1 - Turn the shopping cart program from yesterday into an object-oriented program\n",
        "\n",
        "The comments in the cell below are there as a guide for thinking about the problem. However, if you feel a different way is best for you and your own thought process, please do what feels best for you by all means."
      ]
    },
    {
      "cell_type": "code",
      "execution_count": null,
      "metadata": {
        "id": "DhOKssjzz1lM"
      },
      "outputs": [],
      "source": [
        "# Create a class called cart that retains items and has methods to add, remove, and show\n",
        "class Cart():\n",
        "    \"\"\"\n",
        "    The cart class will be used to manage shopping cart for the users.\n",
        "    Attributes for the class:\n",
        "    - items: list of products added to shopping cart \n",
        "    Methods of the class:\n",
        "    - showCart: to see list of all items in shopping cart\n",
        "    - addItem: To add product to the shopping cart\n",
        "    - deleteItem: To remove particular product from the shopping cart\n",
        "    \"\"\"    \n",
        "    \n",
        "    def __init__(self, items=[]):\n",
        "      self.items = items\n",
        "    \n",
        "    def showCart(self):\n",
        "      if self.items == []:\n",
        "        print(\"Your Shopping Cart is Empty\")\n",
        "      else:\n",
        "        print(\"Shopping Cart: \")\n",
        "        i = 1\n",
        "        for item in self.items:\n",
        "          print(i, \"-\", item)\n",
        "          i = i+1\n",
        "    \n",
        "    def addItem(self, item):\n",
        "      if(item.lower() in (x.lower() for x in myCart.items)):\n",
        "        print(\"{} is already in your cart\".format(item))\n",
        "      else:\n",
        "        self.items.append(item)\n",
        "        print(\"{} - has been added to your shopping cart\".format(item))\n",
        "\n",
        "    def deleteItem(self, item):\n",
        "      self.items.remove(item)"
      ]
    },
    {
      "cell_type": "code",
      "source": [
        "from IPython.display import clear_output\n",
        "\n",
        "myCart = Cart()\n",
        "\n",
        "while True:\n",
        "  print(\"***************************************************************\")\n",
        "  print(\"Please select the option\")\n",
        "  print(\"1. Show Shopping list\")\n",
        "  print(\"2. Add Product\")\n",
        "  print(\"3. Delete Product\")\n",
        "  print(\"4. Quit\")\n",
        "  option = input(\"Please Input Your Option: \")\n",
        "  clear_output()\n",
        "  if (option == '1'):\n",
        "    myCart.showCart()\n",
        "  elif(option == '2'):\n",
        "    product_name = input(\"Please Input Name of the product to add to your shopping list: \")\n",
        "    myCart.addItem(product_name.title())\n",
        "  elif(option == '3'):\n",
        "    myCart.showCart()\n",
        "    if(myCart.items != []):\n",
        "      product_to_delete = input(\"Please Input Name of the product to remove from your shopping list: \")\n",
        "      if(product_to_delete.lower() in (item.lower() for item in myCart.items)):\n",
        "        myCart.deleteItem(product_to_delete.title())\n",
        "        print(\"{} - has been removed from your shopping list\".format(product_to_delete))\n",
        "      else:\n",
        "        print(\"Input product is not in your cart. Please input correct product name to delete\")\n",
        "    #show_cart(shopping_list)\n",
        "  elif (option == '4'):\n",
        "    myCart.showCart()\n",
        "    break\n",
        "  else:\n",
        "    print(\"Wrong Input, Please input the correct option\")"
      ],
      "metadata": {
        "colab": {
          "base_uri": "https://localhost:8080/"
        },
        "id": "R7IerB6A2BaT",
        "outputId": "b4698f01-8efd-4d28-8768-fe84c1281e0c"
      },
      "execution_count": null,
      "outputs": [
        {
          "output_type": "stream",
          "name": "stdout",
          "text": [
            "Shopping Cart: \n",
            "1 - Orange\n",
            "2 - Watch\n"
          ]
        }
      ]
    },
    {
      "cell_type": "markdown",
      "metadata": {
        "id": "gWHOzZzqz1lN"
      },
      "source": [
        "### Exercise 2 - Write a Python class which has two methods get_String and print_String. get_String accept a string from the user and print_String print the string in upper case"
      ]
    },
    {
      "cell_type": "code",
      "execution_count": 1,
      "metadata": {
        "id": "5To2fDVuz1lN"
      },
      "outputs": [],
      "source": [
        "class myString():\n",
        "  def get_string(self, input_string):\n",
        "    self.input_string = input_string\n",
        "  def print_string(self):\n",
        "    print(self.input_string.upper())"
      ]
    },
    {
      "cell_type": "code",
      "source": [
        "testString = myString()\n",
        "\n",
        "user_input = input(\"Please input your String Text: \")\n",
        "\n",
        "testString.get_string(user_input)\n",
        "\n",
        "testString.print_string()"
      ],
      "metadata": {
        "colab": {
          "base_uri": "https://localhost:8080/"
        },
        "id": "qPTxFFxi-79_",
        "outputId": "16f21ff9-73fb-40ba-be9a-eed5974bde4e"
      },
      "execution_count": 3,
      "outputs": [
        {
          "output_type": "stream",
          "name": "stdout",
          "text": [
            "Please input your String Text: Hello Friends\n",
            "HELLO FRIENDS\n"
          ]
        }
      ]
    }
  ],
  "metadata": {
    "kernelspec": {
      "display_name": "Python 3",
      "language": "python",
      "name": "python3"
    },
    "language_info": {
      "codemirror_mode": {
        "name": "ipython",
        "version": 3
      },
      "file_extension": ".py",
      "mimetype": "text/x-python",
      "name": "python",
      "nbconvert_exporter": "python",
      "pygments_lexer": "ipython3",
      "version": "3.8.5"
    },
    "colab": {
      "provenance": []
    }
  },
  "nbformat": 4,
  "nbformat_minor": 0
}