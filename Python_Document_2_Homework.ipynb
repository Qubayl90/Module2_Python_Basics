{
  "cells": [
    {
      "cell_type": "markdown",
      "metadata": {
        "id": "7hO4ysd9P005"
      },
      "source": [
        "# Exercises"
      ]
    },
    {
      "cell_type": "markdown",
      "metadata": {
        "id": "Qes3JA3DP005"
      },
      "source": [
        "## Exercise 1 <br>\n",
        "<p>Given a list as a parameter,write a function that returns a list of numbers that are less than ten</b></i></p><br>\n",
        "<p> For example: Say your input parameter to the function is [1,11,14,5,8,9]...Your output should [1,5,8,9]</p>"
      ]
    },
    {
      "cell_type": "code",
      "execution_count": 3,
      "metadata": {
        "id": "pmizltRmP005",
        "colab": {
          "base_uri": "https://localhost:8080/"
        },
        "outputId": "66dca2ad-4374-46c3-c1e0-410390d23c26"
      },
      "outputs": [
        {
          "output_type": "stream",
          "name": "stdout",
          "text": [
            "[1, 5, 8, 9]\n"
          ]
        }
      ],
      "source": [
        "# Use the following list - [1,11,14,5,8,9]\n",
        "def less_than_ten(l1):                  #Function to return list with values only less than 10 \n",
        "  new_list = []\n",
        "  new_list = [x for x in l1 if x<10 ]   #Loop through list, take value of each item in list, check if it is less than, if yes add it to new list \n",
        "  return new_list\n",
        "\n",
        "l_1 = [1,11,14,5,8,9]\n",
        "\n",
        "print(less_than_ten(l_1))"
      ]
    },
    {
      "cell_type": "markdown",
      "metadata": {
        "id": "6pWnWlrWP005"
      },
      "source": [
        "## Exercise 2 <br>\n",
        "<p>Write a function that takes in two lists and returns the two lists merged together and sorted<br>\n",
        "<b><i>Hint: You can use the .sort() method</i></b></p>"
      ]
    },
    {
      "cell_type": "code",
      "execution_count": 4,
      "metadata": {
        "id": "0uWVu4sAP005",
        "colab": {
          "base_uri": "https://localhost:8080/"
        },
        "outputId": "24809e03-1ecb-47cf-a36b-510d939e85b1"
      },
      "outputs": [
        {
          "output_type": "stream",
          "name": "stdout",
          "text": [
            "[1, 2, 3, 3, 4, 4, 5, 5, 6, 6, 7, 8, 10]\n"
          ]
        }
      ],
      "source": [
        "l_1 = [1,2,3,4,5,6]\n",
        "l_2 = [3,4,5,6,7,8,10]\n",
        "\n",
        "def merge_and_sort(l1, l2):              #function to merge two input list and sort them\n",
        "  merged_list = l1 + l2                  #Concatenate two list\n",
        "  merged_list.sort()                     #sort the merged list\n",
        "  return merged_list\n",
        "\n",
        "print(merge_and_sort(l_1, l_2))\n"
      ]
    }
  ],
  "metadata": {
    "kernelspec": {
      "display_name": "Python 3",
      "language": "python",
      "name": "python3"
    },
    "language_info": {
      "codemirror_mode": {
        "name": "ipython",
        "version": 3
      },
      "file_extension": ".py",
      "mimetype": "text/x-python",
      "name": "python",
      "nbconvert_exporter": "python",
      "pygments_lexer": "ipython3",
      "version": "3.8.5"
    },
    "colab": {
      "provenance": []
    }
  },
  "nbformat": 4,
  "nbformat_minor": 0
}