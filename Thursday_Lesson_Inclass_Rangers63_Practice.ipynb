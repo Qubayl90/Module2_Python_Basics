{
  "cells": [
    {
      "cell_type": "markdown",
      "metadata": {
        "id": "view-in-github",
        "colab_type": "text"
      },
      "source": [
        "<a href=\"https://colab.research.google.com/github/Qubayl90/Module2_Python_Basics/blob/main/Thursday_Lesson_Inclass_Rangers63_Practice.ipynb\" target=\"_parent\"><img src=\"https://colab.research.google.com/assets/colab-badge.svg\" alt=\"Open In Colab\"/></a>"
      ]
    },
    {
      "cell_type": "markdown",
      "metadata": {
        "id": "mWEWYJ9rz1ku"
      },
      "source": [
        "# Object-Oriented-Programming (OOP)"
      ]
    },
    {
      "cell_type": "markdown",
      "metadata": {
        "id": "uB4meSw7z1ky"
      },
      "source": [
        "## Tasks Today:\n",
        "\n",
        "   \n",
        "\n",
        "1) <b>Creating a Class (Initializing/Declaring)</b> <br>\n",
        "2) <b>Using a Class (Instantiating)</b> <br>\n",
        " &nbsp;&nbsp;&nbsp;&nbsp; a) Creating One Instance <br>\n",
        " &nbsp;&nbsp;&nbsp;&nbsp; b) Creating Multiple Instances <br>\n",
        " &nbsp;&nbsp;&nbsp;&nbsp; c) In-Class Exercise #1 - Create a Class 'Car' and instantiate three different makes of cars <br>\n",
        "3) <b>The \\__init\\__() Method</b> <br>\n",
        " &nbsp;&nbsp;&nbsp;&nbsp; a) The 'self' Attribute <br>\n",
        "4) <b>Class Attributes</b> <br>\n",
        " &nbsp;&nbsp;&nbsp;&nbsp; a) Initializing Attributes <br>\n",
        " &nbsp;&nbsp;&nbsp;&nbsp; b) Setting an Attribute Outside of the \\__init\\__() Method <br>\n",
        " &nbsp;&nbsp;&nbsp;&nbsp; c) Setting Defaults for Attributes <br>\n",
        " &nbsp;&nbsp;&nbsp;&nbsp; d) Accessing Class Attributes <br>\n",
        " &nbsp;&nbsp;&nbsp;&nbsp; e) Changing Class Attributes <br>\n",
        " &nbsp;&nbsp;&nbsp;&nbsp; f) In-Class Exercise #2 - Add a color and wheels attribute to your 'Car' class <br>\n",
        "5) <b>Class Methods</b> <br>\n",
        " &nbsp;&nbsp;&nbsp;&nbsp; a) Creating <br>\n",
        " &nbsp;&nbsp;&nbsp;&nbsp; b) Calling <br>\n",
        " &nbsp;&nbsp;&nbsp;&nbsp; c) Modifying an Attribute's Value Through a Method <br>\n",
        " &nbsp;&nbsp;&nbsp;&nbsp; d) Incrementing an Attribute's Value Through a Method <br>\n",
        " &nbsp;&nbsp;&nbsp;&nbsp; e) In-Class Exercise #3 - Add a method that prints the cars color and wheel number, then call them <br>\n",
        "6) <b>Inheritance</b> <br>\n",
        " &nbsp;&nbsp;&nbsp;&nbsp; a) Syntax for Inheriting from a Parent Class <br>\n",
        " &nbsp;&nbsp;&nbsp;&nbsp; b) The \\__init\\__() Method for a Child Class (super()) <br>\n",
        " &nbsp;&nbsp;&nbsp;&nbsp; c) Defining Attributes and Methods for the Child Class <br>\n",
        " &nbsp;&nbsp;&nbsp;&nbsp; d) Method Overriding <br>\n",
        " &nbsp;&nbsp;&nbsp;&nbsp; e) In-Class Exercise #4 - Create a class 'Ford' that inherits from 'Car' class and initialize it as a Blue Ford Explorer with 4 wheels using the super() method <br>\n",
        "7) <b>Classes as Attributes</b> <br>\n",
        "8) <b>Exercises</b> <br>\n",
        " &nbsp;&nbsp;&nbsp;&nbsp; a) Exercise #1 - Turn the shopping cart program from yesterday into an object-oriented program <br>"
      ]
    },
    {
      "cell_type": "markdown",
      "metadata": {
        "id": "Fh0MVooJz1k0"
      },
      "source": [
        "## Creating a Class (Initializing/Declaring)\n",
        "<p>When creating a class, function, or even a variable you are initializing that object. Initializing and Declaring occur at the same time in Python, whereas in lower level languages you have to declare an object before initializing it. This is the first step in the process of using a class.</p>"
      ]
    },
    {
      "cell_type": "code",
      "execution_count": null,
      "metadata": {
        "id": "En4P7Flfz1k2"
      },
      "outputs": [],
      "source": [
        "class Car():\n",
        "    wheels = 4\n",
        "    color = 'blue'"
      ]
    },
    {
      "cell_type": "markdown",
      "metadata": {
        "id": "_unX3tNTz1k4"
      },
      "source": [
        "## Using a Class (Instantiating)\n",
        "<p>The process of creating a class is called <i>Instantiating</i>. Each time you create a variable of that type of class, it is referred to as an <i>Instance</i> of that class. This is the second step in the process of using a class.</p>"
      ]
    },
    {
      "cell_type": "markdown",
      "metadata": {
        "id": "NSSwG4TQz1k5"
      },
      "source": [
        "##### Creating One Instance"
      ]
    },
    {
      "cell_type": "code",
      "execution_count": null,
      "metadata": {
        "id": "rQTQK8alz1k5"
      },
      "outputs": [],
      "source": [
        "ford = Car()"
      ]
    },
    {
      "cell_type": "markdown",
      "metadata": {
        "id": "KmEHxNZsz1k6"
      },
      "source": [
        "##### Creating Multiple Instances"
      ]
    },
    {
      "cell_type": "code",
      "execution_count": null,
      "metadata": {
        "id": "eKVaDj-Uz1k6"
      },
      "outputs": [],
      "source": [
        "toyota = Car()"
      ]
    },
    {
      "cell_type": "markdown",
      "metadata": {
        "id": "dHIVZmL9z1k7"
      },
      "source": [
        "##### In-Class Exercise #1 - Create a Class 'Car' and Instantiate three different makes of cars"
      ]
    },
    {
      "cell_type": "code",
      "execution_count": null,
      "metadata": {
        "id": "X2t4d0XHz1k8"
      },
      "outputs": [],
      "source": [
        "ferrari = Car()"
      ]
    },
    {
      "cell_type": "markdown",
      "metadata": {
        "id": "l9agNMzyz1k8"
      },
      "source": [
        "## The \\__init\\__() Method <br>\n",
        "<p>This method is used in almost every created class, and called only once upon the creation of the class instance. This method will initialize all variables needed for the object.</p>"
      ]
    },
    {
      "cell_type": "code",
      "execution_count": null,
      "metadata": {
        "id": "4udwyvo0z1k8"
      },
      "outputs": [],
      "source": [
        "class Car():\n",
        "    wheels = 4\n",
        "    color = 'blue'\n",
        "    def function()"
      ]
    },
    {
      "cell_type": "markdown",
      "metadata": {
        "id": "RYN-FuvHz1k9"
      },
      "source": [
        "##### The 'self' Attribute <br>\n",
        "<p>This attribute is required to keep track of specific instance's attributes. Without the self attribute, the program would not know how to reference or keep track of an instance's attributes.</p>"
      ]
    },
    {
      "cell_type": "code",
      "execution_count": null,
      "metadata": {
        "colab": {
          "base_uri": "https://localhost:8080/"
        },
        "id": "02hiufEGz1k9",
        "outputId": "46337810-a316-439d-b0f4-cd6312f9d40b"
      },
      "outputs": [
        {
          "output_type": "stream",
          "name": "stdout",
          "text": [
            "<__main__.Car object at 0x7fe0a4f4b6d0>\n",
            "4\n",
            "Red\n"
          ]
        }
      ],
      "source": [
        "# see above\n",
        "class Car():\n",
        "  wheels = 4\n",
        "  color = 'blue'\n",
        "  def __init__(self, color, wheels):\n",
        "    self.color = color\n",
        "    self.wheels = wheels\n",
        "\n",
        "toyota = Car('Red', 4)\n",
        "\n",
        "print(toyota)\n",
        "print(toyota.wheels)\n",
        "print(toyota.color)"
      ]
    },
    {
      "cell_type": "markdown",
      "metadata": {
        "id": "UjSuYki5z1k-"
      },
      "source": [
        "## Class Attributes <br>\n",
        "<p>While variables are inside of a class, they are referred to as attributes and not variables. When someone says 'attribute' you know they're speaking about a class. Attributes can be initialized through the init method, or outside of it.</p>"
      ]
    },
    {
      "cell_type": "markdown",
      "metadata": {
        "id": "xjgRITpPz1k-"
      },
      "source": [
        "##### Initializing Attributes"
      ]
    },
    {
      "cell_type": "code",
      "execution_count": null,
      "metadata": {
        "id": "J9aoTVkpz1k_"
      },
      "outputs": [],
      "source": [
        "# see above\n",
        "class Car():\n",
        "  wheels = 4\n",
        "  color = 'blue'\n",
        "  def __init__(self, color, wheels):\n",
        "    self.color = color\n",
        "    self.wheels = wheels\n",
        "\n",
        "toyota = Car('Red', 4)\n",
        "\n",
        "print(toyota)\n",
        "print(toyota.wheels)\n",
        "print(toyota.color)"
      ]
    },
    {
      "cell_type": "markdown",
      "metadata": {
        "id": "0aL8Lg1xz1k_"
      },
      "source": [
        "##### Accessing Class Attributes"
      ]
    },
    {
      "cell_type": "code",
      "execution_count": null,
      "metadata": {
        "scrolled": true,
        "id": "_M3c-6yvz1lA"
      },
      "outputs": [],
      "source": [
        "# See Above"
      ]
    },
    {
      "cell_type": "markdown",
      "metadata": {
        "id": "EiCfIZaQz1lA"
      },
      "source": [
        "##### Setting Defaults for Attributes"
      ]
    },
    {
      "cell_type": "code",
      "execution_count": null,
      "metadata": {
        "colab": {
          "base_uri": "https://localhost:8080/"
        },
        "id": "s8L5xCsmz1lB",
        "outputId": "8a7d77f9-1359-47f8-864e-0bb38a62408d"
      },
      "outputs": [
        {
          "output_type": "stream",
          "name": "stdout",
          "text": [
            "<__main__.Car object at 0x7fe09520cd60>\n",
            "4\n",
            "Blue\n"
          ]
        }
      ],
      "source": [
        "# see above\n",
        "class Car():\n",
        "  wheels = 4\n",
        "  def __init__(self, hp):\n",
        "    self.color = 'Blue'\n",
        "    self.hp = hp\n",
        "\n",
        "toyota = Car(50)\n",
        "\n",
        "print(toyota)\n",
        "print(toyota.wheels)\n",
        "print(toyota.color)"
      ]
    },
    {
      "cell_type": "markdown",
      "metadata": {
        "id": "K4BYJ_3Oz1lB"
      },
      "source": [
        "##### Changing Class Attributes <br>\n",
        "<p>Keep in mind there are global class attributes and then there are attributes only available to each class instance which won't effect other classes.</p>"
      ]
    },
    {
      "cell_type": "code",
      "execution_count": null,
      "metadata": {
        "colab": {
          "base_uri": "https://localhost:8080/"
        },
        "id": "6QkiuH43z1lB",
        "outputId": "213a27ef-43e6-49d2-f283-429852f1f1a3"
      },
      "outputs": [
        {
          "output_type": "stream",
          "name": "stdout",
          "text": [
            "Clean\n"
          ]
        }
      ],
      "source": [
        "class house():\n",
        "  def __init__(self, wall, dishes):\n",
        "    self.wall = wall\n",
        "    self.dishes = dishes\n",
        "  def washDishes(self):\n",
        "    if self.dishes.lower() == 'dirty':\n",
        "      return 'Clean'\n",
        "  def rockClimbingWall(self, wall):\n",
        "    if self.wall.lower == 'yes':\n",
        "      return \"You can Rock man\"\n",
        "    else:\n",
        "      return \"Why you want to climb\"\n",
        "\n",
        "abc_house = house('yes', 'dirty')\n",
        "\n",
        "print(abc_house.washDishes())"
      ]
    },
    {
      "cell_type": "code",
      "execution_count": null,
      "metadata": {
        "id": "P5hlMfS4z1lC"
      },
      "outputs": [],
      "source": []
    },
    {
      "cell_type": "markdown",
      "metadata": {
        "id": "aQal05onz1lC"
      },
      "source": [
        "##### In-Class Exercise #2 - Add a doors and seats attribute to your 'Car' class then print out two different instances with different doors and seats"
      ]
    },
    {
      "cell_type": "code",
      "execution_count": null,
      "metadata": {
        "id": "Wy4PT0fFz1lC"
      },
      "outputs": [],
      "source": []
    },
    {
      "cell_type": "markdown",
      "metadata": {
        "id": "raugSYUGz1lD"
      },
      "source": [
        "## Class Methods <br>\n",
        "<p>While inside of a class, functions are referred to as 'methods'. If you hear someone mention methods, they're speaking about classes. Methods are essentially functions, but only callable on the instances of a class.</p>"
      ]
    },
    {
      "cell_type": "markdown",
      "metadata": {
        "id": "jn2_zXCVz1lD"
      },
      "source": [
        "##### Creating"
      ]
    },
    {
      "cell_type": "code",
      "execution_count": null,
      "metadata": {
        "id": "dG1WfVbYz1lE"
      },
      "outputs": [],
      "source": [
        "class ShoppingBag():\n",
        "  \"\"\"\n",
        "  The shoppping class will have handles, capacity, and items to place inside.\n",
        "  Attributes for the class:\n",
        "   - handles: expected to be an integer \n",
        "   - capacity: expected to be a string or an integer\n",
        "   - items: expected to be a list\n",
        "  \"\"\"\n",
        "\n",
        "  def __init__(self, handles, capacity, items):\n",
        "    self.handles = handles \n",
        "    self.capacity = capacity\n",
        "    self.items = items\n",
        "\n",
        "  #Method to see items in shopping bag\n",
        "  def showShoppingBag(self):\n",
        "    print('You have below items in your bag')\n",
        "    for item in self.items:\n",
        "      print(item)\n",
        "\n",
        "  def showCapacity(self):\n",
        "    print(f'Your capacity is: {self.capacity}')\n",
        "  \n",
        "  def addToShoppingBag(self):\n",
        "    product = input(\"What would you like to add?\")\n",
        "    self.items.append(product)\n",
        "\n",
        "  def changeBagCapacity(self, capacity):\n",
        "    self.capacity = capacity\n",
        "\n",
        "  def increaseCapacity(self, changed_capacity = 10):\n",
        "    if self.capacity == isinstance(self.capacity, str):\n",
        "      print(\"We can't add that here\")\n",
        "    else:\n",
        "      self.capacity += changed_capacity\n"
      ]
    },
    {
      "cell_type": "markdown",
      "metadata": {
        "id": "yD_8d6eiz1lE"
      },
      "source": [
        "##### Calling"
      ]
    },
    {
      "cell_type": "code",
      "execution_count": null,
      "metadata": {
        "colab": {
          "base_uri": "https://localhost:8080/"
        },
        "id": "x3EU5615z1lE",
        "outputId": "a169dbe7-a127-436c-8e01-2a2e1a44693d"
      },
      "outputs": [
        {
          "output_type": "stream",
          "name": "stdout",
          "text": [
            "What do you want to do? add/show/quit: show\n",
            "You have below items in your bag\n",
            "What do you want to do? add/show/quit: add\n",
            "What would you like to add?grapes\n",
            "What do you want to do? add/show/quit: add\n",
            "What would you like to add?table\n",
            "What do you want to do? add/show/quit: show\n",
            "You have below items in your bag\n",
            "grapes\n",
            "table\n",
            "What do you want to do? add/show/quit: addd\n",
            "incorrect option please try again\n",
            "What do you want to do? add/show/quit: add\n",
            "What would you like to add?pen\n",
            "What do you want to do? add/show/quit: show\n",
            "You have below items in your bag\n",
            "grapes\n",
            "table\n",
            "pen\n",
            "What do you want to do? add/show/quit: quit\n",
            "You have below items in your bag\n",
            "grapes\n",
            "table\n",
            "pen\n",
            "Thanks for shopping\n"
          ]
        }
      ],
      "source": [
        "# See Above\n",
        "wholeFoods_bag = ShoppingBag(2, 10, [])\n",
        "\n",
        "def run():\n",
        "  while True:\n",
        "    response = input(\"What do you want to do? add/show/quit: \")\n",
        "\n",
        "    if response.lower() == 'quit':\n",
        "      wholeFoods_bag.showShoppingBag()\n",
        "      print(\"Thanks for shopping\")\n",
        "      break\n",
        "    elif response.lower() =='add':\n",
        "      wholeFoods_bag.addToShoppingBag()\n",
        "    elif response.lower() == 'show':\n",
        "      wholeFoods_bag.showShoppingBag()\n",
        "    else:\n",
        "      print(\"incorrect option please try again\")\n",
        "\n",
        "run()"
      ]
    },
    {
      "cell_type": "markdown",
      "metadata": {
        "id": "GhXEHyqhz1lF"
      },
      "source": [
        "##### Modifying an Attribute's Value Through a Method"
      ]
    },
    {
      "cell_type": "code",
      "execution_count": null,
      "metadata": {
        "colab": {
          "base_uri": "https://localhost:8080/"
        },
        "id": "cSB5Yv8Bz1lF",
        "outputId": "623df76b-1b90-47e9-ab8c-852b1e217aba"
      },
      "outputs": [
        {
          "output_type": "stream",
          "name": "stdout",
          "text": [
            "Your capacity is: 10\n",
            "Capacity after change\n",
            "Your capacity is: 40\n"
          ]
        }
      ],
      "source": [
        "wholeFoods_bag.showCapacity()\n",
        "print(\"Capacity after change\")\n",
        "wholeFoods_bag.changeBagCapacity(40)\n",
        "wholeFoods_bag.showCapacity()"
      ]
    },
    {
      "cell_type": "markdown",
      "metadata": {
        "id": "adQBbLtYz1lF"
      },
      "source": [
        "##### Incrementing an Attribute's Value Through a Method"
      ]
    },
    {
      "cell_type": "code",
      "execution_count": null,
      "metadata": {
        "colab": {
          "base_uri": "https://localhost:8080/"
        },
        "id": "xjmYUFXSz1lG",
        "outputId": "5cfbb0c9-e4c1-4343-cb62-82a3a1ebe8ef"
      },
      "outputs": [
        {
          "output_type": "stream",
          "name": "stdout",
          "text": [
            "Your capacity is: 40\n",
            "Capacity after increase\n",
            "Your capacity is: 50\n"
          ]
        }
      ],
      "source": [
        "wholeFoods_bag.showCapacity()\n",
        "print(\"Capacity after increase\")\n",
        "wholeFoods_bag.increaseCapacity()\n",
        "wholeFoods_bag.showCapacity()"
      ]
    },
    {
      "cell_type": "markdown",
      "metadata": {
        "id": "dafjLm28z1lG"
      },
      "source": [
        "##### In-Class Exercise #3 - Add a method that takes in three parameters of year, doors and seats and prints out a formatted print statement with make, model, year, seats, and doors"
      ]
    },
    {
      "cell_type": "code",
      "execution_count": 7,
      "metadata": {
        "id": "nyRYIhwnz1lH"
      },
      "outputs": [],
      "source": [
        "# Create class with 2 paramters inside of the __init__ which are make and model\n",
        "class Car():\n",
        "  def __init__(self, make, model):\n",
        "    self.make = make\n",
        "    self.model = model\n",
        "\n",
        "# Inside of the Car class create a method that has 4 parameter in total (self,year,door,seats)\n",
        "  def modify(self, year, door, seats):\n",
        "    self.year = year\n",
        "    self.door = door\n",
        "    self.seats = seats\n",
        "\n",
        "# Output: This car is from 2019 and is a Ford Expolorer and has 4 doors and 5 seats\n",
        "  def showCar(self):\n",
        "    print(f'This car is form {self.year} and is a {self.make} {self.model} and has {self.door} doors and {self.seats} seats')\n",
        "\n"
      ]
    },
    {
      "cell_type": "code",
      "source": [
        "myCar = Car('Ford','Explorer')\n",
        "\n",
        "print(myCar.make, myCar.model)\n",
        "\n",
        "myCar.modify(2021, 2, 2)\n",
        "\n",
        "myCar.showCar()"
      ],
      "metadata": {
        "colab": {
          "base_uri": "https://localhost:8080/"
        },
        "id": "dmb4TNxIew4J",
        "outputId": "76e901dc-18a5-4422-f3d7-16b6fb4cb688"
      },
      "execution_count": 10,
      "outputs": [
        {
          "output_type": "stream",
          "name": "stdout",
          "text": [
            "Ford Explorer\n",
            "This car is form 2021 and is a Ford Explorer and has 2 doors and 2 seats\n"
          ]
        }
      ]
    },
    {
      "cell_type": "markdown",
      "metadata": {
        "id": "m0sUWVWBz1lH"
      },
      "source": [
        "## Inheritance <br>\n",
        "<p>You can create a child-parent relationship between two classes by using inheritance. What this allows you to do is have overriding methods, but also inherit traits from the parent class. Think of it as an actual parent and child, the child will inherit the parent's genes, as will the classes in OOP</p>"
      ]
    },
    {
      "cell_type": "markdown",
      "metadata": {
        "id": "hD8GNND5z1lH"
      },
      "source": [
        "##### Syntax for Inheriting from a Parent Class"
      ]
    },
    {
      "cell_type": "code",
      "execution_count": 14,
      "metadata": {
        "id": "kyV7reqHz1lI",
        "colab": {
          "base_uri": "https://localhost:8080/"
        },
        "outputId": "763df1c0-5cc4-4b8f-c84a-424afa8c67a3"
      },
      "outputs": [
        {
          "output_type": "stream",
          "name": "stdout",
          "text": [
            "Bark\n",
            "Some generic sound\n",
            "None\n",
            "Some generic sound\n",
            "None\n",
            "9.8\n",
            "15\n"
          ]
        }
      ],
      "source": [
        "class Animal():\n",
        "  accelration =9.8\n",
        "\n",
        "  def __init__(self, name, species, legs = 4):\n",
        "    self.name = name\n",
        "    self.species = species\n",
        "    self.legs = legs\n",
        "\n",
        "  def makeSound(self):\n",
        "    print(\"Some generic sound\")\n",
        "  \n",
        "class Dog(Animal):\n",
        "  speed = 15\n",
        "\n",
        "  def printInfo(self):\n",
        "    print(f'The Dog has speed of {self.speed} and accelration of {self.accelration}')\n",
        "\n",
        "class Mutt(Dog):\n",
        "  color = \"Tan\"\n",
        "  \n",
        "  #Override the Animal class, using the Dog Class to override the init from Animal\n",
        "  def __init__(self, name, species, eye_color, legs = 4):\n",
        "    Dog.__init__(self, name, species, legs)\n",
        "    self.eye_color = eye_color\n",
        "\n",
        "  #Override the MakeSound method from Animal Class\n",
        "  def makeSound(self):\n",
        "    noise = \"Bark\"\n",
        "    return noise\n",
        "\n",
        "lassie = Dog('Lassie', 'Dog')\n",
        "basic_animal = Animal(\"Generic Animal name\", \"Generic Animal species\")\n",
        "buster = Mutt('Buster', 'Mut', 'Brown') \n",
        "\n",
        "print(buster.makeSound())\n",
        "print(lassie.makeSound())\n",
        "print(basic_animal.makeSound())\n",
        "\n",
        "print(buster.accelration)\n",
        "#print(basic_animal.speed)\n",
        "print(buster.speed)"
      ]
    },
    {
      "cell_type": "markdown",
      "metadata": {
        "id": "KtWalRcRz1lI"
      },
      "source": [
        "##### The \\__init\\__() Method for a Child Class - super()"
      ]
    },
    {
      "cell_type": "code",
      "execution_count": 15,
      "metadata": {
        "scrolled": true,
        "id": "xfRrS2u5z1lI",
        "colab": {
          "base_uri": "https://localhost:8080/"
        },
        "outputId": "9da49eab-4c32-42a6-c5b2-1dceed55a875"
      },
      "outputs": [
        {
          "output_type": "stream",
          "name": "stdout",
          "text": [
            "Bark\n",
            "Some generic sound\n",
            "None\n",
            "Some generic sound\n",
            "None\n",
            "9.8\n",
            "15\n"
          ]
        }
      ],
      "source": [
        "class Puppy(Dog):\n",
        "  color = \"Black and Brown\"\n",
        "\n",
        "  #Override the animal class init via Dog Class\n",
        "  def __init__(self, name, species, eye_color, legs = 4):\n",
        "    super.__init__(name, species, legs)\n",
        "    self.eye_color = eye_color\n",
        "\n",
        "  def makeSounde(self):\n",
        "    noise = 'Bark'\n",
        "    return noise\n",
        "\n",
        "\n",
        "print(buster.makeSound())\n",
        "print(lassie.makeSound())\n",
        "print(basic_animal.makeSound())\n",
        "\n",
        "print(buster.accelration)\n",
        "#print(basic_animal.speed)\n",
        "print(buster.speed)"
      ]
    },
    {
      "cell_type": "markdown",
      "metadata": {
        "id": "97RC7WcYz1lJ"
      },
      "source": [
        "##### Defining Attributes and Methods for the Child Class"
      ]
    },
    {
      "cell_type": "code",
      "execution_count": null,
      "metadata": {
        "id": "V3lqA27Qz1lJ"
      },
      "outputs": [],
      "source": [
        "# See Above"
      ]
    },
    {
      "cell_type": "markdown",
      "metadata": {
        "id": "jSsUWFvcz1lJ"
      },
      "source": [
        "##### Method Overriding"
      ]
    },
    {
      "cell_type": "code",
      "execution_count": null,
      "metadata": {
        "id": "Bb-fpJsUz1lK"
      },
      "outputs": [],
      "source": [
        "# See Above"
      ]
    },
    {
      "cell_type": "markdown",
      "metadata": {
        "id": "OPKmU5Wcz1lL"
      },
      "source": [
        "## Classes as Attributes <br>\n",
        "<p>Classes can also be used as attributes within another class. This is useful in situations where you need to keep variables locally stored, instead of globally stored.</p>"
      ]
    },
    {
      "cell_type": "code",
      "execution_count": 17,
      "metadata": {
        "id": "Kexv_8vSz1lL",
        "colab": {
          "base_uri": "https://localhost:8080/",
          "height": 53
        },
        "outputId": "8c718d0c-105c-4c72-dac3-6182067f1386"
      },
      "outputs": [
        {
          "output_type": "stream",
          "name": "stdout",
          "text": [
            "20\n"
          ]
        },
        {
          "output_type": "execute_result",
          "data": {
            "text/plain": [
              "'2019 tesla C-class 20'"
            ],
            "application/vnd.google.colaboratory.intrinsic+json": {
              "type": "string"
            }
          },
          "metadata": {},
          "execution_count": 17
        }
      ],
      "source": [
        "class Battery():\n",
        "  volts = 7.8\n",
        "  def __init__(self, cells):\n",
        "    self.cells = cells\n",
        "\n",
        "class Car():\n",
        "  def __init__(self, year, make, model, battery):\n",
        "    self.year = year\n",
        "    self.make = make\n",
        "    self.model = model\n",
        "    self.battery = battery\n",
        "\n",
        "  def printInfo(self):\n",
        "    return f'{self.year} {self.make} {self.model} {self.battery.cells}'\n",
        "\n",
        "my_battery = Battery(20)\n",
        "\n",
        "my_car1 = Car(2019, 'tesla', 'C-class',my_battery)\n",
        "\n",
        "print(my_car1.battery.cells)\n",
        "my_car1.printInfo()\n"
      ]
    },
    {
      "cell_type": "markdown",
      "metadata": {
        "id": "hdRrqGKmz1lM"
      },
      "source": [
        "# Exercises"
      ]
    },
    {
      "cell_type": "markdown",
      "metadata": {
        "id": "sHCGQiGFz1lM"
      },
      "source": [
        "### Exercise 1 - Turn the shopping cart program from yesterday into an object-oriented program\n",
        "\n",
        "The comments in the cell below are there as a guide for thinking about the problem. However, if you feel a different way is best for you and your own thought process, please do what feels best for you by all means."
      ]
    },
    {
      "cell_type": "code",
      "execution_count": 5,
      "metadata": {
        "id": "DhOKssjzz1lM"
      },
      "outputs": [],
      "source": [
        "# Create a class called cart that retains items and has methods to add, remove, and show\n",
        "class Cart():\n",
        "    \"\"\"\n",
        "    The cart class will be used to manage shopping cart for the users.\n",
        "    Attributes for the class:\n",
        "    - items: list of products added to shopping cart \n",
        "    Methods of the class:\n",
        "    - showCart: to see list of all items in shopping cart\n",
        "    - addItem: To add product to the shopping cart\n",
        "    - deleteItem: To remove particular product from the shopping cart\n",
        "    \"\"\"    \n",
        "    \n",
        "    def __init__(self, items=[]):\n",
        "      self.items = items\n",
        "    \n",
        "    def showCart(self):\n",
        "      if self.items == []:\n",
        "        print(\"Your Shopping Cart is Empty\")\n",
        "      else:\n",
        "        print(\"Shopping Cart: \")\n",
        "        i = 1\n",
        "        for item in self.items:\n",
        "          print(i, \"-\", item)\n",
        "          i = i+1\n",
        "    \n",
        "    def addItem(self, item):\n",
        "      if(item.lower() in (x.lower() for x in myCart.items)):\n",
        "        print(\"{} is already in your cart\".format(item))\n",
        "      else:\n",
        "        self.items.append(item)\n",
        "        print(\"{} - has been added to your shopping cart\".format(item))\n",
        "\n",
        "    def deleteItem(self, item):\n",
        "      self.items.remove(item)"
      ]
    },
    {
      "cell_type": "code",
      "source": [
        "from IPython.display import clear_output\n",
        "\n",
        "myCart = Cart()\n",
        "\n",
        "while True:\n",
        "  print(\"***************************************************************\")\n",
        "  print(\"Please select the option\")\n",
        "  print(\"1. Show Shopping list\")\n",
        "  print(\"2. Add Product\")\n",
        "  print(\"3. Delete Product\")\n",
        "  print(\"4. Quit\")\n",
        "  option = input(\"Please Input Your Option: \")\n",
        "  clear_output()\n",
        "  if (option == '1'):\n",
        "    myCart.showCart()\n",
        "  elif(option == '2'):\n",
        "    product_name = input(\"Please Input Name of the product to add to your shopping list: \")\n",
        "    myCart.addItem(product_name.title())\n",
        "  elif(option == '3'):\n",
        "    myCart.showCart()\n",
        "    if(myCart.items != []):\n",
        "      product_to_delete = input(\"Please Input Name of the product to remove from your shopping list: \")\n",
        "      if(product_to_delete.lower() in (item.lower() for item in myCart.items)):\n",
        "        myCart.deleteItem(product_to_delete.title())\n",
        "        print(\"{} - has been removed from your shopping list\".format(product_to_delete))\n",
        "      else:\n",
        "        print(\"Input product is not in your cart. Please input correct product name to delete\")\n",
        "    #show_cart(shopping_list)\n",
        "  elif (option == '4'):\n",
        "    myCart.showCart()\n",
        "    break\n",
        "  else:\n",
        "    print(\"Wrong Input, Please input the correct option\")"
      ],
      "metadata": {
        "colab": {
          "base_uri": "https://localhost:8080/"
        },
        "id": "R7IerB6A2BaT",
        "outputId": "b4698f01-8efd-4d28-8768-fe84c1281e0c"
      },
      "execution_count": 6,
      "outputs": [
        {
          "output_type": "stream",
          "name": "stdout",
          "text": [
            "Shopping Cart: \n",
            "1 - Orange\n",
            "2 - Watch\n"
          ]
        }
      ]
    },
    {
      "cell_type": "markdown",
      "metadata": {
        "id": "gWHOzZzqz1lN"
      },
      "source": [
        "### Exercise 2 - Write a Python class which has two methods get_String and print_String. get_String accept a string from the user and print_String print the string in upper case"
      ]
    },
    {
      "cell_type": "code",
      "execution_count": 7,
      "metadata": {
        "id": "5To2fDVuz1lN"
      },
      "outputs": [],
      "source": [
        "class myString():\n",
        "  def get_string(self, input_string):\n",
        "    self.input_string = input_string\n",
        "  def print_string(self):\n",
        "    print(self.input_string.upper())"
      ]
    },
    {
      "cell_type": "code",
      "source": [
        "testString = myString()\n",
        "\n",
        "testString.get_string(\"Hello Friends\")\n",
        "\n",
        "testString.print_string()"
      ],
      "metadata": {
        "colab": {
          "base_uri": "https://localhost:8080/"
        },
        "id": "qPTxFFxi-79_",
        "outputId": "6cb69db0-1416-495e-af0d-05208b9e2237"
      },
      "execution_count": 8,
      "outputs": [
        {
          "output_type": "stream",
          "name": "stdout",
          "text": [
            "HELLO FRIENDS\n"
          ]
        }
      ]
    }
  ],
  "metadata": {
    "kernelspec": {
      "display_name": "Python 3",
      "language": "python",
      "name": "python3"
    },
    "language_info": {
      "codemirror_mode": {
        "name": "ipython",
        "version": 3
      },
      "file_extension": ".py",
      "mimetype": "text/x-python",
      "name": "python",
      "nbconvert_exporter": "python",
      "pygments_lexer": "ipython3",
      "version": "3.8.5"
    },
    "colab": {
      "provenance": [],
      "include_colab_link": true
    }
  },
  "nbformat": 4,
  "nbformat_minor": 0
}