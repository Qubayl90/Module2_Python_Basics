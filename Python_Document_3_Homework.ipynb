{
  "cells": [
    {
      "cell_type": "markdown",
      "metadata": {
        "id": "view-in-github",
        "colab_type": "text"
      },
      "source": [
        "<a href=\"https://colab.research.google.com/github/Qubayl90/Module2_Python_Basics/blob/main/Python_Document_3_Homework.ipynb\" target=\"_parent\"><img src=\"https://colab.research.google.com/assets/colab-badge.svg\" alt=\"Open In Colab\"/></a>"
      ]
    },
    {
      "cell_type": "markdown",
      "metadata": {
        "id": "WtAhbJ-jHisY"
      },
      "source": [
        "# Exercises"
      ]
    },
    {
      "cell_type": "markdown",
      "metadata": {
        "id": "c5FolYebHisY"
      },
      "source": [
        "### 1) Build a Shopping Cart <br>\n",
        "<p><b>You can use either lists or dictionaries. The program should have the following capabilities:</b><br><br>\n",
        "1) Takes in input <br>\n",
        "2) Stores user input into a dictionary or list <br>\n",
        "3) The User can add or delete items <br>\n",
        "4) The User can see current shopping list <br>\n",
        "5) The program Loops until user 'quits' <br>\n",
        "6) Upon quiting the program, print out all items in the user's list <br>\n",
        "</p>"
      ]
    },
    {
      "cell_type": "code",
      "execution_count": null,
      "metadata": {
        "id": "-PHu7fjsHisY",
        "colab": {
          "base_uri": "https://localhost:8080/"
        },
        "outputId": "cc289764-d50a-43ba-fcf1-e2e662ff2994"
      },
      "outputs": [
        {
          "output_type": "stream",
          "name": "stdout",
          "text": [
            "Shopping Cart: \n",
            "1 - Pen\n",
            "2 - Table\n",
            "3 - Watch\n"
          ]
        }
      ],
      "source": [
        "from IPython.display import clear_output\n",
        "# Ask the user four bits of input: Do you want to : Show/Add/Delete or Quit?\n",
        "\n",
        "#shopping_list = ['Pen', 'Laptop', 'Watch']\n",
        "shopping_list = []\n",
        "\n",
        "def show_cart(shopping_list):\n",
        "  if shopping_list == []:\n",
        "    print(\"Your Shopping Cart is Empty\")\n",
        "  else:\n",
        "    print(\"Shopping Cart: \")\n",
        "    i = 1\n",
        "    for item in shopping_list:\n",
        "      print(i, \"-\", item)\n",
        "      i = i+1\n",
        "\n",
        "while True:\n",
        "  print(\"***************************************************************\")\n",
        "  print(\"Please select the option\")\n",
        "  print(\"1. Show Shopping list\")\n",
        "  print(\"2. Add Product\")\n",
        "  print(\"3. Delete Product\")\n",
        "  print(\"4. Quit\")\n",
        "  option = input(\"Please Input Your Option: \")\n",
        "  clear_output()\n",
        "  if (option == '1'):\n",
        "    show_cart(shopping_list)\n",
        "  elif(option == '2'):\n",
        "    product_name = input(\"Please Input Name of the product to add to your shopping list: \")\n",
        "    if(product_name.lower() in (item.lower() for item in shopping_list)):\n",
        "      print(\"{} is already in your cart\".format(product_name))\n",
        "    else:\n",
        "      shopping_list.append(product_name.title())\n",
        "      print(\"{} - has been added to your shopping cart\".format(product_name))\n",
        "  elif(option == '3'):\n",
        "    show_cart(shopping_list)\n",
        "    if(shopping_list != []):\n",
        "      product_to_delete = input(\"Please Input Name of the product to remove from your shopping list: \")\n",
        "      if(product_to_delete.lower() in (item.lower() for item in shopping_list)):\n",
        "        shopping_list.remove(product_to_delete.title())\n",
        "        print(\"{} - has been removed from your shopping list\".format(product_to_delete))\n",
        "      else:\n",
        "        print(\"Input product is not in your cart. Please input correct product name to delete\")\n",
        "    #show_cart(shopping_list)\n",
        "  elif (option == '4'):\n",
        "    show_cart(shopping_list)\n",
        "    break\n",
        "  else:\n",
        "    print(\"Wrong Input, Please input the correct option\")"
      ]
    },
    {
      "cell_type": "markdown",
      "metadata": {
        "id": "AhbC2bBIHisY"
      },
      "source": [
        "### 2) Create a Module in VS Code and Import It into jupyter notebook <br>\n",
        "<p><b>Module should have the following capabilities:</b><br><br>\n",
        "1) Has a function to calculate the square footage of a house <br>\n",
        "    <b>Reminder of Formula: Length X Width == Area<br>\n",
        "        <hr>\n",
        "2) Has a function to calculate the circumference of a circle <br><br>\n",
        "<b>Program in Jupyter Notebook should take in user input and use imported functions to calculate a circle's circumference or a houses square footage</b>\n",
        "</p>"
      ]
    },
    {
      "cell_type": "code",
      "execution_count": null,
      "metadata": {
        "id": "B9a66YKzHisZ",
        "colab": {
          "base_uri": "https://localhost:8080/"
        },
        "outputId": "8ccfe2fa-13bb-4907-e5d3-833e5e93e042"
      },
      "outputs": [
        {
          "output_type": "stream",
          "name": "stdout",
          "text": [
            "Please Input Width of House: 16\n",
            "Please Input Length of House: 50\n",
            "Area of house is:  800.0\n",
            "Please Input Radius of Circle: 40\n",
            "Circumference of Circle is:  251.33\n"
          ]
        }
      ],
      "source": [
        "from google.colab import files\n",
        "from mymath import area_of_rectangle, circle_circumference\n",
        "width = float(input(\"Please Input Width of House: \"))\n",
        "length = float(input(\"Please Input Length of House: \"))\n",
        "print(\"Area of house is: \", round(area_of_rectangle(width,length),2))\n",
        "\n",
        "radius = float(input(\"Please Input Radius of Circle: \"))\n",
        "print(\"Circumference of Circle is: \", round(circle_circumference(radius),2))\n"
      ]
    }
  ],
  "metadata": {
    "kernelspec": {
      "display_name": "Python 3",
      "language": "python",
      "name": "python3"
    },
    "language_info": {
      "codemirror_mode": {
        "name": "ipython",
        "version": 3
      },
      "file_extension": ".py",
      "mimetype": "text/x-python",
      "name": "python",
      "nbconvert_exporter": "python",
      "pygments_lexer": "ipython3",
      "version": "3.7.6"
    },
    "colab": {
      "provenance": [],
      "include_colab_link": true
    }
  },
  "nbformat": 4,
  "nbformat_minor": 0
}