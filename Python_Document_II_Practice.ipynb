{
  "cells": [
    {
      "cell_type": "markdown",
      "metadata": {
        "id": "04aX0G2pP00s"
      },
      "source": [
        "# Functions, Scoping, Data Collections 1 & List Comprehensions"
      ]
    },
    {
      "cell_type": "markdown",
      "metadata": {
        "id": "FKWWAR3oP00v"
      },
      "source": [
        "## Tasks Today:\n",
        "\n",
        "<i>Monday Additions (or, and ... if statements)</i>\n",
        "\n",
        "1) String Manipulation <br>\n",
        " &nbsp;&nbsp;&nbsp;&nbsp; a) strip() <br>\n",
        " &nbsp;&nbsp;&nbsp;&nbsp; b) title() <br>\n",
        "2) Working With Lists <br>\n",
        " &nbsp;&nbsp;&nbsp;&nbsp; a) min() <br>\n",
        " &nbsp;&nbsp;&nbsp;&nbsp; b) max() <br>\n",
        " &nbsp;&nbsp;&nbsp;&nbsp; c) sum() <br>\n",
        " &nbsp;&nbsp;&nbsp;&nbsp; d) sort() <br>\n",
        " &nbsp;&nbsp;&nbsp;&nbsp; e) Copying a List <br>\n",
        " &nbsp;&nbsp;&nbsp;&nbsp; f) 'in' keyword <br>\n",
        " &nbsp;&nbsp;&nbsp;&nbsp; g) 'not in' keyword <br>\n",
        " &nbsp;&nbsp;&nbsp;&nbsp; i) Checking an Empty List <br>\n",
        " &nbsp;&nbsp;&nbsp;&nbsp; j) Removing Instances with a Loop <br>\n",
        "3) List Comprehensions <br>\n",
        "4) Tuples <br>\n",
        " &nbsp;&nbsp;&nbsp;&nbsp; a) sorted() <br>\n",
        "5) Functions <br>\n",
        " &nbsp;&nbsp;&nbsp;&nbsp; a) User-Defined vs. Built-In Functions <br>\n",
        " &nbsp;&nbsp;&nbsp;&nbsp; b) Accepting Parameters <br>\n",
        " &nbsp;&nbsp;&nbsp;&nbsp; c) Default Parameters <br>\n",
        " &nbsp;&nbsp;&nbsp;&nbsp; d) Making an Argument Optional <br>\n",
        " &nbsp;&nbsp;&nbsp;&nbsp; e) Keyword Arguments <br>\n",
        " &nbsp;&nbsp;&nbsp;&nbsp; f) Returning Values <br>\n",
        " &nbsp;&nbsp;&nbsp;&nbsp; g) *args <br>\n",
        " &nbsp;&nbsp;&nbsp;&nbsp; h) Docstring <br>\n",
        " &nbsp;&nbsp;&nbsp;&nbsp; i) Using a User Function in a Loop <br>\n",
        "6) Scope"
      ]
    },
    {
      "cell_type": "markdown",
      "metadata": {
        "id": "sBIOrMM7P00w"
      },
      "source": [
        "### String Manipulation"
      ]
    },
    {
      "cell_type": "markdown",
      "metadata": {
        "id": "3iCIvj8EP00w"
      },
      "source": [
        "##### .lstrip()"
      ]
    },
    {
      "cell_type": "code",
      "execution_count": 26,
      "metadata": {
        "colab": {
          "base_uri": "https://localhost:8080/"
        },
        "id": "xBRrGW-8P00w",
        "outputId": "84220fd8-e1a1-4018-942e-05d787b1379e"
      },
      "outputs": [
        {
          "output_type": "stream",
          "name": "stdout",
          "text": [
            "String 1:   ---Demo String\n",
            "String 2: ---Demo String\n",
            "String 3: Demo String\n"
          ]
        }
      ],
      "source": [
        "# string.lstrip()\n",
        "str1 = \"  ---Demo String\"\n",
        "print(\"String 1: \"+str1)\n",
        "str2 = str1.lstrip()\n",
        "print(\"String 2: \"+str2)\n",
        "str3 = str2.lstrip(\"-\")\n",
        "print(\"String 3: \"+str3)"
      ]
    },
    {
      "cell_type": "markdown",
      "metadata": {
        "id": "ge9p4Q9xP00x"
      },
      "source": [
        "##### .rstrip()"
      ]
    },
    {
      "cell_type": "code",
      "execution_count": 27,
      "metadata": {
        "colab": {
          "base_uri": "https://localhost:8080/"
        },
        "id": "087yOYfDP00x",
        "outputId": "1594ef2d-0c90-4e73-94ae-e7d5ba870db9"
      },
      "outputs": [
        {
          "output_type": "stream",
          "name": "stdout",
          "text": [
            "String 1:   ---Demo String-----     \n",
            "String 2:   ---Demo String-----\n",
            "String 3:   ---Demo String\n"
          ]
        }
      ],
      "source": [
        "# string.rstrip()\n",
        "str1 = \"  ---Demo String-----     \"\n",
        "print(\"String 1: \"+str1)\n",
        "str2 = str1.rstrip()\n",
        "print(\"String 2: \"+str2)\n",
        "str3 = str2.rstrip(\"-\")\n",
        "print(\"String 3: \"+str3)"
      ]
    },
    {
      "cell_type": "markdown",
      "metadata": {
        "id": "W7I5bJG4P00x"
      },
      "source": [
        "##### .strip()"
      ]
    },
    {
      "cell_type": "code",
      "execution_count": 28,
      "metadata": {
        "colab": {
          "base_uri": "https://localhost:8080/"
        },
        "id": "huPdGBZiP00x",
        "outputId": "bfb6f56b-a09d-41a2-ce12-446ee94f3986"
      },
      "outputs": [
        {
          "output_type": "stream",
          "name": "stdout",
          "text": [
            "String 1:   ---Demo String-----     \n",
            "String 2: ---Demo String-----\n",
            "String 3: Demo String\n"
          ]
        }
      ],
      "source": [
        "# string.strip()\n",
        "str1 = \"  ---Demo String-----     \"\n",
        "print(\"String 1: \"+str1)\n",
        "str2 = str1.strip()\n",
        "print(\"String 2: \"+str2)\n",
        "str3 = str2.strip(\"-\")\n",
        "print(\"String 3: \"+str3)"
      ]
    },
    {
      "cell_type": "markdown",
      "metadata": {
        "id": "9JDBHdIIP00x"
      },
      "source": [
        "##### .title()"
      ]
    },
    {
      "cell_type": "code",
      "execution_count": 29,
      "metadata": {
        "colab": {
          "base_uri": "https://localhost:8080/"
        },
        "id": "BfmkLz48P00y",
        "outputId": "b122b8b2-4e5f-4bf7-c931-db9e543efe3a"
      },
      "outputs": [
        {
          "output_type": "stream",
          "name": "stdout",
          "text": [
            "String 1: welcome to demo World\n",
            "String 2: Welcome To Demo World\n"
          ]
        }
      ],
      "source": [
        "# string.title()\n",
        "str1 = \"welcome to demo World\"\n",
        "print(\"String 1: \"+str1)\n",
        "str2 = str1.title()\n",
        "print(\"String 2: \"+str2)"
      ]
    },
    {
      "cell_type": "markdown",
      "metadata": {
        "id": "wh5EypDzP00y"
      },
      "source": [
        "### String Exercise <br>\n",
        "<p>Strip all white space and capitalize every name in the list given</p>"
      ]
    },
    {
      "cell_type": "code",
      "execution_count": 30,
      "metadata": {
        "colab": {
          "base_uri": "https://localhost:8080/"
        },
        "id": "x4iEjXtVP00y",
        "outputId": "ac74af54-33b1-4b1d-a1d8-0589c316382f"
      },
      "outputs": [
        {
          "output_type": "stream",
          "name": "stdout",
          "text": [
            "Connor\n",
            "Max\n",
            "Evan\n",
            "Jordan\n"
          ]
        }
      ],
      "source": [
        "names = ['    coNNor', 'max', ' EVan ', 'JORDAN']\n",
        "# HINT: You will need to use a for loop for iteration\n",
        "for name in names:\n",
        "  str1 = name.strip()\n",
        "  print(str1.title())\n"
      ]
    },
    {
      "cell_type": "markdown",
      "metadata": {
        "id": "pVJkMu5JP00y"
      },
      "source": [
        "### Working With Lists"
      ]
    },
    {
      "cell_type": "markdown",
      "metadata": {
        "id": "8HfMxdMWP00y"
      },
      "source": [
        "##### min()"
      ]
    },
    {
      "cell_type": "code",
      "execution_count": 31,
      "metadata": {
        "colab": {
          "base_uri": "https://localhost:8080/"
        },
        "id": "3U2KgwdKP00y",
        "outputId": "c245a27b-895c-4bf0-9826-3bfc7d97fadb"
      },
      "outputs": [
        {
          "output_type": "stream",
          "name": "stdout",
          "text": [
            "List 1 min value:  abc\n",
            "List 2 min value:  121\n"
          ]
        }
      ],
      "source": [
        "# min(list)\n",
        "list1 = ['lmn', 'abc', 'opq', 'xyz']\n",
        "list2 = [458, 121, 900, 456, 789, 999]\n",
        "print (\"List 1 min value: \", min(list1))\n",
        "print (\"List 2 min value: \", min(list2))"
      ]
    },
    {
      "cell_type": "markdown",
      "metadata": {
        "id": "KvEAunrXP00y"
      },
      "source": [
        "##### max()"
      ]
    },
    {
      "cell_type": "code",
      "execution_count": 32,
      "metadata": {
        "colab": {
          "base_uri": "https://localhost:8080/"
        },
        "id": "d3MhLfgCP00z",
        "outputId": "b7b484ec-07eb-4b56-a1d6-3c72dc8fd83e"
      },
      "outputs": [
        {
          "output_type": "stream",
          "name": "stdout",
          "text": [
            "List 1 min value:  xyz\n",
            "List 2 min value:  999\n"
          ]
        }
      ],
      "source": [
        "# max(list)\n",
        "list1 = ['lmn', 'abc', 'opq', 'xyz']\n",
        "list2 = [458, 121, 900, 456, 789, 999]\n",
        "print (\"List 1 min value: \", max(list1))\n",
        "print (\"List 2 min value: \", max(list2))"
      ]
    },
    {
      "cell_type": "markdown",
      "metadata": {
        "id": "_ykN2FGcP00z"
      },
      "source": [
        "##### sum()"
      ]
    },
    {
      "cell_type": "code",
      "execution_count": 33,
      "metadata": {
        "colab": {
          "base_uri": "https://localhost:8080/"
        },
        "id": "tB_oXLHhP00z",
        "outputId": "c4af0d15-c4d3-4598-c332-adbd73ca767f"
      },
      "outputs": [
        {
          "output_type": "stream",
          "name": "stdout",
          "text": [
            "22\n",
            "25\n"
          ]
        }
      ],
      "source": [
        "# sum(list)\n",
        "numlist = [2, 3, 4, 5, 2, 6]\n",
        "print(sum(numlist))\n",
        "print(sum(numlist, 3))"
      ]
    },
    {
      "cell_type": "markdown",
      "metadata": {
        "id": "jfcB7f3kP00z"
      },
      "source": [
        "##### sorted()"
      ]
    },
    {
      "cell_type": "code",
      "execution_count": 34,
      "metadata": {
        "colab": {
          "base_uri": "https://localhost:8080/"
        },
        "id": "5nMJglObP00z",
        "outputId": "4f1e71b2-2ec1-454b-cf96-7b3fb0577d57"
      },
      "outputs": [
        {
          "output_type": "stream",
          "name": "stdout",
          "text": [
            "[2, 3, 4, 5, 6, 10, 12, 20, 33, 36]\n",
            "Original List:  [2, 3, 4, 36, 33, 12, 5, 20, 6, 10]\n",
            "Sorted List:  [2, 3, 4, 5, 6, 10, 12, 20, 33, 36]\n"
          ]
        }
      ],
      "source": [
        "# sorted(list)\n",
        "numlist2 = [2, 3, 4, 36, 33, 12, 5, 20, 6, 10]\n",
        "print (sorted(numlist2))\n",
        "sorted_list = sorted(numlist2)\n",
        "print(\"Original List: \", numlist2)\n",
        "print(\"Sorted List: \", sorted_list)"
      ]
    },
    {
      "cell_type": "markdown",
      "metadata": {
        "id": "1RAs8YbDP00z"
      },
      "source": [
        "##### .sort() <br>\n",
        "<p>Difference between sort and sorted, is that sorted doesn't change original list it returns a copy, while .sort changes the original list</p>"
      ]
    },
    {
      "cell_type": "code",
      "execution_count": 35,
      "metadata": {
        "colab": {
          "base_uri": "https://localhost:8080/"
        },
        "id": "L6J383xqP00z",
        "outputId": "177dcb46-d821-403c-d453-9f4856f82d77"
      },
      "outputs": [
        {
          "output_type": "stream",
          "name": "stdout",
          "text": [
            "Original List:  [2, 3, 4, 36, 33, 12, 5, 20, 6, 10]\n",
            "Sorted List:  [2, 3, 4, 5, 6, 10, 12, 20, 33, 36]\n"
          ]
        }
      ],
      "source": [
        "# list.sort()\n",
        "numlist3 = [2, 3, 4, 36, 33, 12, 5, 20, 6, 10]\n",
        "print(\"Original List: \", numlist3)\n",
        "numlist3.sort()\n",
        "print(\"Sorted List: \", numlist3)\n",
        "# use sorted when you don't want to alter original list, use .sort() when you want to alter original list"
      ]
    },
    {
      "cell_type": "markdown",
      "metadata": {
        "id": "483FiBUnP000"
      },
      "source": [
        "##### Copying a List"
      ]
    },
    {
      "cell_type": "code",
      "execution_count": 36,
      "metadata": {
        "colab": {
          "base_uri": "https://localhost:8080/"
        },
        "id": "efiybr2qP000",
        "outputId": "cad324a1-6921-46fa-8e20-978ef008f9b6"
      },
      "outputs": [
        {
          "output_type": "stream",
          "name": "stdout",
          "text": [
            "List1:  ['lmn', 'abc', 'opq', 'xyz', 'def']\n",
            "List2:  ['lmn', 'abc', 'opq', 'xyz', 'def']\n",
            "--------------------------------------------------\n",
            "List3:  ['lmn', 'abc', 'opq', 'xyz', 'def']\n",
            "List4:  ['lmn', 'abc', 'opq', 'xyz']\n"
          ]
        }
      ],
      "source": [
        "# [:] copies a list, doesn't alter original\n",
        "list1 = ['lmn', 'abc', 'opq', 'xyz']\n",
        "list2 = list1\n",
        "list2.append('def')\n",
        "print ('List1: ', list1)\n",
        "print ('List2: ', list2)\n",
        "print('--------------------------------------------------')\n",
        "list3 = ['lmn', 'abc', 'opq', 'xyz']\n",
        "list4 = list3[:]\n",
        "list3.append('def')\n",
        "print ('List3: ', list3)\n",
        "print ('List4: ', list4)"
      ]
    },
    {
      "cell_type": "markdown",
      "metadata": {
        "id": "KvyZ7ZGtP000"
      },
      "source": [
        "##### 'in' keyword"
      ]
    },
    {
      "cell_type": "code",
      "execution_count": 37,
      "metadata": {
        "colab": {
          "base_uri": "https://localhost:8080/"
        },
        "id": "6gp5fE33P000",
        "outputId": "8415dd95-eb5d-4768-d8f8-cef540c6fb37"
      },
      "outputs": [
        {
          "output_type": "stream",
          "name": "stdout",
          "text": [
            "True\n"
          ]
        }
      ],
      "source": [
        "list1 = ['lmn', 'abc', 'opq', 'xyz']\n",
        "print('abc' in list1)"
      ]
    },
    {
      "cell_type": "markdown",
      "metadata": {
        "id": "N2d2e2_PP000"
      },
      "source": [
        "##### 'not in' keyword"
      ]
    },
    {
      "cell_type": "code",
      "execution_count": 38,
      "metadata": {
        "colab": {
          "base_uri": "https://localhost:8080/"
        },
        "id": "mmZTnBs0P000",
        "outputId": "41768c02-05b9-45b8-9367-bba8f7fb8333"
      },
      "outputs": [
        {
          "output_type": "stream",
          "name": "stdout",
          "text": [
            "False\n"
          ]
        }
      ],
      "source": [
        "list1 = ['lmn', 'abc', 'opq', 'xyz']\n",
        "print('abc' not in list1)"
      ]
    },
    {
      "cell_type": "markdown",
      "metadata": {
        "id": "Qzh9UeVGP000"
      },
      "source": [
        "##### Checking an Empty List"
      ]
    },
    {
      "cell_type": "code",
      "execution_count": 39,
      "metadata": {
        "colab": {
          "base_uri": "https://localhost:8080/"
        },
        "id": "Bznoax2LP000",
        "outputId": "047497c5-c5ec-4a2d-d323-dfef2b669e5c"
      },
      "outputs": [
        {
          "output_type": "stream",
          "name": "stdout",
          "text": [
            "List1 is not empty\n",
            "List2 is empty\n",
            "---------------------------------------------\n",
            "List1 is not empty\n",
            "List2 is empty\n",
            "---------------------------------------------\n",
            "List1 is not empty\n",
            "List2 is empty\n"
          ]
        }
      ],
      "source": [
        "# if l_1: or if l_1 = []\n",
        "list1 = ['lmn', 'abc', 'opq', 'xyz']\n",
        "list2 = []\n",
        "if list1 == []:\n",
        "  print('List1 is empty')\n",
        "else:\n",
        "  print('List1 is not empty')\n",
        "if list2 == []:\n",
        "  print('List2 is empty')\n",
        "else:\n",
        "  print('List2 is not empty')\n",
        "print('---------------------------------------------')\n",
        "if list1:\n",
        "  print('List1 is not empty')\n",
        "else:\n",
        "  print('List1 is empty')\n",
        "if list2:\n",
        "  print('List2 is not empty')\n",
        "else:\n",
        "  print('List2 is empty')\n",
        "print('---------------------------------------------')\n",
        "if len(list1) == 0:\n",
        "  print('List1 is empty')\n",
        "else:\n",
        "  print('List1 is not empty')\n",
        "if len(list2) == 0:\n",
        "  print('List2 is empty')\n",
        "else:\n",
        "  print('List2 is not empty')"
      ]
    },
    {
      "cell_type": "markdown",
      "metadata": {
        "id": "q504JFGdP000"
      },
      "source": [
        "##### Removing Instances with a Loop"
      ]
    },
    {
      "cell_type": "code",
      "execution_count": 40,
      "metadata": {
        "colab": {
          "base_uri": "https://localhost:8080/"
        },
        "id": "FGqFls-WP000",
        "outputId": "6c46aaf7-3d54-451b-db73-3b434b0f9ab3"
      },
      "outputs": [
        {
          "output_type": "stream",
          "name": "stdout",
          "text": [
            "List before:  ['lmn', 'abc', 'opq', 'xyz', 'abc', 'def', 'abc', 'cde', 'cat']\n",
            "List After:  ['lmn', 'opq', 'xyz', 'def', 'cde', 'cat']\n",
            "--------------------------------------------------------------------\n",
            "List before:  ['lmn', 'abc', 'opq', 'xyz', 'abc', 'def', 'abc', 'cde', 'cat']\n",
            "List After:  ['lmn', 'opq', 'xyz', 'def', 'cde', 'cat']\n"
          ]
        }
      ],
      "source": [
        "# while, remove\n",
        "list1 = ['lmn', 'abc', 'opq', 'xyz', 'abc', 'def', 'abc', 'cde', 'cat']\n",
        "print('List before: ', list1)\n",
        "for listitem in list1:\n",
        "  if listitem == 'abc':\n",
        "    list1.remove(listitem)\n",
        "print('List After: ', list1)\n",
        "print('--------------------------------------------------------------------')\n",
        "list2 = ['lmn', 'abc', 'opq', 'xyz', 'abc', 'def', 'abc', 'cde', 'cat']\n",
        "print('List before: ', list2)\n",
        "i = 0\n",
        "while (i < len(list2)):\n",
        "  if list2[i] == 'abc':\n",
        "    list2.remove(list2[i])\n",
        "  i = i + 1\n",
        "print('List After: ', list2)"
      ]
    },
    {
      "cell_type": "markdown",
      "metadata": {
        "id": "9LnD_2JQP000"
      },
      "source": [
        "### List Exercise <br>\n",
        "<p>Remove all duplicates<br><b>Extra: Create a program that will remove any duplicates from a given list</b></p>"
      ]
    },
    {
      "cell_type": "code",
      "execution_count": 41,
      "metadata": {
        "colab": {
          "base_uri": "https://localhost:8080/"
        },
        "id": "aJ1HIv6-P001",
        "outputId": "2b2b0d85-fe96-4466-b205-67b67b91404d"
      },
      "outputs": [
        {
          "output_type": "stream",
          "name": "stdout",
          "text": [
            "Original Names List:  ['connor', 'connor', 'bob', 'connor', 'evan', 'max', 'evan', 2, 2, 2, 3, 3, 4, 'bob', 'kevin']\n",
            "New Names List:  ['connor', 'bob', 'evan', 'max', 2, 3, 4, 'kevin']\n"
          ]
        }
      ],
      "source": [
        "names = ['connor', 'connor', 'bob', 'connor', 'evan', 'max', 'evan', 2, 2, 2, 3, 3, 4, 'bob', 'kevin']\n",
        "# Hint 1: You will need an append\n",
        "# Hint 2: Using an empty list will make life easier\n",
        "\n",
        "print('Original Names List: ', names)\n",
        "new_names = []\n",
        "for name in names:\n",
        "  if name not in new_names:\n",
        "    new_names.append(name)\n",
        "print('New Names List: ', new_names)\n"
      ]
    },
    {
      "cell_type": "markdown",
      "metadata": {
        "id": "c2hsFyD4P001"
      },
      "source": [
        "### List Comprehensions <br>\n",
        "<p>Creating a quickly generated list to work with<br>*result*  = [*transform*    *iteration*         *filter*     ]</p>"
      ]
    },
    {
      "cell_type": "markdown",
      "metadata": {
        "id": "EgDsVvdoP001"
      },
      "source": [
        "##### In a list comprehension we have a few pieces:\n",
        "1. The first is the counter/ variable - IN this the variable is x\n",
        "2. then we have a transform for the variable\n",
        "3. The finale part of a list comp is called the condition\n",
        "\n",
        "```python\n",
        "    [variable, transform, condition]\n",
        "```"
      ]
    },
    {
      "cell_type": "code",
      "execution_count": 42,
      "metadata": {
        "colab": {
          "base_uri": "https://localhost:8080/"
        },
        "id": "7SwboC-fP001",
        "outputId": "d0d4e397-1293-49bd-edaa-361a3451f279"
      },
      "outputs": [
        {
          "output_type": "stream",
          "name": "stdout",
          "text": [
            "Original Names List:  ['connor', 'connor', 'bob', 'connor', 'evan', 'max', 'evan', 2, 2, 2, 3, 3, 4, 'bob', 'kevin']\n",
            "New Names List:  ['connor', 'bob', 'evan', 'max', 2, 3, 4, 'kevin']\n"
          ]
        }
      ],
      "source": [
        "# number comprehension\n",
        "# With a regular for loop\n",
        "\n",
        "# IN a list comprehension we have a few pieces:\n",
        "# The first is the counter/ variable - IN this the variable is x\n",
        "# Then we have a transform for the variable \n",
        "# The finale part of a list comp is called the condition\n",
        "#[variable, transform, condition]\n",
        "\n",
        "names = ['connor', 'connor', 'bob', 'connor', 'evan', 'max', 'evan', 2, 2, 2, 3, 3, 4, 'bob', 'kevin']\n",
        "# Hint 1: You will need an append\n",
        "# Hint 2: Using an empty list will make life easier\n",
        "print('Original Names List: ', names)\n",
        "new_names = []\n",
        "[new_names.append(name) for name in names if name not in new_names]\n",
        "print('New Names List: ', new_names)"
      ]
    },
    {
      "cell_type": "markdown",
      "metadata": {
        "id": "J0iV0OZ8P001"
      },
      "source": [
        "There are a few benefits to using List comprehensions. The most obvious would be that we now have shorter code to work with instead of using 3+ lines of code in the for loop variant.\n",
        "\n",
        "Another is an added benefit to memory usage. Since the list's memory is allocated first before adding elements to it, we don't have to resize the list once we add elements to it.\n",
        "\n",
        "Lastly, list comprehensions are considered the \"pythonic\" way to write code by the PEP8 standards (Python Style Guide)"
      ]
    },
    {
      "cell_type": "code",
      "execution_count": 43,
      "metadata": {
        "colab": {
          "base_uri": "https://localhost:8080/"
        },
        "id": "PrOXCV7zP001",
        "outputId": "1ae57832-09bd-4f2b-c3fd-e5df471451f0"
      },
      "outputs": [
        {
          "output_type": "stream",
          "name": "stdout",
          "text": [
            "Original Number List:  [2, 4, 1, 5, 6]\n",
            "New Number List:  [4, 16, 1, 25, 36]\n"
          ]
        }
      ],
      "source": [
        "# square number comprehension\n",
        "number_list = [2,4,1,5,6]\n",
        "print('Original Number List: ', number_list)\n",
        "new_number_list = [x**2 for x in number_list]\n",
        "print('New Number List: ', new_number_list)"
      ]
    },
    {
      "cell_type": "code",
      "execution_count": 44,
      "metadata": {
        "colab": {
          "base_uri": "https://localhost:8080/"
        },
        "id": "TADsJE1fP001",
        "outputId": "82aea6f5-a547-4ee9-8ec2-d122ef950a20"
      },
      "outputs": [
        {
          "output_type": "stream",
          "name": "stdout",
          "text": [
            "Original Names List:  ['connor', 'connor', 'bob', 'connor', 'evan', 'max', 'evan', 2, 2, 2, 3, 3, 4, 'bob', 'kevin']\n",
            "New Names List:  ['connor', 'connor', 'bob', 'connor', 'evan', 'max', 'evan', 3, 3, 4, 'bob', 'kevin']\n"
          ]
        }
      ],
      "source": [
        "# string comprehension\n",
        "names = ['connor', 'connor', 'bob', 'connor', 'evan', 'max', 'evan', 2, 2, 2, 3, 3, 4, 'bob', 'kevin']\n",
        "# Hint 1: You will need an append\n",
        "# Hint 2: Using an empty list will make life easier\n",
        "print('Original Names List: ', names)\n",
        "new_names = []\n",
        "new_names = [x for x in names if '2' not in str(x)]\n",
        "#[new_names.append(name) for name in names if name not in new_names]\n",
        "print('New Names List: ', new_names)"
      ]
    },
    {
      "cell_type": "code",
      "execution_count": 45,
      "metadata": {
        "colab": {
          "base_uri": "https://localhost:8080/"
        },
        "id": "I1_nUc0LP001",
        "outputId": "76531cc3-4fd4-48b7-8ba3-d6d5c5498f0d"
      },
      "outputs": [
        {
          "output_type": "stream",
          "name": "stdout",
          "text": [
            "Original Names List:  ['connor', 'connor', 'bob', 'connor', 'evan', 'max', 'evan', 2, 2, 2, 3, 3, 4, 'bob', 'kevin']\n",
            "New Names List:  ['bob', 'evan', 'max', 'evan', 2, 2, 2, 3, 3, 4, 'bob', 'kevin']\n"
          ]
        }
      ],
      "source": [
        "names = ['connor', 'connor', 'bob', 'connor', 'evan', 'max', 'evan', 2, 2, 2, 3, 3, 4, 'bob', 'kevin']\n",
        "# Hint 1: You will need an append\n",
        "# Hint 2: Using an empty list will make life easier\n",
        "print('Original Names List: ', names)\n",
        "new_names = []\n",
        "new_names = [x for x in names if x != 'connor']\n",
        "#[new_names.append(name) for name in names if name not in new_names]\n",
        "print('New Names List: ', new_names)"
      ]
    },
    {
      "cell_type": "code",
      "execution_count": 46,
      "metadata": {
        "colab": {
          "base_uri": "https://localhost:8080/"
        },
        "id": "khL6ZFl8P002",
        "outputId": "c3720173-1c90-484a-94fd-aa2c96fa7b30"
      },
      "outputs": [
        {
          "output_type": "stream",
          "name": "stdout",
          "text": [
            "Original Names List:  ['connor', 'connor', 'bob', 'connor', 'evan', 'max', 'evan', 2, 2, 2, 3, 3, 4, 'bob', 'kevin']\n",
            "New Names List:  ['Connor', 'Connor', 'Bob', 'Connor', 'Evan', 'Max', 'Evan', 'Bob', 'Kevin']\n"
          ]
        }
      ],
      "source": [
        "names = ['connor', 'connor', 'bob', 'connor', 'evan', 'max', 'evan', 2, 2, 2, 3, 3, 4, 'bob', 'kevin']\n",
        "# Hint 1: You will need an append\n",
        "# Hint 2: Using an empty list will make life easier\n",
        "print('Original Names List: ', names)\n",
        "new_names = []\n",
        "new_names = [x.title() for x in names if x not in [2,3,4]]\n",
        "#[new_names.append(name) for name in names if name not in new_names]\n",
        "print('New Names List: ', new_names)"
      ]
    },
    {
      "cell_type": "markdown",
      "metadata": {
        "id": "zCWNVV6RP002"
      },
      "source": [
        "### Tuples <br>\n",
        "<p><b>Defined as an immutable list</b></p><br>Seperated by commas using parenthesis"
      ]
    },
    {
      "cell_type": "code",
      "execution_count": 47,
      "metadata": {
        "id": "aAnzqqg5P002",
        "colab": {
          "base_uri": "https://localhost:8080/"
        },
        "outputId": "d8c27ce5-ee2a-4f8c-a4e1-80577f515c5d"
      },
      "outputs": [
        {
          "output_type": "stream",
          "name": "stdout",
          "text": [
            "('apple', 'grapes', 'banana', 'orange')\n"
          ]
        }
      ],
      "source": [
        "demo_tup = ('apple', 'grapes', 'banana', 'orange')\n",
        "print (demo_tup)"
      ]
    },
    {
      "cell_type": "markdown",
      "metadata": {
        "id": "Jy4p2CN_P002"
      },
      "source": [
        "##### sorted()"
      ]
    },
    {
      "cell_type": "code",
      "execution_count": 48,
      "metadata": {
        "id": "QwRE2wNtP002",
        "colab": {
          "base_uri": "https://localhost:8080/"
        },
        "outputId": "1f64e33d-78a6-432a-dde8-8ec7149c299b"
      },
      "outputs": [
        {
          "output_type": "stream",
          "name": "stdout",
          "text": [
            "('apple', 'grapes', 'banana', 'orange')\n",
            "('apple', 'banana', 'grapes', 'orange')\n"
          ]
        }
      ],
      "source": [
        "demo_tup = ('apple', 'grapes', 'banana', 'orange')\n",
        "print (demo_tup)\n",
        "sorted_demo_tup = tuple(sorted(demo_tup))\n",
        "print (sorted_demo_tup)"
      ]
    },
    {
      "cell_type": "markdown",
      "metadata": {
        "id": "Sr71KrdNP002"
      },
      "source": [
        "##### Adding values to a Tuple"
      ]
    },
    {
      "cell_type": "code",
      "execution_count": 49,
      "metadata": {
        "id": "Vl0eXFUgP002",
        "colab": {
          "base_uri": "https://localhost:8080/"
        },
        "outputId": "e54f7a06-8cbd-48a7-eea5-5bddbc3666f9"
      },
      "outputs": [
        {
          "output_type": "stream",
          "name": "stdout",
          "text": [
            "('apple', 'grapes', 'banana', 'orange')\n",
            "('apple', 'grapes', 'banana', 'orange', 'pineapple')\n"
          ]
        }
      ],
      "source": [
        "demo_tup = ('apple', 'grapes', 'banana', 'orange')\n",
        "print (demo_tup)\n",
        "demo_tup = demo_tup + ('pineapple',)\n",
        "print (demo_tup)"
      ]
    },
    {
      "cell_type": "markdown",
      "metadata": {
        "id": "Cvb8dWdPP002"
      },
      "source": [
        "## Functions"
      ]
    },
    {
      "cell_type": "markdown",
      "metadata": {
        "id": "of9Den2RP002"
      },
      "source": [
        "##### User-Defined vs. Built-In Functions"
      ]
    },
    {
      "cell_type": "code",
      "execution_count": 50,
      "metadata": {
        "id": "059MTfSZP002",
        "colab": {
          "base_uri": "https://localhost:8080/"
        },
        "outputId": "38e5d15a-68ec-4ca6-dbbd-37b73ee01628"
      },
      "outputs": [
        {
          "output_type": "stream",
          "name": "stdout",
          "text": [
            "Hello Wrold\n",
            "HELLO WORLD\n"
          ]
        }
      ],
      "source": [
        "print(\"Hello Wrold\")                #Built-in function\n",
        "def print_capital(str1):            #User Defined function\n",
        "  cap_string = str1.upper()\n",
        "  print(cap_string)\n",
        "\n",
        "print_capital(\"hello World\")"
      ]
    },
    {
      "cell_type": "markdown",
      "metadata": {
        "id": "V_CWw7MSP002"
      },
      "source": [
        "##### Accepting Parameters"
      ]
    },
    {
      "cell_type": "code",
      "execution_count": 51,
      "metadata": {
        "id": "xqEPnX-2P002",
        "colab": {
          "base_uri": "https://localhost:8080/"
        },
        "outputId": "7262b417-6ea6-40e8-aada-381dfdd9751a"
      },
      "outputs": [
        {
          "output_type": "stream",
          "name": "stdout",
          "text": [
            "Lionel Messi\n"
          ]
        }
      ],
      "source": [
        "def full_name(firstname, lastname):\n",
        "  return firstname + \" \" + lastname\n",
        "\n",
        "print (full_name(\"Lionel\", \"Messi\"))"
      ]
    },
    {
      "cell_type": "markdown",
      "metadata": {
        "id": "HRGcMoqeP002"
      },
      "source": [
        "##### Default Parameters"
      ]
    },
    {
      "cell_type": "code",
      "execution_count": 52,
      "metadata": {
        "id": "k4pD5x5gP003",
        "colab": {
          "base_uri": "https://localhost:8080/"
        },
        "outputId": "ed05c35b-9e18-4782-d22a-806d5436a8c0"
      },
      "outputs": [
        {
          "output_type": "stream",
          "name": "stdout",
          "text": [
            "80.0\n",
            "C\n",
            "70.0\n",
            "D\n",
            "60.0\n",
            "F\n"
          ]
        }
      ],
      "source": [
        "def student_grade(score = 60, maxmarks = 100):\n",
        "  grade = 'F'\n",
        "  percentage_score = ((score*100)/maxmarks)\n",
        "  print(percentage_score)\n",
        "  if ((percentage_score >60) and (percentage_score<=70)):\n",
        "    grade = 'D'\n",
        "  elif ((percentage_score >70) and (percentage_score<=80)):\n",
        "    grade = 'C'\n",
        "  elif ((percentage_score >80) and (percentage_score<=90)):\n",
        "    grade = 'B'\n",
        "  elif ((percentage_score >90) and (percentage_score<=100)):\n",
        "    grade = 'A'\n",
        "  return grade\n",
        "\n",
        "print(student_grade(160, 200))\n",
        "print(student_grade(70))\n",
        "print(student_grade())\n"
      ]
    },
    {
      "cell_type": "markdown",
      "metadata": {
        "id": "q1M09EYQP003"
      },
      "source": [
        "##### Making an Argument Optional"
      ]
    },
    {
      "cell_type": "code",
      "execution_count": 53,
      "metadata": {
        "id": "d3EXgxLFP003",
        "colab": {
          "base_uri": "https://localhost:8080/"
        },
        "outputId": "07cf937a-2ac1-44a6-e903-27d1f38e0132"
      },
      "outputs": [
        {
          "output_type": "stream",
          "name": "stdout",
          "text": [
            "70\n",
            "180\n"
          ]
        }
      ],
      "source": [
        "def fun_total_score(*args):\n",
        "  total_score = 0\n",
        "  for x in args:\n",
        "    total_score = total_score + x\n",
        "  return total_score\n",
        "\n",
        "print(fun_total_score (10,25,35))\n",
        "print(fun_total_score (10,25,35,50,60))"
      ]
    },
    {
      "cell_type": "markdown",
      "metadata": {
        "id": "3wf9IuImP003"
      },
      "source": [
        "##### Keyword Arguments"
      ]
    },
    {
      "cell_type": "code",
      "execution_count": 54,
      "metadata": {
        "id": "5Bk_SjpFP003",
        "colab": {
          "base_uri": "https://localhost:8080/"
        },
        "outputId": "47bdb906-67f6-4c0d-b03c-26fab2cd22d9"
      },
      "outputs": [
        {
          "output_type": "stream",
          "name": "stdout",
          "text": [
            "Smith Max\n"
          ]
        }
      ],
      "source": [
        "# last_name='Max', first_name='Smith' in the function call\n",
        "def full_name(firstname, lastname):\n",
        "  return firstname + \" \" + lastname\n",
        "\n",
        "print (full_name(firstname = \"Smith\", lastname = \"Max\"))\n",
        "# see above"
      ]
    },
    {
      "cell_type": "markdown",
      "metadata": {
        "id": "SyRZWl-tP003"
      },
      "source": [
        "# Creating a start, stop, step function"
      ]
    },
    {
      "cell_type": "code",
      "execution_count": 55,
      "metadata": {
        "id": "uS8Bul20P003",
        "colab": {
          "base_uri": "https://localhost:8080/"
        },
        "outputId": "45432951-60df-4fa7-c073-bfde0276073e"
      },
      "outputs": [
        {
          "output_type": "stream",
          "name": "stdout",
          "text": [
            "120\n",
            "60\n",
            "15\n"
          ]
        }
      ],
      "source": [
        "def range_mult(stop, start=1, step=1):\n",
        "  result = 1\n",
        "  for i in range(start, stop, step):\n",
        "    result = result * i\n",
        "  return result\n",
        "\n",
        "print(range_mult(6))\n",
        "print(range_mult(6,3))\n",
        "print(range_mult(6,3,2))"
      ]
    },
    {
      "cell_type": "markdown",
      "metadata": {
        "id": "pd_DZ0DsP003"
      },
      "source": [
        "##### Returning Values"
      ]
    },
    {
      "cell_type": "code",
      "execution_count": null,
      "metadata": {
        "id": "0B_1YG7mP003"
      },
      "outputs": [],
      "source": []
    },
    {
      "cell_type": "markdown",
      "metadata": {
        "id": "i881aH4yP003"
      },
      "source": [
        "##### *args"
      ]
    },
    {
      "cell_type": "code",
      "execution_count": 56,
      "metadata": {
        "id": "C6okJPdgP003",
        "colab": {
          "base_uri": "https://localhost:8080/"
        },
        "outputId": "b86fb25f-d43b-4a1c-e513-2c35205d7236"
      },
      "outputs": [
        {
          "output_type": "stream",
          "name": "stdout",
          "text": [
            "User Id:  111 \n",
            "Login Attempts:  14 \n",
            "User Information:\n",
            " firstname:Smith\n",
            "lastname:max\n",
            "\n",
            "User Id:  111 \n",
            "Login Attempts:  14 \n",
            "User Information:\n",
            " firstname:Lionel\n",
            "lastname:Messi\n",
            "email:liomessi@gmail.com\n",
            "\n"
          ]
        }
      ],
      "source": [
        "def user_info(userid, *login_attempts, **userinfo):\n",
        "  total_login_attempts = 0\n",
        "  full_user_info = \"\"\n",
        "  for i in login_attempts:\n",
        "    total_login_attempts = total_login_attempts + i\n",
        "  for key, value in userinfo.items():\n",
        "    full_user_info = full_user_info + key + \":\" + value + \"\\n\"\n",
        "  print(\"User Id: \", userid, \"\\nLogin Attempts: \", total_login_attempts, \"\\nUser Information:\\n\", full_user_info) \n",
        "\n",
        "user_info(111, 2,3,5,1,3, firstname=\"Smith\", lastname =\"max\")\n",
        "user_info(111, 2,3,5,1,3, firstname=\"Lionel\", lastname =\"Messi\", email=\"liomessi@gmail.com\")"
      ]
    },
    {
      "cell_type": "markdown",
      "metadata": {
        "id": "fcSW3GnrP003"
      },
      "source": [
        "##### Docstring"
      ]
    },
    {
      "cell_type": "code",
      "execution_count": 57,
      "metadata": {
        "id": "dzBEvkJWP004",
        "colab": {
          "base_uri": "https://localhost:8080/"
        },
        "outputId": "1e90b096-5749-4bfa-b1e5-4d1ec2bba23a"
      },
      "outputs": [
        {
          "output_type": "stream",
          "name": "stdout",
          "text": [
            "Help on function number_sum in module __main__:\n",
            "\n",
            "number_sum(a, b)\n",
            "    this function returns\n",
            "    sum of two numbers\n",
            "\n"
          ]
        }
      ],
      "source": [
        "def number_sum(a,b):\n",
        "  '''\n",
        "  this function returns\n",
        "  sum of two numbers\n",
        "  '''\n",
        "  return a+b\n",
        "\n",
        "help(number_sum)"
      ]
    },
    {
      "cell_type": "markdown",
      "metadata": {
        "id": "GnDPQAIdP004"
      },
      "source": [
        "##### Using a User Function in a Loop"
      ]
    },
    {
      "cell_type": "code",
      "execution_count": 58,
      "metadata": {
        "id": "eWkwpCvxP004",
        "colab": {
          "base_uri": "https://localhost:8080/"
        },
        "outputId": "4ac0480c-d033-4257-97ab-151be3fe8b26"
      },
      "outputs": [
        {
          "name": "stdout",
          "output_type": "stream",
          "text": [
            "Do you want to continue (Y/N)?Y\n",
            "Do you want to continue (Y/N)?Y\n",
            "Do you want to continue (Y/N)?N\n"
          ]
        }
      ],
      "source": [
        "def user_exit():\n",
        "  userinput = input(\"Do you want to continue (Y/N)?\")\n",
        "  return userinput\n",
        "\n",
        "userinput = \"Y\"\n",
        "\n",
        "while userinput == 'Y':\n",
        "  userinput = user_exit()\n"
      ]
    },
    {
      "cell_type": "markdown",
      "metadata": {
        "id": "iL_CzRyPP004"
      },
      "source": [
        "## Function Exercise <br>\n",
        "<p>Write a function that loops through a list of first_names and a list of last_names, combines the two and return a list of full_names</p>"
      ]
    },
    {
      "cell_type": "code",
      "execution_count": 59,
      "metadata": {
        "id": "0ZCiG5iGP004",
        "colab": {
          "base_uri": "https://localhost:8080/"
        },
        "outputId": "c1b8bc50-6d86-4211-d264-4eadef403238"
      },
      "outputs": [
        {
          "output_type": "stream",
          "name": "stdout",
          "text": [
            "John Smith\n",
            "Evan Smith\n",
            "Jordan Williams\n",
            "Max Bell\n"
          ]
        }
      ],
      "source": [
        "first_name = ['John', 'Evan', 'Jordan', 'Max']\n",
        "last_name = ['Smith', 'Smith', 'Williams', 'Bell']\n",
        "\n",
        "# Output: ['John Smith', 'Evan Smith', 'Jordan Williams', 'Max Bell']\n",
        "for fname, lname in zip(first_name, last_name):\n",
        "  print(fname, lname )"
      ]
    },
    {
      "cell_type": "markdown",
      "metadata": {
        "id": "bI6B7tTEP004"
      },
      "source": [
        "## Scope <br>\n",
        "<p>Scope refers to the ability to access variables, different types of scope include:<br>a) Global<br>b) Function (local)<br>c) Class (local)</p>"
      ]
    },
    {
      "cell_type": "code",
      "execution_count": 60,
      "metadata": {
        "id": "C9oivNbQP004",
        "colab": {
          "base_uri": "https://localhost:8080/"
        },
        "outputId": "041f170b-80d1-4f58-dd2a-f3606c515cdc"
      },
      "outputs": [
        {
          "output_type": "stream",
          "name": "stdout",
          "text": [
            "please input circle radius: 5\n",
            "Area of circle:  78.5\n",
            "Area of circle:  78.54\n"
          ]
        }
      ],
      "source": [
        "pi = 3.14\n",
        "def area_of_circle(r):\n",
        "  return pi*r*r\n",
        "\n",
        "def change_pi():\n",
        "  global pi\n",
        "  pi = 3.1416\n",
        "\n",
        "radius = int(input(\"please input circle radius: \"))\n",
        "\n",
        "print(\"Area of circle: \", area_of_circle(radius))\n",
        "change_pi()\n",
        "\n",
        "print(\"Area of circle: \", area_of_circle(radius))\n"
      ]
    },
    {
      "cell_type": "markdown",
      "metadata": {
        "id": "7hO4ysd9P005"
      },
      "source": [
        "# Exercises"
      ]
    },
    {
      "cell_type": "markdown",
      "metadata": {
        "id": "Qes3JA3DP005"
      },
      "source": [
        "## Exercise 1 <br>\n",
        "<p>Given a list as a parameter,write a function that returns a list of numbers that are less than ten</b></i></p><br>\n",
        "<p> For example: Say your input parameter to the function is [1,11,14,5,8,9]...Your output should [1,5,8,9]</p>"
      ]
    },
    {
      "cell_type": "code",
      "execution_count": 61,
      "metadata": {
        "id": "pmizltRmP005",
        "colab": {
          "base_uri": "https://localhost:8080/"
        },
        "outputId": "503c3a5a-0fdc-4a77-caf8-7e3fa71620d3"
      },
      "outputs": [
        {
          "output_type": "stream",
          "name": "stdout",
          "text": [
            "[1, 5, 8, 9]\n"
          ]
        }
      ],
      "source": [
        "# Use the following list - [1,11,14,5,8,9]\n",
        "def less_than_ten(l1):                  #Function to return list with values only less than 10 \n",
        "  new_list = []\n",
        "  new_list = [x for x in l1 if x<10 ]   #Loop through list, take value of each item in list, check if it is less than, if yes add it to new list \n",
        "  return new_list\n",
        "\n",
        "l_1 = [1,11,14,5,8,9]\n",
        "\n",
        "print(less_than_ten(l_1))"
      ]
    },
    {
      "cell_type": "markdown",
      "metadata": {
        "id": "6pWnWlrWP005"
      },
      "source": [
        "## Exercise 2 <br>\n",
        "<p>Write a function that takes in two lists and returns the two lists merged together and sorted<br>\n",
        "<b><i>Hint: You can use the .sort() method</i></b></p>"
      ]
    },
    {
      "cell_type": "code",
      "execution_count": 62,
      "metadata": {
        "id": "0uWVu4sAP005",
        "colab": {
          "base_uri": "https://localhost:8080/"
        },
        "outputId": "b673b9eb-da40-462b-a7cb-3edfa911d3af"
      },
      "outputs": [
        {
          "output_type": "stream",
          "name": "stdout",
          "text": [
            "[1, 2, 3, 3, 4, 4, 5, 5, 6, 6, 7, 8, 10]\n"
          ]
        }
      ],
      "source": [
        "l_1 = [1,2,3,4,5,6]\n",
        "l_2 = [3,4,5,6,7,8,10]\n",
        "\n",
        "def merge_and_sort(l1, l2):              #function to merge two input list and sort them\n",
        "  merged_list = l1 + l2                  #Concatenate two list\n",
        "  merged_list.sort()                     #sort the merged list\n",
        "  return merged_list\n",
        "\n",
        "print(merge_and_sort(l_1, l_2))\n"
      ]
    }
  ],
  "metadata": {
    "kernelspec": {
      "display_name": "Python 3",
      "language": "python",
      "name": "python3"
    },
    "language_info": {
      "codemirror_mode": {
        "name": "ipython",
        "version": 3
      },
      "file_extension": ".py",
      "mimetype": "text/x-python",
      "name": "python",
      "nbconvert_exporter": "python",
      "pygments_lexer": "ipython3",
      "version": "3.8.5"
    },
    "colab": {
      "provenance": []
    }
  },
  "nbformat": 4,
  "nbformat_minor": 0
}