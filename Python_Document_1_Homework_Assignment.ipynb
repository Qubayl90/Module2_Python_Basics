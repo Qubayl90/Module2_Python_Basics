{
  "cells": [
    {
      "cell_type": "markdown",
      "metadata": {
        "id": "view-in-github",
        "colab_type": "text"
      },
      "source": [
        "<a href=\"https://colab.research.google.com/github/Qubayl90/Module2_Python_Basics/blob/main/Python_Document_1_Homework_Assignment.ipynb\" target=\"_parent\"><img src=\"https://colab.research.google.com/assets/colab-badge.svg\" alt=\"Open In Colab\"/></a>"
      ]
    },
    {
      "cell_type": "markdown",
      "metadata": {
        "id": "nmJ2QFskjKaP"
      },
      "source": [
        "## Exercise #1 <br>\n",
        "<p>Cube Number Test... Print out all cubed numbers up to the total value 1000. Meaning that if the cubed number is over 1000 break the loop.</p>"
      ]
    },
    {
      "cell_type": "code",
      "execution_count": 1,
      "metadata": {
        "colab": {
          "base_uri": "https://localhost:8080/"
        },
        "id": "jv69sPwmjKaR",
        "outputId": "578911db-a38f-4e3e-874a-93013a1a8ef8"
      },
      "outputs": [
        {
          "output_type": "stream",
          "name": "stdout",
          "text": [
            "All Cubed numbers between 1 to 1000\n",
            "Number is: 1 and its cube is 1\n",
            "Number is: 2 and its cube is 8\n",
            "Number is: 3 and its cube is 27\n",
            "Number is: 4 and its cube is 64\n",
            "Number is: 5 and its cube is 125\n",
            "Number is: 6 and its cube is 216\n",
            "Number is: 7 and its cube is 343\n",
            "Number is: 8 and its cube is 512\n",
            "Number is: 9 and its cube is 729\n",
            "Number is: 10 and its cube is 1000\n"
          ]
        }
      ],
      "source": [
        "#Program to print all cubed numbers between 1 to 1000\n",
        "print(\"All Cubed numbers between 1 to 1000\")\n",
        "number = 1\n",
        "cubenumber = 1\n",
        "while (True):\n",
        "    cubenumber = number * number * number\n",
        "    if (cubenumber > 1000):               #check if given cubed number is greater than 1000\n",
        "        break                             #if yes break and get out of the loop\n",
        "    print(\"Number is: {} and its cube is {}\".format(number, cubenumber))\n",
        "    number = number + 1"
      ]
    },
    {
      "cell_type": "markdown",
      "metadata": {
        "id": "7mZHNndsjKaT"
      },
      "source": [
        "## Exercise #2 <br>\n",
        "<p>Get first prime numbers up to 100</p>"
      ]
    },
    {
      "cell_type": "code",
      "execution_count": 2,
      "metadata": {
        "colab": {
          "base_uri": "https://localhost:8080/"
        },
        "id": "IFzsrongjKaT",
        "outputId": "feaf5142-f4f6-45b2-f302-7083ae352040"
      },
      "outputs": [
        {
          "output_type": "stream",
          "name": "stdout",
          "text": [
            "List of prime numbers between 1 to 100: \n",
            "2\n",
            "3\n",
            "5\n",
            "7\n",
            "11\n",
            "13\n",
            "17\n",
            "19\n",
            "23\n",
            "29\n",
            "31\n",
            "37\n",
            "41\n",
            "43\n",
            "47\n",
            "53\n",
            "59\n",
            "61\n",
            "67\n",
            "71\n",
            "73\n",
            "79\n",
            "83\n",
            "89\n",
            "97\n"
          ]
        }
      ],
      "source": [
        "# HINT::\n",
        "# An else after an if runs if the if didn’t\n",
        "# An else after a for runs if the for didn’t break\n",
        "print('List of prime numbers between 1 to 100: ')\n",
        "for number in range (1,101):             #Loop to check all numbers between 1, 100\n",
        "    if(number > 1):                      #check if number is greater than becouse all prime numbers are greater than 1\n",
        "        for factor in range (2,number):  #Loop to find out if number has any factors \n",
        "            if(number % factor == 0):      #If remainder is zero, number is divisible by the selected factor, hence not a prime no   \n",
        "                break                    #As number is not prime brake the loop\n",
        "        else:                            #If loop does not break, means there are no factors for a given number\n",
        "            print(number)                #Hence print that number as it is a prime number"
      ]
    },
    {
      "cell_type": "markdown",
      "metadata": {
        "id": "M9qTJ92vjKaa"
      },
      "source": [
        "# Exercise 3 <br>\n",
        "<p>Take in a users input for their age, if they are younger than 18 print kids, if they're 18 to 65 print adults, else print seniors</p>"
      ]
    },
    {
      "cell_type": "code",
      "execution_count": 3,
      "metadata": {
        "colab": {
          "base_uri": "https://localhost:8080/"
        },
        "id": "mWToAgXRjKaa",
        "outputId": "fe3f01cd-d2de-47c7-ba04-b8d2af15e993"
      },
      "outputs": [
        {
          "output_type": "stream",
          "name": "stdout",
          "text": [
            "Please Input Your Age: 22\n",
            "Adults\n"
          ]
        }
      ],
      "source": [
        "userage = input('Please Input Your Age: ')\n",
        "if int(userage) < 18:\n",
        "    print('Kids')\n",
        "elif int(userage) >= 18 and int(userage) <=65:\n",
        "    print('Adults')\n",
        "else:\n",
        "    print('Seniors')"
      ]
    }
  ],
  "metadata": {
    "kernelspec": {
      "display_name": "Python 3 (ipykernel)",
      "language": "python",
      "name": "python3"
    },
    "language_info": {
      "codemirror_mode": {
        "name": "ipython",
        "version": 3
      },
      "file_extension": ".py",
      "mimetype": "text/x-python",
      "name": "python",
      "nbconvert_exporter": "python",
      "pygments_lexer": "ipython3",
      "version": "3.9.7"
    },
    "colab": {
      "provenance": [],
      "include_colab_link": true
    }
  },
  "nbformat": 4,
  "nbformat_minor": 0
}