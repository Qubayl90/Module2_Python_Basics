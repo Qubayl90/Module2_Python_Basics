{
  "cells": [
    {
      "cell_type": "markdown",
      "metadata": {
        "id": "view-in-github",
        "colab_type": "text"
      },
      "source": [
        "<a href=\"https://colab.research.google.com/github/Qubayl90/Module2_Python_Basics/blob/main/Object_Oriented_Parking_Garage1.ipynb\" target=\"_parent\"><img src=\"https://colab.research.google.com/assets/colab-badge.svg\" alt=\"Open In Colab\"/></a>"
      ]
    },
    {
      "cell_type": "markdown",
      "metadata": {
        "id": "hdRrqGKmz1lM"
      },
      "source": [
        "# Object Oriented Parking Garage "
      ]
    },
    {
      "cell_type": "markdown",
      "metadata": {
        "id": "sHCGQiGFz1lM"
      },
      "source": [
        "### Your assignment for today is to create a parking garage class to get more familiar with Object Oriented Programming(OOP).\n",
        "\n",
        "Your parking garage class should have the following methods:\n",
        "- takeTicket\n",
        "- This should decrease the amount of tickets available by 1\n",
        "- This should decrease the amount of parkingSpaces available by 1\n",
        "- payForParking\n",
        "- Display an input that waits for an amount from the user and store it in a variable\n",
        "- If the payment variable is not empty then (meaning the ticket has been paid) -> display a message to the user that their ticket has been paid and they have 15mins to leave\n",
        "- This should update the \"currentTicket\" dictionary key \"paid\" to True\n",
        "-leaveGarage\n",
        "- If the ticket has been paid, display a message of \"Thank You, have a nice day\"\n",
        "- If the ticket has not been paid, display an input prompt for payment\n",
        "- Once paid, display message \"Thank you, have a nice day!\"\n",
        "- Update parkingSpaces list to increase by 1 (meaning add to the parkingSpaces list)\n",
        "- Update tickets list to increase by 1 (meaning add to the tickets list)\n",
        "\n",
        "You will need a few attributes as well:\n",
        "- tickets -> list\n",
        "- parkingSpaces -> list\n",
        "- currentTicket -> dictionary\n",
        "\n",
        "By the end of this project each student should be able to:\n",
        "- Explain and/or demonstrate creating classes\n",
        "- Explain and/or demonstrate creating class methods\n",
        "- Explain and/or demonstrate class instantiation\n",
        "\n",
        "When the project is completed, commit the final changes and submit your GitHub link."
      ]
    },
    {
      "cell_type": "code",
      "source": [
        "class ParkingGarage():\n",
        "  '''\n",
        "  The ParkingGarage class will be used to manage Parking tickets and Parking Slots.\n",
        "  Attributes for the class:\n",
        "  - currentTickets: Dictionary of currently sold tickets and thier corresponding parking slots\n",
        "  - currentPayments: Dictionary of currently sold tickets and thier payments\n",
        "  - tickets_list: List of tickets numbers available for sale\n",
        "  - parking_spaces_list: List of parking slots available \n",
        "  Methods of the class:\n",
        "  - takeTicket: Method to sale tickets to user\n",
        "  - payForParking: Method to collect Payment and update the same\n",
        "  - leaveGarage: Method to enable user to leave garage by paying parking tickets and free corresponding ticket and parking slots\n",
        "  ''' \n",
        "\n",
        "  currentTickets = {}             #Key value pairs to pay tickets with its allocated parking lots\n",
        "  currentPayments = {}            #Key value pairs to mark payments for tickets, value will be false if not paid and true if payment is made  \n",
        "  #ticket_price_in_dollars = 10 \n",
        "\n",
        "  def __init__(self, tickets_list, parking_spaces_list):      #intialize\n",
        "    self.tickets_list = tickets_list                          #List of tickets numbers available for sale\n",
        "    self.parking_spaces_list = parking_spaces_list            #List of available parking slots \n",
        "\n",
        "  def takeTicket(self):                                       #Method to sale tickets to user\n",
        "    if(len(self.tickets_list) == 0):                          #Check if all available tickets are sold\n",
        "      print(\"All parking tickets are sold out. Please try after sometime\")  \n",
        "      return\n",
        "    elif(len(self.parking_spaces_list) == 0):                 #Check if all parking lots are occupied \n",
        "      print(\"Parking full, All parking slots are occupied. Please try after sometime\")\n",
        "      return\n",
        "    else:\n",
        "      ticket_no = self.tickets_list.pop(0)                    #allot ticket numbers\n",
        "      parking_slot =  self.parking_spaces_list.pop(0)         #allot parking slots\n",
        "      print(f'Your Ticket number is: {ticket_no}, and Parking Slot is {parking_slot}')\n",
        "      self.currentTickets[ticket_no] = parking_slot           #Update list of current tickets with the corresponding parking slot allocated \n",
        "      self.currentPayments[ticket_no] = False                 #Intialize payment for current ticket to false indicating ticket has not been paid yet \n",
        "\n",
        "  def payForParking(self, ticket_no):                         #Method to collect Payment and update the same  \n",
        "    while True: \n",
        "      if(ticket_no not in self.currentPayments.keys()):       #Check if input ticket number is in list of currently sold tickets \n",
        "        print(\"Please input the correct ticket number\")\n",
        "        break\n",
        "      elif(self.currentPayments[ticket_no] == True):          #Check if said ticket is already paid, flag will be flase if not paid \n",
        "        print(\"You have already made the payment\")\n",
        "        break\n",
        "      elif(self.currentPayments[ticket_no] == False):         \n",
        "        payment_recieved = input(\"You have not paid, Please Make the payment and input the amount paid\")\n",
        "        if(payment_recieved != \"\" or payment_recieved != 0): #Check if user inputs blank or zero payment amount\n",
        "          self.currentPayments[ticket_no] = True             #Record payment, make flag true to indicate payment has been paid for said ticket\n",
        "          print(\"Ticket has been paid, Thank You for payment. You have 15 minutes to leave\")\n",
        "          break\n",
        "\n",
        "  def leaveGarage(self, ticket_no):\n",
        "    if (ticket_no not in self.currentPayments.keys()):       #Check if ticket number input is valid, if its in the list of sold tickets and thier payments \n",
        "      print(\"Please input the correct ticket number\")\n",
        "    elif (ticket_no not in self.currentTickets.keys()):      #Check if ticket number input is valid, if its in the list of sold tickets and thier parking slots\n",
        "      print(\"Please input the correct ticket number\")\n",
        "    else:\n",
        "      self.payForParking(ticket_no)                          #Call method to collect payment before user leaves the garage\n",
        "      parking_slot = self.currentTickets[ticket_no]          #Get the corresponding allocated parking slot number  \n",
        "      print(\"Thank You, have a nice day\")                    \n",
        "      self.tickets_list.append(ticket_no)                    #Free the ticket number, and again make it available for sale \n",
        "      self.parking_spaces_list.append(parking_slot)          #Free the parking slot, and again make it available \n",
        "      del self.currentPayments[ticket_no]                    #Delete dictionary entry for corresponding ticket \n",
        "      del self.currentTickets[ticket_no]                     #Delete dictionary entry for corresponding ticket "
      ],
      "metadata": {
        "id": "vsT_JBSZI87F"
      },
      "execution_count": 2,
      "outputs": []
    },
    {
      "cell_type": "code",
      "source": [
        "from IPython.display import clear_output\n",
        "\n",
        "tickets_list = ['101', '102', '103', '104', '105']          #List of initially available tickets \n",
        "parking_spaces_list = ['A1', 'A2', 'B1', 'C1']              #List of available parking slots \n",
        "myParkingGarage = ParkingGarage(tickets_list, parking_spaces_list) #Create the instance of parking garage for provided list of tickets and parking slots \n",
        "\n",
        "while True:\n",
        "  print(\"***************************************************************\")\n",
        "  print(\"Please select the option\")\n",
        "  print(\"1. Take Parking Ticket\")\n",
        "  print(\"2. Make Payment\")\n",
        "  print(\"3. Leave Garage\")\n",
        "  print(\"4. View Tickets Available\")\n",
        "  print(\"5. View Current Tickets\")\n",
        "  print(\"6. Quit\")\n",
        "  option = input(\"Please Input Your Option: \")\n",
        "  clear_output()\n",
        "  if (option == '1'):\n",
        "    myParkingGarage.takeTicket()\n",
        "  elif (option == '2'):\n",
        "    user_ticket_no = input(\"Please input your parking ticket number that you are paying for: \")\n",
        "    myParkingGarage.payForParking(user_ticket_no)\n",
        "  elif (option == '3'):\n",
        "    user_ticket_no = input(\"Please input your parking ticket number: \")\n",
        "    #user_parking_slot = input(\"Please input your parking slot number: \")\n",
        "    myParkingGarage.leaveGarage(user_ticket_no) #user_parking_slot\n",
        "  elif (option == '4'):\n",
        "    print(\"Currently available parking slots are as below\")\n",
        "    print(myParkingGarage.parking_spaces_list)\n",
        "    print(\"Currently available parking tickets are as below\") \n",
        "    print(myParkingGarage.tickets_list)\n",
        "  elif (option == '5'):\n",
        "    if(len(myParkingGarage.currentTickets) == 0):                              #Check if no sold tickets car is in parking   \n",
        "      print(\"No Veichles in parking\")\n",
        "    else:\n",
        "      print(\"Details of current parking tickets and there payments are as below\")\n",
        "      print(myParkingGarage.currentTickets) \n",
        "      print(myParkingGarage.currentPayments) \n",
        "  elif (option == '6'):\n",
        "    print(\"Thank You\")\n",
        "    print(\"Currently available parking slots are as below\")\n",
        "    print(myParkingGarage.parking_spaces_list)\n",
        "    print(\"Currently available parking tickets are as below\") \n",
        "    print(myParkingGarage.tickets_list)\n",
        "    break\n",
        "  else:\n",
        "    print(\"Wrong Input, Please input the correct option\")"
      ],
      "metadata": {
        "id": "D5Q0EZAdg9w8",
        "colab": {
          "base_uri": "https://localhost:8080/"
        },
        "outputId": "349109c6-ab27-4681-e76b-7c2b7a2552f0"
      },
      "execution_count": 3,
      "outputs": [
        {
          "output_type": "stream",
          "name": "stdout",
          "text": [
            "Thank You\n",
            "Currently available parking slots are as below\n",
            "['A2']\n",
            "Currently available parking tickets are as below\n",
            "['105', '102']\n"
          ]
        }
      ]
    }
  ],
  "metadata": {
    "kernelspec": {
      "display_name": "Python 3",
      "language": "python",
      "name": "python3"
    },
    "language_info": {
      "codemirror_mode": {
        "name": "ipython",
        "version": 3
      },
      "file_extension": ".py",
      "mimetype": "text/x-python",
      "name": "python",
      "nbconvert_exporter": "python",
      "pygments_lexer": "ipython3",
      "version": "3.8.5"
    },
    "colab": {
      "provenance": [],
      "include_colab_link": true
    }
  },
  "nbformat": 4,
  "nbformat_minor": 0
}