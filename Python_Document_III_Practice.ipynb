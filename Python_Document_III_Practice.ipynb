{
  "cells": [
    {
      "cell_type": "markdown",
      "metadata": {
        "id": "mvBEKc7fHisL"
      },
      "source": [
        "# Data Collections 2 (Dictionaries, Sets) and Importing Modules"
      ]
    },
    {
      "cell_type": "markdown",
      "metadata": {
        "id": "GDRVcwieHisP"
      },
      "source": [
        "## Tasks Today:\n",
        "\n",
        "1) Dictionary <br>\n",
        " &nbsp;&nbsp;&nbsp;&nbsp; a) Declaring (key, value) <br>\n",
        " &nbsp;&nbsp;&nbsp;&nbsp; b) Accessing Values <br>\n",
        " &nbsp;&nbsp;&nbsp;&nbsp; ------ Exercise #1 - Print the eye color of each person in a double nested dict <br>\n",
        " &nbsp;&nbsp;&nbsp;&nbsp; c) Adding New Pairs <br>\n",
        " &nbsp;&nbsp;&nbsp;&nbsp; d) Modifying Values <br>\n",
        " &nbsp;&nbsp;&nbsp;&nbsp; e) Removing Key, Value Pairs <br>\n",
        " &nbsp;&nbsp;&nbsp;&nbsp; f) Looping a Dictionary <br>\n",
        " &nbsp;&nbsp;&nbsp;&nbsp; g) Looping Only Keys <br>\n",
        " &nbsp;&nbsp;&nbsp;&nbsp; h) Looping Only Values <br>\n",
        " &nbsp;&nbsp;&nbsp;&nbsp; ------ Exercise #2 - Create a Function that Prints All Key Value Pairs within a print .format()  <br>\n",
        " &nbsp;&nbsp;&nbsp;&nbsp; i) sorted() <br>\n",
        " &nbsp;&nbsp;&nbsp;&nbsp; j) Lists with Dictionaries <br>\n",
        " &nbsp;&nbsp;&nbsp;&nbsp; k) Dictionaries with Lists <br>\n",
        " &nbsp;&nbsp;&nbsp;&nbsp; l) Dictionaries with Dictionaries <br>\n",
        " &nbsp;&nbsp;&nbsp;&nbsp; ------ Exercise #3 - Write a Function that asks someone's name and address, and then stores that into a dictionary, which prints all names and addresses after they're done putting information in...  <br>\n",
        "2) Dictionaries vs. Lists (over time)<br>\n",
        "3) Set <br>\n",
        " &nbsp;&nbsp;&nbsp;&nbsp; a) Declaring <br>\n",
        " &nbsp;&nbsp;&nbsp;&nbsp; b) .add() <br>\n",
        " &nbsp;&nbsp;&nbsp;&nbsp; c) .remove() <br>\n",
        " &nbsp;&nbsp;&nbsp;&nbsp; d) .union() <br>\n",
        " &nbsp;&nbsp;&nbsp;&nbsp; e) .intersection() <br>\n",
        " &nbsp;&nbsp;&nbsp;&nbsp; f) .difference() <br>\n",
        " &nbsp;&nbsp;&nbsp;&nbsp; g) Frozen Set <br>\n",
        "4) Modules <br>\n",
        " &nbsp;&nbsp;&nbsp;&nbsp; a) Importing Entire Modules <br>\n",
        " &nbsp;&nbsp;&nbsp;&nbsp; b) Importing Methods Only <br>\n",
        " &nbsp;&nbsp;&nbsp;&nbsp; c) Using the 'as' Keyword <br>\n",
        " &nbsp;&nbsp;&nbsp;&nbsp; d) Creating a Module <br>\n",
        "5) Exercises <br>\n",
        " &nbsp;&nbsp;&nbsp;&nbsp; a) Build a Shopping Cart <br>\n",
        " &nbsp;&nbsp;&nbsp;&nbsp; b) Create Your Own Module <br>"
      ]
    },
    {
      "cell_type": "markdown",
      "metadata": {
        "id": "5PS5NeIwHisP"
      },
      "source": [
        "## Dictionary <br>\n",
        "<p>A collection of data with 'key:value' pairs. Dictionaries are ordered as of Python 3.6</p>"
      ]
    },
    {
      "cell_type": "markdown",
      "metadata": {
        "id": "GxOgSauLHisQ"
      },
      "source": [
        "##### Declaring (key, value)"
      ]
    },
    {
      "cell_type": "code",
      "execution_count": 20,
      "metadata": {
        "id": "PWbRiizBHisQ",
        "colab": {
          "base_uri": "https://localhost:8080/"
        },
        "outputId": "b39aec6d-4a4e-4755-fafc-dde3f5356b9e"
      },
      "outputs": [
        {
          "output_type": "stream",
          "name": "stdout",
          "text": [
            "{'Model': 'A88', 'Make': 'BMW', 'Year': 2021}\n"
          ]
        }
      ],
      "source": [
        "trial_dictionary = {\n",
        "    \"Model\": \"A88\",\n",
        "    \"Make\": \"BMW\",\n",
        "    \"Year\": 2021\n",
        "}\n",
        "print (trial_dictionary)"
      ]
    },
    {
      "cell_type": "markdown",
      "metadata": {
        "id": "x_bJAxRJHisQ"
      },
      "source": [
        "##### Accessing Values"
      ]
    },
    {
      "cell_type": "code",
      "execution_count": 21,
      "metadata": {
        "id": "kHVHnb_IHisR",
        "colab": {
          "base_uri": "https://localhost:8080/"
        },
        "outputId": "ce471d50-bc70-4ac9-891e-b3e3d75e6bf6"
      },
      "outputs": [
        {
          "output_type": "stream",
          "name": "stdout",
          "text": [
            "A88\n"
          ]
        }
      ],
      "source": [
        "trial_dictionary = {\n",
        "    \"Model\": \"A88\",\n",
        "    \"Make\": \"BMW\",\n",
        "    \"Year\": 2021\n",
        "}\n",
        "print(trial_dictionary['Model'])"
      ]
    },
    {
      "cell_type": "markdown",
      "metadata": {
        "id": "hFjOlWqnHisR"
      },
      "source": [
        "## In-Class Exercise #1 - Print a formatted statement from the dictionary below <br>\n",
        "<p>The output should be '2018 Chevrolet Silverado'</p>"
      ]
    },
    {
      "cell_type": "code",
      "execution_count": 22,
      "metadata": {
        "id": "XhzoGu_LHisR",
        "colab": {
          "base_uri": "https://localhost:8080/"
        },
        "outputId": "a259b74a-fad2-4ac7-a950-8b5b6b88682c"
      },
      "outputs": [
        {
          "output_type": "stream",
          "name": "stdout",
          "text": [
            "2018 Chevrolet Silverado\n"
          ]
        }
      ],
      "source": [
        "# use the dict below\n",
        "truck = {\n",
        "    'year': 2018,\n",
        "    'make': 'Chevrolet',\n",
        "    'model': 'Silverado'\n",
        "}\n",
        "print(truck['year'], truck['make'], truck['model'])"
      ]
    },
    {
      "cell_type": "markdown",
      "metadata": {
        "id": "60aX3YxdHisS"
      },
      "source": [
        "##### Adding New Pairs"
      ]
    },
    {
      "cell_type": "code",
      "execution_count": 23,
      "metadata": {
        "id": "TPbNVxRmHisS",
        "colab": {
          "base_uri": "https://localhost:8080/"
        },
        "outputId": "d1a1b1ab-01cd-44f0-86fe-54c5a82e0186"
      },
      "outputs": [
        {
          "output_type": "stream",
          "name": "stdout",
          "text": [
            "{'year': 2018, 'make': 'Chevrolet', 'model': 'Silverado', 'color': 'Red'}\n"
          ]
        }
      ],
      "source": [
        "truck[\"color\"] = 'Red'\n",
        "print(truck)"
      ]
    },
    {
      "cell_type": "markdown",
      "metadata": {
        "id": "cKJs39eFHisT"
      },
      "source": [
        "##### Modifying Values"
      ]
    },
    {
      "cell_type": "code",
      "execution_count": 24,
      "metadata": {
        "id": "Fbuzz7PWHisT",
        "colab": {
          "base_uri": "https://localhost:8080/"
        },
        "outputId": "0428c8ab-0593-4ebb-b351-34cf02f3913c"
      },
      "outputs": [
        {
          "output_type": "stream",
          "name": "stdout",
          "text": [
            "{'year': 2018, 'make': 'Chevrolet', 'model': 'Silverado', 'color': 'White'}\n"
          ]
        }
      ],
      "source": [
        "truck[\"color\"] = 'White'\n",
        "print(truck)"
      ]
    },
    {
      "cell_type": "markdown",
      "metadata": {
        "id": "flxnHd0MHisT"
      },
      "source": [
        "##### Removing Key, Value Pairs"
      ]
    },
    {
      "cell_type": "code",
      "execution_count": 25,
      "metadata": {
        "id": "5R9puBntHisT",
        "colab": {
          "base_uri": "https://localhost:8080/"
        },
        "outputId": "841640dc-951f-47d6-825f-182edf4aaa88"
      },
      "outputs": [
        {
          "output_type": "stream",
          "name": "stdout",
          "text": [
            "{'year': 2018, 'make': 'Chevrolet', 'model': 'Silverado'}\n"
          ]
        }
      ],
      "source": [
        "#truck.pop('color')\n",
        "#print(truck)\n",
        "\n",
        "truck.popitem()\n",
        "print(truck)"
      ]
    },
    {
      "cell_type": "markdown",
      "metadata": {
        "id": "R6wpu8mfHisT"
      },
      "source": [
        "##### Looping a Dictionary"
      ]
    },
    {
      "cell_type": "code",
      "execution_count": 26,
      "metadata": {
        "id": "z4mM0Qh7HisT",
        "colab": {
          "base_uri": "https://localhost:8080/"
        },
        "outputId": "1eff4fca-e1ce-4775-a95e-7b48a55b68a8"
      },
      "outputs": [
        {
          "output_type": "stream",
          "name": "stdout",
          "text": [
            "year 2018\n",
            "make Chevrolet\n",
            "model Silverado\n"
          ]
        }
      ],
      "source": [
        "# .items()\n",
        "# a, b, c = 1, 2, 3\n",
        "# print(a)\n",
        "# print(b)\n",
        "# print(c)\n",
        "truck = {\n",
        "    'year': 2018,\n",
        "    'make': 'Chevrolet',\n",
        "    'model': 'Silverado'\n",
        "}\n",
        "\n",
        "for x,y in truck.items():\n",
        "  print(x,y)"
      ]
    },
    {
      "cell_type": "markdown",
      "metadata": {
        "id": "cW-ZMuVeHisT"
      },
      "source": [
        "##### Looping Only Keys"
      ]
    },
    {
      "cell_type": "code",
      "execution_count": 27,
      "metadata": {
        "id": "5nULfxXLHisU",
        "colab": {
          "base_uri": "https://localhost:8080/"
        },
        "outputId": "e3f243e1-d5a2-4c63-ebc7-42d3d674c495"
      },
      "outputs": [
        {
          "output_type": "stream",
          "name": "stdout",
          "text": [
            "year\n",
            "make\n",
            "model\n"
          ]
        }
      ],
      "source": [
        "# .keys()\n",
        "for x in truck.keys():\n",
        "  print(x)\n"
      ]
    },
    {
      "cell_type": "markdown",
      "metadata": {
        "id": "hCGi1qXhHisU"
      },
      "source": [
        "##### Looping Only Values"
      ]
    },
    {
      "cell_type": "code",
      "execution_count": 28,
      "metadata": {
        "id": "Ucj1Bxe2HisU",
        "colab": {
          "base_uri": "https://localhost:8080/"
        },
        "outputId": "b0d0fe8b-9a67-414f-fe76-aa8655afbd09"
      },
      "outputs": [
        {
          "output_type": "stream",
          "name": "stdout",
          "text": [
            "2018\n",
            "Chevrolet\n",
            "Silverado\n"
          ]
        }
      ],
      "source": [
        "# .values()\n",
        "for x in truck.values():\n",
        "  print(x)\n"
      ]
    },
    {
      "cell_type": "markdown",
      "metadata": {
        "id": "k9P_9PkhHisU"
      },
      "source": [
        "## In-Class Exercise #2 - Create a Function that Prints All Key Value Pairs within a print .format() <br>\n",
        "<p><b>Output should be:</b><br>\n",
        "Max has blue eyes<br>\n",
        "Lilly has brown eyes<br>\n",
        "Barney has blue eyes<br>\n",
        "etc.\n",
        "</p>"
      ]
    },
    {
      "cell_type": "code",
      "execution_count": 29,
      "metadata": {
        "id": "M-tOzsnIHisU",
        "colab": {
          "base_uri": "https://localhost:8080/"
        },
        "outputId": "677128b1-9f1a-405a-88e8-d5be5b731337"
      },
      "outputs": [
        {
          "output_type": "stream",
          "name": "stdout",
          "text": [
            "Max has blue eyes\n",
            "Lilly has brown eyes\n",
            "Barney has blue eyes\n",
            "Larney has brown eyes\n",
            "Ted has purple eyes\n"
          ]
        }
      ],
      "source": [
        "# use the dict below\n",
        "\n",
        "people = {\n",
        "    'Max': 'blue',\n",
        "    'Lilly': 'brown',\n",
        "    'Barney': 'blue',\n",
        "    'Larney': 'brown',\n",
        "    'Ted': 'purple'\n",
        "}\n",
        "for x,y in people.items():\n",
        "  print(\"{} has {} eyes\".format(x,y))"
      ]
    },
    {
      "cell_type": "markdown",
      "metadata": {
        "id": "64npZ20ZHisU"
      },
      "source": [
        "##### sorted()"
      ]
    },
    {
      "cell_type": "code",
      "execution_count": 30,
      "metadata": {
        "id": "jBEMbc07HisU",
        "colab": {
          "base_uri": "https://localhost:8080/"
        },
        "outputId": "27a7e487-cd73-4000-cded-8896708473b2"
      },
      "outputs": [
        {
          "output_type": "stream",
          "name": "stdout",
          "text": [
            "['Barney', 'Larney', 'Lilly', 'Max', 'Ted']\n",
            "[('Barney', 'blue'), ('Larney', 'brown'), ('Lilly', 'brown'), ('Max', 'blue'), ('Ted', 'purple')]\n",
            "['Barney', 'Larney', 'Lilly', 'Max', 'Ted']\n",
            "['blue', 'blue', 'brown', 'brown', 'purple']\n"
          ]
        }
      ],
      "source": [
        "# sorts variables in order\n",
        "# sorted(dict.values()) or dict.keys() or dict.items()\n",
        "people = {\n",
        "    'Max': 'blue',\n",
        "    'Lilly': 'brown',\n",
        "    'Barney': 'blue',\n",
        "    'Larney': 'brown',\n",
        "    'Ted': 'purple'\n",
        "}\n",
        "print(sorted(people))\n",
        "print(sorted(people.items()))\n",
        "print(sorted(people.keys()))\n",
        "print(sorted(people.values()))"
      ]
    },
    {
      "cell_type": "markdown",
      "metadata": {
        "id": "8-R5mLt5HisV"
      },
      "source": [
        "##### List with Dictionaries"
      ]
    },
    {
      "cell_type": "code",
      "execution_count": 31,
      "metadata": {
        "id": "91KdHzDgHisV",
        "colab": {
          "base_uri": "https://localhost:8080/"
        },
        "outputId": "50d2340a-5a5d-4bf0-c62e-55dff2d749da"
      },
      "outputs": [
        {
          "output_type": "stream",
          "name": "stdout",
          "text": [
            "[{'year': 2018, 'make': 'Chevrolet', 'model': 'Silverado'}, {'fruit': 'apple', 'Grade': 'A'}]\n",
            "[{'year': 2018, 'make': 'Chevrolet', 'model': 'Silverado'}, {'fruit': 'apple', 'Grade': 'A'}, {'language': 'python', 'framework': 'Flask'}]\n"
          ]
        }
      ],
      "source": [
        "list1 = [{\n",
        "    'year': 2018,\n",
        "    'make': 'Chevrolet',\n",
        "    'model': 'Silverado'\n",
        "}, {'fruit': 'apple', 'Grade': 'A'}]\n",
        "print(list1)\n",
        "list1.append({'language': 'python', 'framework': 'Flask'})\n",
        "print(list1)"
      ]
    },
    {
      "cell_type": "markdown",
      "metadata": {
        "id": "2ZJj7_VDHisV"
      },
      "source": [
        "##### Dictionaries with Lists"
      ]
    },
    {
      "cell_type": "code",
      "execution_count": 32,
      "metadata": {
        "id": "2TYkeFItHisV",
        "colab": {
          "base_uri": "https://localhost:8080/"
        },
        "outputId": "9c8a0968-a542-4b28-fea1-bcfc08e045f4"
      },
      "outputs": [
        {
          "output_type": "stream",
          "name": "stdout",
          "text": [
            "{'year': 2018, 'make': 'Chevrolet', 'model': 'Silverado', 'colors': ['Red', 'Green', 'Blue']}\n"
          ]
        }
      ],
      "source": [
        "# be careful when using numbers as keys in dictionaries, don't confuse them with indexes\n",
        "truck = {\n",
        "    'year': 2018,\n",
        "    'make': 'Chevrolet',\n",
        "    'model': 'Silverado',\n",
        "    'colors':['Red', 'Green', 'Blue']\n",
        "}\n",
        "print(truck)"
      ]
    },
    {
      "cell_type": "markdown",
      "metadata": {
        "id": "LxbhaCKvHisV"
      },
      "source": [
        "##### Dictionaries with Dictionaries"
      ]
    },
    {
      "cell_type": "code",
      "execution_count": 33,
      "metadata": {
        "id": "FTWl7QPdHisV",
        "colab": {
          "base_uri": "https://localhost:8080/"
        },
        "outputId": "b92b45eb-92d1-41d3-f6f9-1492830fc73b"
      },
      "outputs": [
        {
          "output_type": "stream",
          "name": "stdout",
          "text": [
            "{'year': 2018, 'make': 'Chevrolet', 'model': 'Silverado', 'wheels': {'size': 170, 'company': 'Apollo'}}\n"
          ]
        }
      ],
      "source": [
        "# to get values, must traverse through keys\n",
        "truck = {\n",
        "    'year': 2018,\n",
        "    'make': 'Chevrolet',\n",
        "    'model': 'Silverado',\n",
        "    'wheels': {\n",
        "        'size': 170,\n",
        "        'company': 'Apollo'\n",
        "    }\n",
        "}\n",
        "print(truck)\n"
      ]
    },
    {
      "cell_type": "markdown",
      "metadata": {
        "id": "2wttFKH5HisV"
      },
      "source": [
        "## Dictionaries vs. Lists (over time) Example of RUNTIME\n",
        "### When inputting values in a Dictionary vs List"
      ]
    },
    {
      "cell_type": "code",
      "execution_count": 34,
      "metadata": {
        "id": "bOituqIkHisV"
      },
      "outputs": [],
      "source": [
        "import time\n",
        "\n",
        "\n",
        "# generate fake dictionary\n",
        "d = {}\n",
        "\n",
        "for i in range(10000000):\n",
        "    d[i] = 'value'\n",
        "    \n",
        "\n",
        "# generate fake list\n",
        "big_list = [x for x in range(10000000)]"
      ]
    },
    {
      "cell_type": "code",
      "execution_count": 35,
      "metadata": {
        "id": "xuqha13FHisV",
        "colab": {
          "base_uri": "https://localhost:8080/"
        },
        "outputId": "bbfaef2f-8ba9-45b9-8e4e-b314ba30fc06"
      },
      "outputs": [
        {
          "output_type": "stream",
          "name": "stdout",
          "text": [
            "value\n",
            "Elapsed time for dictionary: 0.0019905567169189453\n",
            "9999999\n",
            "Elapsed time for list: 0.7865943908691406\n"
          ]
        }
      ],
      "source": [
        "# tracking time for dictionary\n",
        "start_time = time.time()\n",
        "\n",
        "print(d[9999999])\n",
        "\n",
        "end_time = time.time() - start_time\n",
        "\n",
        "print('Elapsed time for dictionary: {}'.format(end_time))\n",
        "\n",
        "\n",
        "# tracking time for list\n",
        "start_time = time.time()\n",
        "\n",
        "for i in range(len(big_list)):\n",
        "    if i == 9999999:\n",
        "        print(i)\n",
        "\n",
        "end_time = time.time() - start_time\n",
        "\n",
        "print('Elapsed time for list: {}'.format(end_time))"
      ]
    },
    {
      "cell_type": "markdown",
      "metadata": {
        "id": "j0eEFOMDHisV"
      },
      "source": [
        "## Exercise #3 - Write a Function that asks someone's name and address, and then stores that into a dictionary, and continues to do so until they choose to 'quit'. Once they quit, the program should print all names and addresses. <br>\n",
        "<p>\n",
        "<b>Proper steps:</b><br>\n",
        "step 1: write a function that takes in information and stores it in a dictionary<br>\n",
        "step 2: define an empty dictionary to work with<br>\n",
        "step 3: create our loop, which asks the user for information until they quit<br>\n",
        "step 4: ask for the information, and store it into variables<br>\n",
        "step 5: check if the user types quit<br>\n",
        "step 5a: print out all information<br>\n",
        "step 5b: break out of the loop<br>\n",
        "step 6: if they didn't quit, add the information to the dictionary<br>\n",
        "step 7: invoke the function by calling it\n",
        "</p>"
      ]
    },
    {
      "cell_type": "code",
      "execution_count": 36,
      "metadata": {
        "id": "31To25GMHisW",
        "colab": {
          "base_uri": "https://localhost:8080/"
        },
        "outputId": "86dd74a6-8277-4807-a716-ca051bb2a937"
      },
      "outputs": [
        {
          "output_type": "stream",
          "name": "stdout",
          "text": [
            "Final list of users\n",
            "{'Abc': 'Lane no 2, Ncity', 'xyz': 'lmn road'}\n"
          ]
        }
      ],
      "source": [
        "from IPython.display import clear_output\n",
        "\n",
        "user_info = {}\n",
        "\n",
        "while True:\n",
        "  uname = input(\"Please input your name: \")\n",
        "  uaddress = input(\"Please input your address: \")\n",
        "  user_info[uname] = uaddress\n",
        "  print(\"List of users so far\")\n",
        "  print(user_info)\n",
        "  response = input(\"Do you want to add more users (Y/N): \")\n",
        "  clear_output()\n",
        "  if (response == 'N'):\n",
        "    break\n",
        "\n",
        "print('Final list of users')\n",
        "print(user_info)\n",
        "\n"
      ]
    },
    {
      "cell_type": "markdown",
      "metadata": {
        "id": "Erwo_BZdHisW"
      },
      "source": [
        "## Set <br>\n",
        "<p>A Set is an unordered collection data type that is iterable (loop), mutable, and has no duplicate elements.<br>Major advantage is that it is highly optimized in checking if something is in the set, as opposed to checking if something is in a list.</p>"
      ]
    },
    {
      "cell_type": "markdown",
      "metadata": {
        "id": "jQr_QMWaHisW"
      },
      "source": [
        "##### Declaring"
      ]
    },
    {
      "cell_type": "code",
      "execution_count": 37,
      "metadata": {
        "id": "5z0oLRu6HisW",
        "colab": {
          "base_uri": "https://localhost:8080/"
        },
        "outputId": "37599663-7ff3-4ac5-e26d-7f10eeefc0ea"
      },
      "outputs": [
        {
          "output_type": "stream",
          "name": "stdout",
          "text": [
            "{16, 11, 13, 15}\n",
            "[11, 13, 15, 16]\n"
          ]
        }
      ],
      "source": [
        "# set() or {}\n",
        "# no order {3, 2, 1} outputs as {1, 2, 3}\n",
        "stud_id = {11, 13, 15, 16, 11}\n",
        "print(stud_id)\n",
        "\n",
        "print(sorted(stud_id))"
      ]
    },
    {
      "cell_type": "markdown",
      "metadata": {
        "id": "S2hkqpwwHisW"
      },
      "source": [
        "##### .add()"
      ]
    },
    {
      "cell_type": "code",
      "execution_count": 38,
      "metadata": {
        "id": "bdbrYiDXHisW",
        "colab": {
          "base_uri": "https://localhost:8080/"
        },
        "outputId": "60a82043-e6b2-4bb5-d901-0811b8b3f9ae"
      },
      "outputs": [
        {
          "output_type": "stream",
          "name": "stdout",
          "text": [
            "{11, 13, 15, 16, 21}\n"
          ]
        }
      ],
      "source": [
        "# set.add()\n",
        "stud_id.add(21)\n",
        "print(stud_id)"
      ]
    },
    {
      "cell_type": "markdown",
      "metadata": {
        "id": "isTXZ5n3HisW"
      },
      "source": [
        "##### .remove()"
      ]
    },
    {
      "cell_type": "code",
      "execution_count": 39,
      "metadata": {
        "id": "goNLwIZJHisW",
        "colab": {
          "base_uri": "https://localhost:8080/"
        },
        "outputId": "fd8c3222-4131-40b8-d7c4-72efe7c4b502"
      },
      "outputs": [
        {
          "output_type": "stream",
          "name": "stdout",
          "text": [
            "{11, 15, 16, 21}\n"
          ]
        }
      ],
      "source": [
        "# removes by value\n",
        "# set.remove()\n",
        "# nums.remove(56)\n",
        "stud_id.remove(13)\n",
        "print(stud_id)"
      ]
    },
    {
      "cell_type": "markdown",
      "metadata": {
        "id": "REJXDUnqHisW"
      },
      "source": [
        "##### .union() "
      ]
    },
    {
      "cell_type": "code",
      "execution_count": 40,
      "metadata": {
        "id": "0wUneCFKHisX",
        "colab": {
          "base_uri": "https://localhost:8080/"
        },
        "outputId": "815949e3-fba1-41d7-d6de-a3d90c5aa2c1"
      },
      "outputs": [
        {
          "output_type": "stream",
          "name": "stdout",
          "text": [
            "{11, 12, 13, 14, 15, 16, 21}\n"
          ]
        }
      ],
      "source": [
        "# Returns a union of two sets, can also use '|' or set.union(set)\n",
        "# joins all numbers, gets rid of duplicates\n",
        "stud_id2 = {12, 14, 13, 21, 11, 12}\n",
        "print(stud_id2 | stud_id)"
      ]
    },
    {
      "cell_type": "markdown",
      "metadata": {
        "id": "76MoUQUdHisX"
      },
      "source": [
        "##### .intersection()"
      ]
    },
    {
      "cell_type": "code",
      "execution_count": 41,
      "metadata": {
        "id": "jdkDFNvpHisX",
        "colab": {
          "base_uri": "https://localhost:8080/"
        },
        "outputId": "cc275b5e-bfe1-47b1-8474-4b36c99645a3"
      },
      "outputs": [
        {
          "output_type": "stream",
          "name": "stdout",
          "text": [
            "{11, 21}\n"
          ]
        }
      ],
      "source": [
        "# Returns an intersection of two sets, can also use '&'\n",
        "# only takes similar elements from both sets\n",
        "stud_id2 = {12, 14, 13, 21, 11, 12}\n",
        "print(stud_id2 & stud_id)"
      ]
    },
    {
      "cell_type": "markdown",
      "metadata": {
        "id": "ieVpthrfHisX"
      },
      "source": [
        "##### .difference()"
      ]
    },
    {
      "cell_type": "code",
      "execution_count": 42,
      "metadata": {
        "id": "JLW_hfzzHisX",
        "colab": {
          "base_uri": "https://localhost:8080/"
        },
        "outputId": "ee788c20-0479-4cdf-9b25-a2a3e3e3dcd6"
      },
      "outputs": [
        {
          "output_type": "stream",
          "name": "stdout",
          "text": [
            "{12, 13, 14}\n"
          ]
        }
      ],
      "source": [
        "# Returns a set containing all the elements of invoking set that are not in the second set, can also use '-'\n",
        "# only takes values from the first set that are not in the second set\n",
        "# order matters\n",
        "stud_id2 = {12, 14, 13, 21, 11, 12}\n",
        "print(stud_id2 - stud_id)\n"
      ]
    },
    {
      "cell_type": "markdown",
      "metadata": {
        "id": "1YPhzW9SHisX"
      },
      "source": [
        "##### .clear()"
      ]
    },
    {
      "cell_type": "code",
      "execution_count": 43,
      "metadata": {
        "id": "-CgrL8pXHisX"
      },
      "outputs": [],
      "source": [
        "# Empties the whole set\n",
        "# set.clear()\n",
        "stud_id2.clear()"
      ]
    },
    {
      "cell_type": "markdown",
      "metadata": {
        "id": "WFhi-6VOHisX"
      },
      "source": [
        "##### Frozenset <br>\n",
        "<p>Frozen sets are immutable objects that only support methods and operators that produce a result without affecting the frozen set or sets to which they are applied.</p><br><b>Unique & Immutable</b>"
      ]
    },
    {
      "cell_type": "code",
      "execution_count": 44,
      "metadata": {
        "id": "F5z4W2DNHisX",
        "colab": {
          "base_uri": "https://localhost:8080/",
          "height": 235
        },
        "outputId": "27995f97-59cc-416b-c5f4-c8aba0bdaab9"
      },
      "outputs": [
        {
          "output_type": "stream",
          "name": "stdout",
          "text": [
            "{18, 19, 11, 13, 14}\n",
            "{18, 19, 20, 11, 13, 14}\n"
          ]
        },
        {
          "output_type": "error",
          "ename": "AttributeError",
          "evalue": "ignored",
          "traceback": [
            "\u001b[0;31m---------------------------------------------------------------------------\u001b[0m",
            "\u001b[0;31mAttributeError\u001b[0m                            Traceback (most recent call last)",
            "\u001b[0;32m<ipython-input-44-ea8c06266693>\u001b[0m in \u001b[0;36m<module>\u001b[0;34m\u001b[0m\n\u001b[1;32m      8\u001b[0m \u001b[0mprint\u001b[0m\u001b[0;34m(\u001b[0m\u001b[0mstud_id\u001b[0m\u001b[0;34m)\u001b[0m\u001b[0;34m\u001b[0m\u001b[0;34m\u001b[0m\u001b[0m\n\u001b[1;32m      9\u001b[0m \u001b[0;34m\u001b[0m\u001b[0m\n\u001b[0;32m---> 10\u001b[0;31m \u001b[0mf_stud_id\u001b[0m\u001b[0;34m.\u001b[0m\u001b[0madd\u001b[0m\u001b[0;34m(\u001b[0m\u001b[0;36m20\u001b[0m\u001b[0;34m)\u001b[0m\u001b[0;34m\u001b[0m\u001b[0;34m\u001b[0m\u001b[0m\n\u001b[0m",
            "\u001b[0;31mAttributeError\u001b[0m: 'frozenset' object has no attribute 'add'"
          ]
        }
      ],
      "source": [
        "# frozenset([])\n",
        "stud_id = {11, 13, 14, 18, 19, 18}\n",
        "print(stud_id)\n",
        "\n",
        "f_stud_id = frozenset(stud_id)\n",
        "\n",
        "stud_id.add(20)\n",
        "print(stud_id)\n",
        "\n",
        "f_stud_id.add(20)"
      ]
    },
    {
      "cell_type": "markdown",
      "metadata": {
        "id": "VfLVnUYyHisX"
      },
      "source": [
        "## Modules"
      ]
    },
    {
      "cell_type": "markdown",
      "metadata": {
        "id": "5XWGrnEMHisX"
      },
      "source": [
        "##### Importing Entire Modules"
      ]
    },
    {
      "cell_type": "code",
      "execution_count": 46,
      "metadata": {
        "id": "oC_83JKIHisY",
        "colab": {
          "base_uri": "https://localhost:8080/"
        },
        "outputId": "ed7f3e0e-a0da-427a-c483-74fe5d43a31a"
      },
      "outputs": [
        {
          "output_type": "stream",
          "name": "stdout",
          "text": [
            "3.141592653589793\n",
            "3\n"
          ]
        }
      ],
      "source": [
        "# import or from 'xxx' import *\n",
        "# import math\n",
        "from math import pi, floor\n",
        "print(pi)\n",
        "print(floor(pi))"
      ]
    },
    {
      "cell_type": "markdown",
      "metadata": {
        "id": "YHXsyhqRHisY"
      },
      "source": [
        "##### Importing Methods Only"
      ]
    },
    {
      "cell_type": "code",
      "execution_count": 47,
      "metadata": {
        "id": "dCA4EGTCHisY",
        "colab": {
          "base_uri": "https://localhost:8080/"
        },
        "outputId": "0c9c6485-5a99-4894-a572-21fb27d7f3af"
      },
      "outputs": [
        {
          "output_type": "stream",
          "name": "stdout",
          "text": [
            "3.141592653589793\n",
            "3\n"
          ]
        }
      ],
      "source": [
        "# from 'xxx' import 'xxx'\n",
        "# from math import floor\n",
        "from math import pi, floor\n",
        "print(pi)\n",
        "print(floor(pi))"
      ]
    },
    {
      "cell_type": "markdown",
      "metadata": {
        "id": "ijJvvyRaHisY"
      },
      "source": [
        "##### Using the 'as' Keyword"
      ]
    },
    {
      "cell_type": "code",
      "execution_count": 48,
      "metadata": {
        "id": "JMiml_pJHisY",
        "colab": {
          "base_uri": "https://localhost:8080/"
        },
        "outputId": "b8693408-ac99-4bcb-c191-b50a04550eeb"
      },
      "outputs": [
        {
          "output_type": "stream",
          "name": "stdout",
          "text": [
            "3.141592653589793\n",
            "3\n"
          ]
        }
      ],
      "source": [
        "# from 'xxx' import 'xxx' as 'xxx' or import 'xxx' as 'xxx'\n",
        "# from math import floor as f\n",
        "from math import pi as p, floor as f\n",
        "print(p)\n",
        "print(f(p))"
      ]
    },
    {
      "cell_type": "markdown",
      "metadata": {
        "id": "M_-tDS0UHisY"
      },
      "source": [
        "##### Creating a Module"
      ]
    },
    {
      "cell_type": "code",
      "execution_count": 49,
      "metadata": {
        "id": "lVzPdKB6HisY",
        "colab": {
          "base_uri": "https://localhost:8080/"
        },
        "outputId": "260c931b-5c4e-43ae-ef14-565ca343d3c6"
      },
      "outputs": [
        {
          "output_type": "stream",
          "name": "stdout",
          "text": [
            "Your name is : QQ\n"
          ]
        }
      ],
      "source": [
        "# Mount your google drive in google colab\n",
        "from google.colab import files\n",
        "from mymodule import print_name\n",
        "print_name('QQ')\n",
        "\n"
      ]
    },
    {
      "cell_type": "markdown",
      "metadata": {
        "id": "WtAhbJ-jHisY"
      },
      "source": [
        "# Exercises"
      ]
    },
    {
      "cell_type": "markdown",
      "metadata": {
        "id": "c5FolYebHisY"
      },
      "source": [
        "### 1) Build a Shopping Cart <br>\n",
        "<p><b>You can use either lists or dictionaries. The program should have the following capabilities:</b><br><br>\n",
        "1) Takes in input <br>\n",
        "2) Stores user input into a dictionary or list <br>\n",
        "3) The User can add or delete items <br>\n",
        "4) The User can see current shopping list <br>\n",
        "5) The program Loops until user 'quits' <br>\n",
        "6) Upon quiting the program, print out all items in the user's list <br>\n",
        "</p>"
      ]
    },
    {
      "cell_type": "code",
      "execution_count": 52,
      "metadata": {
        "id": "-PHu7fjsHisY",
        "colab": {
          "base_uri": "https://localhost:8080/"
        },
        "outputId": "cc289764-d50a-43ba-fcf1-e2e662ff2994"
      },
      "outputs": [
        {
          "output_type": "stream",
          "name": "stdout",
          "text": [
            "Shopping Cart: \n",
            "1 - Pen\n",
            "2 - Table\n",
            "3 - Watch\n"
          ]
        }
      ],
      "source": [
        "from IPython.display import clear_output\n",
        "# Ask the user four bits of input: Do you want to : Show/Add/Delete or Quit?\n",
        "\n",
        "#shopping_list = ['Pen', 'Laptop', 'Watch']\n",
        "shopping_list = []\n",
        "\n",
        "def show_cart(shopping_list):\n",
        "  if shopping_list == []:\n",
        "    print(\"Your Shopping Cart is Empty\")\n",
        "  else:\n",
        "    print(\"Shopping Cart: \")\n",
        "    i = 1\n",
        "    for item in shopping_list:\n",
        "      print(i, \"-\", item)\n",
        "      i = i+1\n",
        "\n",
        "while True:\n",
        "  print(\"***************************************************************\")\n",
        "  print(\"Please select the option\")\n",
        "  print(\"1. Show Shopping list\")\n",
        "  print(\"2. Add Product\")\n",
        "  print(\"3. Delete Product\")\n",
        "  print(\"4. Quit\")\n",
        "  option = input(\"Please Input Your Option: \")\n",
        "  clear_output()\n",
        "  if (option == '1'):\n",
        "    show_cart(shopping_list)\n",
        "  elif(option == '2'):\n",
        "    product_name = input(\"Please Input Name of the product to add to your shopping list: \")\n",
        "    if(product_name.lower() in (item.lower() for item in shopping_list)):\n",
        "      print(\"{} is already in your cart\".format(product_name))\n",
        "    else:\n",
        "      shopping_list.append(product_name.title())\n",
        "      print(\"{} - has been added to your shopping cart\".format(product_name))\n",
        "  elif(option == '3'):\n",
        "    show_cart(shopping_list)\n",
        "    if(shopping_list != []):\n",
        "      product_to_delete = input(\"Please Input Name of the product to remove from your shopping list: \")\n",
        "      if(product_to_delete.lower() in (item.lower() for item in shopping_list)):\n",
        "        shopping_list.remove(product_to_delete.title())\n",
        "        print(\"{} - has been removed from your shopping list\".format(product_to_delete))\n",
        "      else:\n",
        "        print(\"Input product is not in your cart. Please input correct product name to delete\")\n",
        "    #show_cart(shopping_list)\n",
        "  elif (option == '4'):\n",
        "    show_cart(shopping_list)\n",
        "    break\n",
        "  else:\n",
        "    print(\"Wrong Input, Please input the correct option\")"
      ]
    },
    {
      "cell_type": "markdown",
      "metadata": {
        "id": "AhbC2bBIHisY"
      },
      "source": [
        "### 2) Create a Module in VS Code and Import It into jupyter notebook <br>\n",
        "<p><b>Module should have the following capabilities:</b><br><br>\n",
        "1) Has a function to calculate the square footage of a house <br>\n",
        "    <b>Reminder of Formula: Length X Width == Area<br>\n",
        "        <hr>\n",
        "2) Has a function to calculate the circumference of a circle <br><br>\n",
        "<b>Program in Jupyter Notebook should take in user input and use imported functions to calculate a circle's circumference or a houses square footage</b>\n",
        "</p>"
      ]
    },
    {
      "cell_type": "code",
      "execution_count": 53,
      "metadata": {
        "id": "B9a66YKzHisZ",
        "colab": {
          "base_uri": "https://localhost:8080/"
        },
        "outputId": "8ccfe2fa-13bb-4907-e5d3-833e5e93e042"
      },
      "outputs": [
        {
          "output_type": "stream",
          "name": "stdout",
          "text": [
            "Please Input Width of House: 16\n",
            "Please Input Length of House: 50\n",
            "Area of house is:  800.0\n",
            "Please Input Radius of Circle: 40\n",
            "Circumference of Circle is:  251.33\n"
          ]
        }
      ],
      "source": [
        "from google.colab import files\n",
        "from mymath import area_of_rectangle, circle_circumference\n",
        "width = float(input(\"Please Input Width of House: \"))\n",
        "length = float(input(\"Please Input Length of House: \"))\n",
        "print(\"Area of house is: \", round(area_of_rectangle(width,length),2))\n",
        "\n",
        "radius = float(input(\"Please Input Radius of Circle: \"))\n",
        "print(\"Circumference of Circle is: \", round(circle_circumference(radius),2))\n"
      ]
    }
  ],
  "metadata": {
    "kernelspec": {
      "display_name": "Python 3",
      "language": "python",
      "name": "python3"
    },
    "language_info": {
      "codemirror_mode": {
        "name": "ipython",
        "version": 3
      },
      "file_extension": ".py",
      "mimetype": "text/x-python",
      "name": "python",
      "nbconvert_exporter": "python",
      "pygments_lexer": "ipython3",
      "version": "3.7.6"
    },
    "colab": {
      "provenance": []
    }
  },
  "nbformat": 4,
  "nbformat_minor": 0
}